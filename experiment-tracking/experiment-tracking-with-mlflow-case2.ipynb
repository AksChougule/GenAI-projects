{
 "cells": [
  {
   "cell_type": "markdown",
   "id": "fdfbe246",
   "metadata": {},
   "source": [
    "Author: Akshay Chougule\n",
    "\n",
    "Originally Created On: Nov 19, 2023\n",
    "\n",
    "Credit: Using the [mlflow documentation](https://mlflow.org/docs/latest/model-evaluation/index.html) experiment tracking\n",
    "\n",
    "Goal of the notebook:\n",
    "- LangChain setup for a RAG-based system using a web page/ web doc \n",
    "- Learn expriment tracking with LLMs\n",
    "- Learn to use SoTA LLMs to evaluate the responses of LLM under evaluation (Yes, LLM to evaluate a LLM)"
   ]
  },
  {
   "cell_type": "code",
   "execution_count": 1,
   "id": "b96336e9-1ded-4010-a030-51817d04b6c8",
   "metadata": {},
   "outputs": [
    {
     "name": "stderr",
     "output_type": "stream",
     "text": [
      "/home/ubuntu/anaconda3/envs/py39/lib/python3.9/site-packages/pydantic/_internal/_fields.py:128: UserWarning: Field \"model_server_url\" has conflict with protected namespace \"model_\".\n",
      "\n",
      "You may be able to resolve this warning by setting `model_config['protected_namespaces'] = ()`.\n",
      "  warnings.warn(\n",
      "/home/ubuntu/anaconda3/envs/py39/lib/python3.9/site-packages/pydantic/_internal/_config.py:317: UserWarning: Valid config keys have changed in V2:\n",
      "* 'schema_extra' has been renamed to 'json_schema_extra'\n",
      "  warnings.warn(message, UserWarning)\n"
     ]
    }
   ],
   "source": [
    "import os\n",
    "import pandas as pd\n",
    "import mlflow"
   ]
  },
  {
   "cell_type": "code",
   "execution_count": 2,
   "id": "ccc7a932-f8ce-479b-ab0c-290e6fda2ab0",
   "metadata": {},
   "outputs": [],
   "source": [
    "import sys\n",
    "sys.path.insert(1, '/home/ubuntu/codebase/my_github/generative-ai-experiments/')\n",
    "from Constants import OPENAI_API_KEY"
   ]
  },
  {
   "cell_type": "code",
   "execution_count": 3,
   "id": "30f891f5",
   "metadata": {},
   "outputs": [],
   "source": [
    "os.environ[\"OPENAI_API_KEY\"] = OPENAI_API_KEY"
   ]
  },
  {
   "cell_type": "code",
   "execution_count": 4,
   "id": "edd6a90e-b2ff-4b72-94c3-a7518783c3d1",
   "metadata": {},
   "outputs": [],
   "source": [
    "from langchain.chains import RetrievalQA\n",
    "from langchain.document_loaders import WebBaseLoader\n",
    "from langchain.embeddings.openai import OpenAIEmbeddings\n",
    "from langchain.llms import OpenAI\n",
    "from langchain.text_splitter import CharacterTextSplitter\n",
    "from langchain.vectorstores import Chroma"
   ]
  },
  {
   "cell_type": "markdown",
   "id": "83623229",
   "metadata": {},
   "source": [
    "#### Since the GLM-1 trials are generating a lot of buzz, let's look at one of them."
   ]
  },
  {
   "cell_type": "code",
   "execution_count": 5,
   "id": "b02f93a8",
   "metadata": {},
   "outputs": [
    {
     "name": "stderr",
     "output_type": "stream",
     "text": [
      "Created a chunk of size 2376, which is longer than the specified 1000\n",
      "Created a chunk of size 1744, which is longer than the specified 1000\n"
     ]
    }
   ],
   "source": [
    "loader = WebBaseLoader(\"https://classic.clinicaltrials.gov/ct2/show/NCT02496611\")\n",
    "\n",
    "documents = loader.load()\n",
    "text_splitter = CharacterTextSplitter(chunk_size=1000, chunk_overlap=150)\n",
    "texts = text_splitter.split_documents(documents)\n",
    "\n",
    "embeddings = OpenAIEmbeddings()\n",
    "docsearch = Chroma.from_documents(texts, embeddings)\n",
    "\n",
    "qa = RetrievalQA.from_chain_type(\n",
    "    llm=OpenAI(temperature=0),\n",
    "    chain_type=\"stuff\",\n",
    "    retriever=docsearch.as_retriever(),\n",
    "    return_source_documents=True,\n",
    ")"
   ]
  },
  {
   "cell_type": "markdown",
   "id": "1ad916ff",
   "metadata": {},
   "source": [
    "### Evaluate the RAG system using mlflow.evaluate()\n",
    "\n",
    "Create a simple function that runs each input through the RAG chain"
   ]
  },
  {
   "cell_type": "code",
   "execution_count": 13,
   "id": "8c677cd4",
   "metadata": {},
   "outputs": [],
   "source": [
    "def model(input_df):\n",
    "    answer = []\n",
    "    for index, row in input_df.iterrows():\n",
    "        answer.append(qa(row[\"questions\"]))\n",
    "\n",
    "    return answer"
   ]
  },
  {
   "cell_type": "code",
   "execution_count": 14,
   "id": "4d62492a",
   "metadata": {},
   "outputs": [],
   "source": [
    "# Create an eval dataset\n",
    "\n",
    "eval_df = pd.DataFrame(\n",
    "    {\n",
    "        \"questions\": [\n",
    "            \"What type of masking or binding is provided for this study?\",\n",
    "            \"Can older adults with age over 65 were part of this study?\",\n",
    "            \"Were patients treated with growth harmones be part of this study?\",\n",
    "            \"Are there any publications associated with this study?\",\n",
    "        ],\n",
    "    }\n",
    ")"
   ]
  },
  {
   "cell_type": "code",
   "execution_count": 8,
   "id": "15d6af29",
   "metadata": {},
   "outputs": [
    {
     "data": {
      "text/plain": [
       "['__name__',\n",
       " '__doc__',\n",
       " '__package__',\n",
       " '__loader__',\n",
       " '__spec__',\n",
       " '__path__',\n",
       " '__file__',\n",
       " '__cached__',\n",
       " '__builtins__',\n",
       " 'base',\n",
       " 'MetricValue',\n",
       " 'metric_definitions',\n",
       " '_accuracy_eval_fn',\n",
       " '_ari_eval_fn',\n",
       " '_f1_score_eval_fn',\n",
       " '_flesch_kincaid_eval_fn',\n",
       " '_mae_eval_fn',\n",
       " '_mape_eval_fn',\n",
       " '_max_error_eval_fn',\n",
       " '_mse_eval_fn',\n",
       " '_precision_at_k_eval_fn',\n",
       " '_precision_eval_fn',\n",
       " '_r2_score_eval_fn',\n",
       " '_recall_at_k_eval_fn',\n",
       " '_recall_eval_fn',\n",
       " '_rmse_eval_fn',\n",
       " '_rouge1_eval_fn',\n",
       " '_rouge2_eval_fn',\n",
       " '_rougeL_eval_fn',\n",
       " '_rougeLsum_eval_fn',\n",
       " '_token_count_eval_fn',\n",
       " '_toxicity_eval_fn',\n",
       " 'EvaluationMetric',\n",
       " 'make_metric',\n",
       " 'experimental',\n",
       " 'latency',\n",
       " 'token_count',\n",
       " 'toxicity',\n",
       " 'flesch_kincaid_grade_level',\n",
       " 'ari_grade_level',\n",
       " 'exact_match',\n",
       " 'rouge1',\n",
       " 'rouge2',\n",
       " 'rougeL',\n",
       " 'rougeLsum',\n",
       " 'precision_at_k',\n",
       " 'recall_at_k',\n",
       " 'mae',\n",
       " 'mse',\n",
       " 'rmse',\n",
       " 'r2_score',\n",
       " 'max_error',\n",
       " 'mape',\n",
       " 'recall_score',\n",
       " 'precision_score',\n",
       " 'f1_score',\n",
       " '__all__']"
      ]
     },
     "execution_count": 8,
     "metadata": {},
     "output_type": "execute_result"
    }
   ],
   "source": [
    "mlflow.metrics.__dir__()"
   ]
  },
  {
   "cell_type": "code",
   "execution_count": 10,
   "id": "8f30b0cd",
   "metadata": {},
   "outputs": [
    {
     "name": "stdout",
     "output_type": "stream",
     "text": [
      "EvaluationMetric(name=faithfulness, greater_is_better=True, long_name=faithfulness, version=v1, metric_details=\n",
      "Task:\n",
      "You must return the following fields in your response one below the other:\n",
      "score: Your numerical score for the model's faithfulness based on the rubric\n",
      "justification: Your step-by-step reasoning about the model's faithfulness score\n",
      "\n",
      "You are an impartial judge. You will be given an input that was sent to a machine\n",
      "learning model, and you will be given an output that the model produced. You\n",
      "may also be given additional information that was used by the model to generate the output.\n",
      "\n",
      "Your task is to determine a numerical score called faithfulness based on the input and output.\n",
      "A definition of faithfulness and a grading rubric are provided below.\n",
      "You must use the grading rubric to determine your score. You must also justify your score.\n",
      "\n",
      "Examples could be included below for reference. Make sure to use them as references and to\n",
      "understand them before completing the task.\n",
      "\n",
      "Input:\n",
      "{input}\n",
      "\n",
      "Output:\n",
      "{output}\n",
      "\n",
      "{grading_context_columns}\n",
      "\n",
      "Metric definition:\n",
      "Faithfulness is only evaluated with the provided output and provided context, please ignore the provided input entirely when scoring faithfulness. Faithfulness assesses how much of the provided output is factually consistent with the provided context. A higher score indicates that a higher proportion of claims present in the output can be derived from the provided context. Faithfulness does not consider how much extra information from the context is not present in the output.\n",
      "\n",
      "Grading rubric:\n",
      "Faithfulness: Below are the details for different scores:\n",
      "- Score 1: None of the claims in the output can be inferred from the provided context.\n",
      "- Score 2: Some of the claims in the output can be inferred from the provided context, but the majority of the output is missing from, inconsistent with, or contradictory to the provided context.\n",
      "- Score 3: Half or more of the claims in the output can be inferred from the provided context.\n",
      "- Score 4: Most of the claims in the output can be inferred from the provided context, with very little information that is not directly supported by the provided context.\n",
      "- Score 5: All of the claims in the output are directly supported by the provided context, demonstrating high faithfulness to the provided context.\n",
      "\n",
      "Examples:\n",
      "\n",
      "Example Input:\n",
      "Can a 25 year pregnant women be part of this?\n",
      "\n",
      "Example Output:\n",
      "Yes, it would a really beneficial for a 25 year old pregnant woman since this study can help with better neurological development of fetus.\n",
      "\n",
      "Additional information used by the model:\n",
      "key: context\n",
      "value:\n",
      "Exclusion Criteria. Females: currently pregnant, planning to become pregnant, or unwilling to use 2 or more acceptable methods of contraception when engaging in sexual activity throughout the study. Inclusion criteria: 12-17 years old\n",
      "\n",
      "Example score: 1\n",
      "Example justification: The output provides a incorrect information, and cites reason which are not part of the source.\n",
      "        \n",
      "\n",
      "Example Input:\n",
      "Can a 25 year pregnant women be part of this?\n",
      "\n",
      "Example Output:\n",
      "mlflow.autolog(disable=True) will disable autologging for all functions.\n",
      "\n",
      "Additional information used by the model:\n",
      "key: context\n",
      "value:\n",
      "Exclusion Criteria. Females: currently pregnant, planning to become pregnant, or unwilling to use 2 or more acceptable methods of contraception when engaging in sexual activity throughout the study. Inclusion criteria. 12-17 years old\n",
      "\n",
      "Example score: 5\n",
      "Example justification: A pregnant 25 year old can not be part of this trial as she would not be eligible due to the exclusion criteria prohibiting females who are currently pregnant, planning to become pregnant, or unwilling to use 2 or more acceptable methods of contraception when engaging in sexual activity throughout the study. Additionally, there is age retriction of 12 to 17 years which would also exclude the individuals from participating in the study.\n",
      "        \n",
      "\n",
      "You must return the following fields in your response one below the other:\n",
      "score: Your numerical score for the model's faithfulness based on the rubric\n",
      "justification: Your step-by-step reasoning about the model's faithfulness score\n",
      "    )\n"
     ]
    }
   ],
   "source": [
    "# Create a faithfulness metric\n",
    "\n",
    "from mlflow.metrics.genai import faithfulness, EvaluationExample\n",
    "\n",
    "# Create a good and bad example for faithfulness in the context of this problem\n",
    "faithfulness_examples = [\n",
    "    EvaluationExample(\n",
    "        input=\"Can a 25 year pregnant women be part of this?\",\n",
    "        output=\"Yes, it would a really beneficial for a 25 year old pregnant woman since this study can help with better neurological development of fetus.\",\n",
    "        score=1,\n",
    "        justification=\"The output provides a incorrect information, and cites reason which are not part of the source.\",\n",
    "        grading_context={\n",
    "            \"context\": \"Exclusion Criteria. Females: currently pregnant, planning to become pregnant, or unwilling to use 2 or more acceptable methods of contraception when engaging in sexual activity throughout the study. Inclusion criteria: 12-17 years old\"\n",
    "        },\n",
    "    ),\n",
    "    EvaluationExample(\n",
    "        input=\"Can a 25 year pregnant women be part of this?\",\n",
    "        output=\"mlflow.autolog(disable=True) will disable autologging for all functions.\",\n",
    "        score=5,\n",
    "        justification=\"A pregnant 25 year old can not be part of this trial as she would not be eligible due to the exclusion criteria prohibiting females who are currently pregnant, planning to become pregnant, or unwilling to use 2 or more acceptable methods of contraception when engaging in sexual activity throughout the study. Additionally, there is age retriction of 12 to 17 years which would also exclude the individuals from participating in the study.\",\n",
    "        grading_context={\n",
    "            \"context\": \"Exclusion Criteria. Females: currently pregnant, planning to become pregnant, or unwilling to use 2 or more acceptable methods of contraception when engaging in sexual activity throughout the study. Inclusion criteria. 12-17 years old\"\n",
    "        },\n",
    "    ),\n",
    "]\n",
    "\n",
    "faithfulness_metric = faithfulness(model=\"openai:/gpt-4\", examples=faithfulness_examples)\n",
    "print(faithfulness_metric)\n"
   ]
  },
  {
   "cell_type": "code",
   "execution_count": 11,
   "id": "f657994a",
   "metadata": {},
   "outputs": [
    {
     "name": "stdout",
     "output_type": "stream",
     "text": [
      "EvaluationMetric(name=relevance, greater_is_better=True, long_name=relevance, version=v1, metric_details=\n",
      "Task:\n",
      "You must return the following fields in your response one below the other:\n",
      "score: Your numerical score for the model's relevance based on the rubric\n",
      "justification: Your step-by-step reasoning about the model's relevance score\n",
      "\n",
      "You are an impartial judge. You will be given an input that was sent to a machine\n",
      "learning model, and you will be given an output that the model produced. You\n",
      "may also be given additional information that was used by the model to generate the output.\n",
      "\n",
      "Your task is to determine a numerical score called relevance based on the input and output.\n",
      "A definition of relevance and a grading rubric are provided below.\n",
      "You must use the grading rubric to determine your score. You must also justify your score.\n",
      "\n",
      "Examples could be included below for reference. Make sure to use them as references and to\n",
      "understand them before completing the task.\n",
      "\n",
      "Input:\n",
      "{input}\n",
      "\n",
      "Output:\n",
      "{output}\n",
      "\n",
      "{grading_context_columns}\n",
      "\n",
      "Metric definition:\n",
      "Relevance encompasses the appropriateness, significance, and applicability of the output with respect to both the input and context. Scores should reflect the extent to which the output directly addresses the question provided in the input, given the provided context.\n",
      "\n",
      "Grading rubric:\n",
      "Relevance: Below are the details for different scores:- Score 1: The output doesn't mention anything about the question or is completely irrelevant to the provided context.\n",
      "- Score 2: The output provides some relevance to the question and is somehow related to the provided context.\n",
      "- Score 3: The output mostly answers the question and is largely consistent with the provided context.\n",
      "- Score 4: The output answers the question and is consistent with the provided context.\n",
      "- Score 5: The output answers the question comprehensively using the provided context.\n",
      "\n",
      "Examples:\n",
      "\n",
      "Example Input:\n",
      "How is MLflow related to Databricks?\n",
      "\n",
      "Example Output:\n",
      "Databricks is a data engineering and analytics platform designed to help organizations process and analyze large amounts of data. Databricks is a company specializing in big data and machine learning solutions.\n",
      "\n",
      "Additional information used by the model:\n",
      "key: context\n",
      "value:\n",
      "MLflow is an open-source platform for managing the end-to-end machine learning (ML) lifecycle. It was developed by Databricks, a company that specializes in big data and machine learning solutions. MLflow is designed to address the challenges that data scientists and machine learning engineers face when developing, training, and deploying machine learning models.\n",
      "\n",
      "Example score: 2\n",
      "Example justification: The output provides relevant information about Databricks, mentioning it as a company specializing in big data and machine learning solutions. However, it doesn't directly address how MLflow is related to Databricks, which is the specific question asked in the input. Therefore, the output is only somewhat related to the provided context.\n",
      "        \n",
      "\n",
      "Example Input:\n",
      "How is MLflow related to Databricks?\n",
      "\n",
      "Example Output:\n",
      "MLflow is a product created by Databricks to enhance the efficiency of machine learning processes.\n",
      "\n",
      "Additional information used by the model:\n",
      "key: context\n",
      "value:\n",
      "MLflow is an open-source platform for managing the end-to-end machine learning (ML) lifecycle. It was developed by Databricks, a company that specializes in big data and machine learning solutions. MLflow is designed to address the challenges that data scientists and machine learning engineers face when developing, training, and deploying machine learning models.\n",
      "\n",
      "Example score: 4\n",
      "Example justification: The output provides a relevant and accurate statement about the relationship between MLflow and Databricks. While it doesn't provide extensive detail, it still offers a substantial and meaningful response. To achieve a score of 5, the response could be further improved by providing additional context or details about how MLflow specifically functions within the Databricks ecosystem.\n",
      "        \n",
      "\n",
      "You must return the following fields in your response one below the other:\n",
      "score: Your numerical score for the model's relevance based on the rubric\n",
      "justification: Your step-by-step reasoning about the model's relevance score\n",
      "    )\n"
     ]
    }
   ],
   "source": [
    "from mlflow.metrics.genai import relevance, EvaluationExample\n",
    "\n",
    "relevance_metric = relevance(model=\"openai:/gpt-4\")\n",
    "print(relevance_metric)"
   ]
  },
  {
   "cell_type": "code",
   "execution_count": 15,
   "id": "85c37504",
   "metadata": {},
   "outputs": [
    {
     "name": "stderr",
     "output_type": "stream",
     "text": [
      "/home/ubuntu/anaconda3/envs/py39/lib/python3.9/site-packages/mlflow/data/digest_utils.py:26: FutureWarning: DataFrame.applymap has been deprecated. Use DataFrame.map instead.\n",
      "  string_columns = trimmed_df.columns[(df.applymap(type) == str).all(0)]\n",
      "/home/ubuntu/anaconda3/envs/py39/lib/python3.9/site-packages/mlflow/models/evaluation/base.py:414: FutureWarning: DataFrame.applymap has been deprecated. Use DataFrame.map instead.\n",
      "  data = data.applymap(_hash_array_like_element_as_bytes)\n",
      "2023/11/19 18:56:07 INFO mlflow.models.evaluation.base: Evaluating the model with the default evaluator.\n",
      "2023/11/19 18:56:07 INFO mlflow.models.evaluation.default_evaluator: Computing model predictions.\n",
      "2023/11/19 18:56:11 INFO mlflow.models.evaluation.default_evaluator: Testing metrics on first row...\n",
      "2023/11/19 18:56:11 WARNING mlflow.metrics.metric_definitions: Failed to load 'toxicity' metric (error: ModuleNotFoundError(\"No module named 'evaluate'\")), skipping metric logging.\n",
      "2023/11/19 18:56:11 WARNING mlflow.metrics.metric_definitions: Failed to load flesch kincaid metric, skipping metric logging.\n",
      "2023/11/19 18:56:11 WARNING mlflow.metrics.metric_definitions: Failed to load automated readability index metric, skipping metric logging.\n"
     ]
    },
    {
     "data": {
      "application/vnd.jupyter.widget-view+json": {
       "model_id": "8a15dcbae9024059b83e97c0fd9dcc89",
       "version_major": 2,
       "version_minor": 0
      },
      "text/plain": [
       "  0%|          | 0/1 [00:00<?, ?it/s]"
      ]
     },
     "metadata": {},
     "output_type": "display_data"
    },
    {
     "data": {
      "application/vnd.jupyter.widget-view+json": {
       "model_id": "7b8bc8f590e745b88901f746b80d1d97",
       "version_major": 2,
       "version_minor": 0
      },
      "text/plain": [
       "  0%|          | 0/1 [00:00<?, ?it/s]"
      ]
     },
     "metadata": {},
     "output_type": "display_data"
    },
    {
     "name": "stderr",
     "output_type": "stream",
     "text": [
      "2023/11/19 18:56:20 INFO mlflow.models.evaluation.default_evaluator: Evaluating builtin metrics: token_count\n",
      "2023/11/19 18:56:20 INFO mlflow.models.evaluation.default_evaluator: Evaluating builtin metrics: toxicity\n",
      "2023/11/19 18:56:20 WARNING mlflow.metrics.metric_definitions: Failed to load 'toxicity' metric (error: ModuleNotFoundError(\"No module named 'evaluate'\")), skipping metric logging.\n",
      "2023/11/19 18:56:20 INFO mlflow.models.evaluation.default_evaluator: Evaluating builtin metrics: flesch_kincaid_grade_level\n",
      "2023/11/19 18:56:20 WARNING mlflow.metrics.metric_definitions: Failed to load flesch kincaid metric, skipping metric logging.\n",
      "2023/11/19 18:56:20 INFO mlflow.models.evaluation.default_evaluator: Evaluating builtin metrics: ari_grade_level\n",
      "2023/11/19 18:56:20 WARNING mlflow.metrics.metric_definitions: Failed to load automated readability index metric, skipping metric logging.\n",
      "2023/11/19 18:56:20 INFO mlflow.models.evaluation.default_evaluator: Evaluating builtin metrics: exact_match\n",
      "2023/11/19 18:56:20 INFO mlflow.models.evaluation.default_evaluator: Evaluating metrics: faithfulness\n"
     ]
    },
    {
     "data": {
      "application/vnd.jupyter.widget-view+json": {
       "model_id": "c1814be124e9455a959584e67a6dc94e",
       "version_major": 2,
       "version_minor": 0
      },
      "text/plain": [
       "  0%|          | 0/4 [00:00<?, ?it/s]"
      ]
     },
     "metadata": {},
     "output_type": "display_data"
    },
    {
     "name": "stderr",
     "output_type": "stream",
     "text": [
      "2023/11/19 18:56:38 INFO mlflow.models.evaluation.default_evaluator: Evaluating metrics: relevance\n"
     ]
    },
    {
     "data": {
      "application/vnd.jupyter.widget-view+json": {
       "model_id": "ad22d06a8f4f48b6b83b73aba7ad0808",
       "version_major": 2,
       "version_minor": 0
      },
      "text/plain": [
       "  0%|          | 0/4 [00:00<?, ?it/s]"
      ]
     },
     "metadata": {},
     "output_type": "display_data"
    },
    {
     "name": "stdout",
     "output_type": "stream",
     "text": [
      "{'faithfulness/v1/mean': 5.0, 'faithfulness/v1/variance': 0.0, 'faithfulness/v1/p90': 5.0, 'relevance/v1/mean': 5.0, 'relevance/v1/variance': 0.0, 'relevance/v1/p90': 5.0}\n"
     ]
    }
   ],
   "source": [
    "results = mlflow.evaluate(\n",
    "    model,\n",
    "    eval_df,\n",
    "    model_type=\"question-answering\",\n",
    "    evaluators=\"default\",\n",
    "    predictions=\"result\",\n",
    "    extra_metrics=[faithfulness_metric, relevance_metric, mlflow.metrics.latency()],\n",
    "    evaluator_config={\n",
    "        \"col_mapping\": {\n",
    "            \"inputs\": \"questions\",\n",
    "            \"context\": \"source_documents\",\n",
    "        }\n",
    "    },\n",
    ")\n",
    "print(results.metrics)"
   ]
  },
  {
   "cell_type": "code",
   "execution_count": 16,
   "id": "bf7eac90",
   "metadata": {},
   "outputs": [
    {
     "data": {
      "application/vnd.jupyter.widget-view+json": {
       "model_id": "b945b7a30a01499bb06a21e3aaf07c47",
       "version_major": 2,
       "version_minor": 0
      },
      "text/plain": [
       "Downloading artifacts:   0%|          | 0/1 [00:00<?, ?it/s]"
      ]
     },
     "metadata": {},
     "output_type": "display_data"
    },
    {
     "data": {
      "text/html": [
       "<div>\n",
       "<style scoped>\n",
       "    .dataframe tbody tr th:only-of-type {\n",
       "        vertical-align: middle;\n",
       "    }\n",
       "\n",
       "    .dataframe tbody tr th {\n",
       "        vertical-align: top;\n",
       "    }\n",
       "\n",
       "    .dataframe thead th {\n",
       "        text-align: right;\n",
       "    }\n",
       "</style>\n",
       "<table border=\"1\" class=\"dataframe\">\n",
       "  <thead>\n",
       "    <tr style=\"text-align: right;\">\n",
       "      <th></th>\n",
       "      <th>questions</th>\n",
       "      <th>outputs</th>\n",
       "      <th>query</th>\n",
       "      <th>source_documents</th>\n",
       "      <th>latency</th>\n",
       "      <th>token_count</th>\n",
       "      <th>faithfulness/v1/score</th>\n",
       "      <th>faithfulness/v1/justification</th>\n",
       "      <th>relevance/v1/score</th>\n",
       "      <th>relevance/v1/justification</th>\n",
       "    </tr>\n",
       "  </thead>\n",
       "  <tbody>\n",
       "    <tr>\n",
       "      <th>0</th>\n",
       "      <td>What type of masking or binding is provided fo...</td>\n",
       "      <td>Quadruple (Participant, Care Provider, Invest...</td>\n",
       "      <td>What type of masking or binding is provided fo...</td>\n",
       "      <td>[{'lc_attributes': {}, 'lc_secrets': {}, 'meta...</td>\n",
       "      <td>1.112689</td>\n",
       "      <td>16</td>\n",
       "      <td>5</td>\n",
       "      <td>The output provided by the model is \"Quadruple...</td>\n",
       "      <td>5</td>\n",
       "      <td>The output directly and comprehensively answer...</td>\n",
       "    </tr>\n",
       "    <tr>\n",
       "      <th>1</th>\n",
       "      <td>Can older adults with age over 65 were part of...</td>\n",
       "      <td>No, this study was only open to participants ...</td>\n",
       "      <td>Can older adults with age over 65 were part of...</td>\n",
       "      <td>[{'lc_attributes': {}, 'lc_secrets': {}, 'meta...</td>\n",
       "      <td>0.817850</td>\n",
       "      <td>15</td>\n",
       "      <td>5</td>\n",
       "      <td>The output from the model states that the stud...</td>\n",
       "      <td>5</td>\n",
       "      <td>The output accurately and comprehensively answ...</td>\n",
       "    </tr>\n",
       "    <tr>\n",
       "      <th>2</th>\n",
       "      <td>Were patients treated with growth harmones be ...</td>\n",
       "      <td>No, patients were not treated with growth hor...</td>\n",
       "      <td>Were patients treated with growth harmones be ...</td>\n",
       "      <td>[{'lc_attributes': {}, 'lc_secrets': {}, 'meta...</td>\n",
       "      <td>1.023118</td>\n",
       "      <td>13</td>\n",
       "      <td>5</td>\n",
       "      <td>The output claim that \"patients were not treat...</td>\n",
       "      <td>5</td>\n",
       "      <td>The output accurately and comprehensively answ...</td>\n",
       "    </tr>\n",
       "    <tr>\n",
       "      <th>3</th>\n",
       "      <td>Are there any publications associated with thi...</td>\n",
       "      <td>Yes, there is a Study Protocol and Statistica...</td>\n",
       "      <td>Are there any publications associated with thi...</td>\n",
       "      <td>[{'lc_attributes': {}, 'lc_secrets': {}, 'meta...</td>\n",
       "      <td>0.835928</td>\n",
       "      <td>20</td>\n",
       "      <td>5</td>\n",
       "      <td>The output claims that there is a Study Protoc...</td>\n",
       "      <td>5</td>\n",
       "      <td>The output directly and comprehensively answer...</td>\n",
       "    </tr>\n",
       "  </tbody>\n",
       "</table>\n",
       "</div>"
      ],
      "text/plain": [
       "                                           questions  \\\n",
       "0  What type of masking or binding is provided fo...   \n",
       "1  Can older adults with age over 65 were part of...   \n",
       "2  Were patients treated with growth harmones be ...   \n",
       "3  Are there any publications associated with thi...   \n",
       "\n",
       "                                             outputs  \\\n",
       "0   Quadruple (Participant, Care Provider, Invest...   \n",
       "1   No, this study was only open to participants ...   \n",
       "2   No, patients were not treated with growth hor...   \n",
       "3   Yes, there is a Study Protocol and Statistica...   \n",
       "\n",
       "                                               query  \\\n",
       "0  What type of masking or binding is provided fo...   \n",
       "1  Can older adults with age over 65 were part of...   \n",
       "2  Were patients treated with growth harmones be ...   \n",
       "3  Are there any publications associated with thi...   \n",
       "\n",
       "                                    source_documents   latency  token_count  \\\n",
       "0  [{'lc_attributes': {}, 'lc_secrets': {}, 'meta...  1.112689           16   \n",
       "1  [{'lc_attributes': {}, 'lc_secrets': {}, 'meta...  0.817850           15   \n",
       "2  [{'lc_attributes': {}, 'lc_secrets': {}, 'meta...  1.023118           13   \n",
       "3  [{'lc_attributes': {}, 'lc_secrets': {}, 'meta...  0.835928           20   \n",
       "\n",
       "   faithfulness/v1/score                      faithfulness/v1/justification  \\\n",
       "0                      5  The output provided by the model is \"Quadruple...   \n",
       "1                      5  The output from the model states that the stud...   \n",
       "2                      5  The output claim that \"patients were not treat...   \n",
       "3                      5  The output claims that there is a Study Protoc...   \n",
       "\n",
       "   relevance/v1/score                         relevance/v1/justification  \n",
       "0                   5  The output directly and comprehensively answer...  \n",
       "1                   5  The output accurately and comprehensively answ...  \n",
       "2                   5  The output accurately and comprehensively answ...  \n",
       "3                   5  The output directly and comprehensively answer...  "
      ]
     },
     "execution_count": 16,
     "metadata": {},
     "output_type": "execute_result"
    }
   ],
   "source": [
    "results.tables[\"eval_results_table\"]"
   ]
  },
  {
   "cell_type": "code",
   "execution_count": 19,
   "id": "aa78ebed",
   "metadata": {},
   "outputs": [],
   "source": [
    "# Let's fix the truncated text\n",
    "pd.set_option('display.max_colwidth', 0)"
   ]
  },
  {
   "cell_type": "code",
   "execution_count": 20,
   "id": "a5e0f9d5",
   "metadata": {},
   "outputs": [
    {
     "data": {
      "application/vnd.jupyter.widget-view+json": {
       "model_id": "bd49bd0ec394499eba5a62f35c75b868",
       "version_major": 2,
       "version_minor": 0
      },
      "text/plain": [
       "Downloading artifacts:   0%|          | 0/1 [00:00<?, ?it/s]"
      ]
     },
     "metadata": {},
     "output_type": "display_data"
    },
    {
     "data": {
      "text/html": [
       "<div>\n",
       "<style scoped>\n",
       "    .dataframe tbody tr th:only-of-type {\n",
       "        vertical-align: middle;\n",
       "    }\n",
       "\n",
       "    .dataframe tbody tr th {\n",
       "        vertical-align: top;\n",
       "    }\n",
       "\n",
       "    .dataframe thead th {\n",
       "        text-align: right;\n",
       "    }\n",
       "</style>\n",
       "<table border=\"1\" class=\"dataframe\">\n",
       "  <thead>\n",
       "    <tr style=\"text-align: right;\">\n",
       "      <th></th>\n",
       "      <th>questions</th>\n",
       "      <th>outputs</th>\n",
       "      <th>query</th>\n",
       "    </tr>\n",
       "  </thead>\n",
       "  <tbody>\n",
       "    <tr>\n",
       "      <th>0</th>\n",
       "      <td>What type of masking or binding is provided for this study?</td>\n",
       "      <td>Quadruple (Participant, Care Provider, Investigator, Outcomes Assessor)</td>\n",
       "      <td>What type of masking or binding is provided for this study?</td>\n",
       "    </tr>\n",
       "    <tr>\n",
       "      <th>1</th>\n",
       "      <td>Can older adults with age over 65 were part of this study?</td>\n",
       "      <td>No, this study was only open to participants aged 12-17.</td>\n",
       "      <td>Can older adults with age over 65 were part of this study?</td>\n",
       "    </tr>\n",
       "    <tr>\n",
       "      <th>2</th>\n",
       "      <td>Were patients treated with growth harmones be part of this study?</td>\n",
       "      <td>No, patients were not treated with growth hormones in this study.</td>\n",
       "      <td>Were patients treated with growth harmones be part of this study?</td>\n",
       "    </tr>\n",
       "    <tr>\n",
       "      <th>3</th>\n",
       "      <td>Are there any publications associated with this study?</td>\n",
       "      <td>Yes, there is a Study Protocol and Statistical Analysis Plan PDF document provided by the University of Minnesota.</td>\n",
       "      <td>Are there any publications associated with this study?</td>\n",
       "    </tr>\n",
       "  </tbody>\n",
       "</table>\n",
       "</div>"
      ],
      "text/plain": [
       "                                                           questions  \\\n",
       "0  What type of masking or binding is provided for this study?         \n",
       "1  Can older adults with age over 65 were part of this study?          \n",
       "2  Were patients treated with growth harmones be part of this study?   \n",
       "3  Are there any publications associated with this study?              \n",
       "\n",
       "                                                                                                               outputs  \\\n",
       "0   Quadruple (Participant, Care Provider, Investigator, Outcomes Assessor)                                              \n",
       "1   No, this study was only open to participants aged 12-17.                                                             \n",
       "2   No, patients were not treated with growth hormones in this study.                                                    \n",
       "3   Yes, there is a Study Protocol and Statistical Analysis Plan PDF document provided by the University of Minnesota.   \n",
       "\n",
       "                                                               query  \n",
       "0  What type of masking or binding is provided for this study?        \n",
       "1  Can older adults with age over 65 were part of this study?         \n",
       "2  Were patients treated with growth harmones be part of this study?  \n",
       "3  Are there any publications associated with this study?             "
      ]
     },
     "execution_count": 20,
     "metadata": {},
     "output_type": "execute_result"
    }
   ],
   "source": [
    "results.tables[\"eval_results_table\"][['questions','outputs','query']]"
   ]
  },
  {
   "cell_type": "code",
   "execution_count": 27,
   "id": "ec544f08",
   "metadata": {},
   "outputs": [
    {
     "data": {
      "application/vnd.jupyter.widget-view+json": {
       "model_id": "c245bbeafde04a678214be9715dc41c4",
       "version_major": 2,
       "version_minor": 0
      },
      "text/plain": [
       "Downloading artifacts:   0%|          | 0/1 [00:00<?, ?it/s]"
      ]
     },
     "metadata": {},
     "output_type": "display_data"
    },
    {
     "data": {
      "text/html": [
       "<div>\n",
       "<style scoped>\n",
       "    .dataframe tbody tr th:only-of-type {\n",
       "        vertical-align: middle;\n",
       "    }\n",
       "\n",
       "    .dataframe tbody tr th {\n",
       "        vertical-align: top;\n",
       "    }\n",
       "\n",
       "    .dataframe thead th {\n",
       "        text-align: right;\n",
       "    }\n",
       "</style>\n",
       "<table border=\"1\" class=\"dataframe\">\n",
       "  <thead>\n",
       "    <tr style=\"text-align: right;\">\n",
       "      <th></th>\n",
       "      <th>latency</th>\n",
       "      <th>token_count</th>\n",
       "      <th>faithfulness/v1/score</th>\n",
       "      <th>faithfulness/v1/justification</th>\n",
       "      <th>relevance/v1/score</th>\n",
       "    </tr>\n",
       "  </thead>\n",
       "  <tbody>\n",
       "    <tr>\n",
       "      <th>0</th>\n",
       "      <td>1.112689</td>\n",
       "      <td>16</td>\n",
       "      <td>5</td>\n",
       "      <td>The output provided by the model is \"Quadruple (Participant, Care Provider, Investigator, Outcomes Assessor)\" in response to the input asking about the type of masking or binding provided for the study. This output is directly supported by the provided context, specifically in the document where it states \"Masking: Quadruple (Participant, Care Provider, Investigator, Outcomes Assessor)\". Therefore, all of the claims in the output are directly supported by the provided context, demonstrating high faithfulness to the provided context.</td>\n",
       "      <td>5</td>\n",
       "    </tr>\n",
       "    <tr>\n",
       "      <th>1</th>\n",
       "      <td>0.817850</td>\n",
       "      <td>15</td>\n",
       "      <td>5</td>\n",
       "      <td>The output from the model states that the study was only open to participants aged 12-17. This is directly supported by the provided context, which states \"Ages Eligible for Study: 12 Years to 17 Years (Child)\". Therefore, all of the claims in the output are directly supported by the provided context, demonstrating high faithfulness to the provided context.</td>\n",
       "      <td>5</td>\n",
       "    </tr>\n",
       "    <tr>\n",
       "      <th>2</th>\n",
       "      <td>1.023118</td>\n",
       "      <td>13</td>\n",
       "      <td>5</td>\n",
       "      <td>The output claim that \"patients were not treated with growth hormones in this study\" is directly supported by the provided context. The context documents describe the study as focusing on weight loss treatments, specifically GLP-1RA (exenatide) and placebo, with no mention of growth hormones being used. Therefore, the model's output is entirely faithful to the context.</td>\n",
       "      <td>5</td>\n",
       "    </tr>\n",
       "    <tr>\n",
       "      <th>3</th>\n",
       "      <td>0.835928</td>\n",
       "      <td>20</td>\n",
       "      <td>5</td>\n",
       "      <td>The output claims that there is a Study Protocol and Statistical Analysis Plan PDF document provided by the University of Minnesota. This claim is directly supported by the provided context, specifically in the document that mentions \"Documents provided by University of Minnesota: Study Protocol and Statistical Analysis Plan [PDF] November 13, 2019\". Therefore, all of the claims in the output are directly supported by the provided context, demonstrating high faithfulness to the provided context.</td>\n",
       "      <td>5</td>\n",
       "    </tr>\n",
       "  </tbody>\n",
       "</table>\n",
       "</div>"
      ],
      "text/plain": [
       "    latency  token_count  faithfulness/v1/score  \\\n",
       "0  1.112689  16           5                       \n",
       "1  0.817850  15           5                       \n",
       "2  1.023118  13           5                       \n",
       "3  0.835928  20           5                       \n",
       "\n",
       "                                                                                                                                                                                                                                                                                                                                                                                                                                                                                                                                faithfulness/v1/justification  \\\n",
       "0  The output provided by the model is \"Quadruple (Participant, Care Provider, Investigator, Outcomes Assessor)\" in response to the input asking about the type of masking or binding provided for the study. This output is directly supported by the provided context, specifically in the document where it states \"Masking: Quadruple (Participant, Care Provider, Investigator, Outcomes Assessor)\". Therefore, all of the claims in the output are directly supported by the provided context, demonstrating high faithfulness to the provided context.   \n",
       "1  The output from the model states that the study was only open to participants aged 12-17. This is directly supported by the provided context, which states \"Ages Eligible for Study: 12 Years to 17 Years (Child)\". Therefore, all of the claims in the output are directly supported by the provided context, demonstrating high faithfulness to the provided context.                                                                                                                                                                                      \n",
       "2  The output claim that \"patients were not treated with growth hormones in this study\" is directly supported by the provided context. The context documents describe the study as focusing on weight loss treatments, specifically GLP-1RA (exenatide) and placebo, with no mention of growth hormones being used. Therefore, the model's output is entirely faithful to the context.                                                                                                                                                                          \n",
       "3  The output claims that there is a Study Protocol and Statistical Analysis Plan PDF document provided by the University of Minnesota. This claim is directly supported by the provided context, specifically in the document that mentions \"Documents provided by University of Minnesota: Study Protocol and Statistical Analysis Plan [PDF] November 13, 2019\". Therefore, all of the claims in the output are directly supported by the provided context, demonstrating high faithfulness to the provided context.                                         \n",
       "\n",
       "   relevance/v1/score  \n",
       "0  5                   \n",
       "1  5                   \n",
       "2  5                   \n",
       "3  5                   "
      ]
     },
     "execution_count": 27,
     "metadata": {},
     "output_type": "execute_result"
    }
   ],
   "source": [
    "results.tables[\"eval_results_table\"].iloc[0:4,4:9]"
   ]
  },
  {
   "cell_type": "code",
   "execution_count": null,
   "id": "58151190",
   "metadata": {},
   "outputs": [],
   "source": []
  }
 ],
 "metadata": {
  "hide_input": false,
  "kernelspec": {
   "display_name": "Python 3 (ipykernel)",
   "language": "python",
   "name": "python3"
  },
  "language_info": {
   "codemirror_mode": {
    "name": "ipython",
    "version": 3
   },
   "file_extension": ".py",
   "mimetype": "text/x-python",
   "name": "python",
   "nbconvert_exporter": "python",
   "pygments_lexer": "ipython3",
   "version": "3.9.18"
  },
  "toc": {
   "base_numbering": 1,
   "nav_menu": {},
   "number_sections": true,
   "sideBar": true,
   "skip_h1_title": false,
   "title_cell": "Table of Contents",
   "title_sidebar": "Contents",
   "toc_cell": false,
   "toc_position": {},
   "toc_section_display": true,
   "toc_window_display": false
  }
 },
 "nbformat": 4,
 "nbformat_minor": 5
}
