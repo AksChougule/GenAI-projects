{
 "cells": [
  {
   "cell_type": "markdown",
   "id": "d7297d7b-d8d1-498e-b358-c799370f629c",
   "metadata": {},
   "source": [
    "Author: Akshay Chougule\n",
    "\n",
    "Created On: Nov 15, 2023\n",
    "\n",
    "Last Edit: Nov 15, 2023\n",
    "\n",
    "Credit: The installing and testing of gorilla.\n"
   ]
  },
  {
   "cell_type": "markdown",
   "id": "ed9ffeb6-ef0b-445c-84f6-35ee47c403ea",
   "metadata": {},
   "source": [
    "Gorilla enables LLMs to use tools by invoking APIs. Given a natural language query, Gorilla comes up with the semantically- and syntactically- correct API to invoke. With Gorilla, we are the first to demonstrate how to use LLMs to invoke 1,600+ (and growing) API calls accurately while reducing hallucination. We also release APIBench, the largest collection of APIs, curated and easy to be trained on! Join us, as we try to expand the largest API store and teach LLMs how to write them! Hop on our Discord, or open a PR, or email us if you would like to have your API incorporated as well."
   ]
  },
  {
   "cell_type": "code",
   "execution_count": null,
   "id": "787cf2d1-3b53-4be9-b64c-571e02aa2f0d",
   "metadata": {},
   "outputs": [],
   "source": []
  }
 ],
 "metadata": {
  "kernelspec": {
   "display_name": "Python 3",
   "language": "python",
   "name": "python3"
  },
  "language_info": {
   "codemirror_mode": {
    "name": "ipython",
    "version": 3
   },
   "file_extension": ".py",
   "mimetype": "text/x-python",
   "name": "python",
   "nbconvert_exporter": "python",
   "pygments_lexer": "ipython3",
   "version": "3.8.10"
  }
 },
 "nbformat": 4,
 "nbformat_minor": 5
}
