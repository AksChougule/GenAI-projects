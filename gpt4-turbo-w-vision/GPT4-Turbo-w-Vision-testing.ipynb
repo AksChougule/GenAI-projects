{
 "cells": [
  {
   "cell_type": "code",
   "execution_count": 1,
   "id": "4f90f1f7",
   "metadata": {},
   "outputs": [],
   "source": [
    "import base64\n",
    "import requests\n",
    "import Constants\n",
    "import json\n",
    "\n",
    "# OpenAI API Key\n",
    "api_key = Constants.OPENAI_API_KEY"
   ]
  },
  {
   "cell_type": "markdown",
   "id": "43f99f4f",
   "metadata": {},
   "source": [
    "### Setting up baic function with test case 1"
   ]
  },
  {
   "cell_type": "code",
   "execution_count": 4,
   "id": "f2183f00",
   "metadata": {},
   "outputs": [],
   "source": [
    "# Function to encode the image\n",
    "def encode_image(image_path):\n",
    "    with open(image_path, \"rb\") as image_file:\n",
    "        return base64.b64encode(image_file.read()).decode('utf-8')"
   ]
  },
  {
   "cell_type": "code",
   "execution_count": 5,
   "id": "1aa63a26",
   "metadata": {},
   "outputs": [],
   "source": [
    "# Path to your image\n",
    "image_path = \"/home/ubuntu/codebase/LlaVa/cart_generations_wo_descr.png\"\n",
    "\n",
    "# Getting the base64 string\n",
    "base64_image = encode_image(image_path)LlaVa\n",
    "\n",
    "headers = {\n",
    "    \"Content-Type\": \"application/json\",\n",
    "    \"Authorization\": f\"Bearer {api_key}\"\n",
    "}\n",
    "\n",
    "payload = {\n",
    "    \"model\": \"gpt-4-vision-preview\",\n",
    "    \"messages\": [\n",
    "      {\n",
    "        \"role\": \"user\",\n",
    "        \"content\": [\n",
    "          {\n",
    "            \"type\": \"text\",\n",
    "            \"text\": \"What’s in this image?\"\n",
    "          },\n",
    "          {\n",
    "            \"type\": \"image_url\",\n",
    "            \"image_url\": {\n",
    "              \"url\": f\"data:image/jpeg;base64,{base64_image}\"\n",
    "            }\n",
    "          }\n",
    "        ]\n",
    "      }\n",
    "    ],\n",
    "    \"max_tokens\": 300\n",
    "}\n",
    "\n",
    "response = requests.post(\"https://api.openai.com/v1/chat/completions\", headers=headers, json=payload)"
   ]
  },
  {
   "cell_type": "code",
   "execution_count": 14,
   "id": "2dd83b75",
   "metadata": {},
   "outputs": [
    {
     "name": "stdout",
     "output_type": "stream",
     "text": [
      "{\n",
      "  \"id\": \"chatcmpl-8IKxUWBGQGhHRItYKx3OztRuVwYT8\",\n",
      "  \"object\": \"chat.completion\",\n",
      "  \"created\": 1699381160,\n",
      "  \"model\": \"gpt-4-1106-vision-preview\",\n",
      "  \"usage\": {\n",
      "    \"prompt_tokens\": 608,\n",
      "    \"completion_tokens\": 300,\n",
      "    \"total_tokens\": 908\n",
      "  },\n",
      "  \"choices\": [\n",
      "    {\n",
      "      \"message\": {\n",
      "        \"role\": \"assistant\",\n",
      "        \"content\": \"This image depicts the schematic structure of various generations of Chimeric Antigen Receptors (CARs), which are synthetic molecules designed to equip T cells for improved cancer targeting and destruction.\\n\\nOn the left side of the image, you can see a representation of the 1st generation CAR, which consists of an antigen recognition domain with variable heavy (V_H) and light (V_L) chains depicted in salmon color, derived from an antibody, and this is linked to the CD3\\u03b6 (CD3 zeta) signaling domain in blue. This basic structure enables the modified T cells to recognize and kill tumor cells.\\n\\nThe 2nd generation CAR design, shown next, includes an additional costimulatory signal domain (in green), such as CD28, 4-1BB, OX40, or ICOS, which enhances the T cell's proliferation and survival.\\n\\nThe 3rd generation CAR, to the right of the 2nd generation, incorporates two different costimulatory domains, intending to further increase the T cell's anti-tumor activity.\\n\\nOn the far right, the 4th generation CAR (also referred to as TRUCKs, for T cells Redirected for Universal Cytokine Killing) includes not only the antigen recognition domain and the costimulatory domains but also a transgene for cytokines like IL-7, IL-12, IL-15, and IL-21, which can enhance immune responses. Additionally, this generation has safety switches\"\n",
      "      },\n",
      "      \"finish_details\": {\n",
      "        \"type\": \"max_tokens\"\n",
      "      },\n",
      "      \"index\": 0\n",
      "    }\n",
      "  ]\n",
      "}\n"
     ]
    }
   ],
   "source": [
    "json_object = json.loads(response.text)\n",
    "json_formatted_str = json.dumps(json_object, indent=2)\n",
    "print(json_formatted_str)"
   ]
  },
  {
   "cell_type": "markdown",
   "id": "df4c5342",
   "metadata": {},
   "source": [
    "This image depicts the schematic structure of various generations of Chimeric Antigen Receptors (CARs), which are synthetic molecules designed to equip T cells for improved cancer targeting and destruction.\n",
    "\n",
    "On the left side of the image, you can see a representation of the 1st generation CAR, which consists of an antigen recognition domain with variable heavy (V_H) and light (V_L) chains depicted in salmon color, derived from an antibody, and this is linked to the CD3\\u03b6 (CD3 zeta) signaling domain in blue. This basic structure enables the modified T cells to recognize and kill tumor cells.\n",
    "\n",
    "The 2nd generation CAR design, shown next, includes an additional costimulatory signal domain (in green), such as CD28, 4-1BB, OX40, or ICOS, which enhances the T cell's proliferation and survival.\n",
    "\n",
    "The 3rd generation CAR, to the right of the 2nd generation, incorporates two different costimulatory domains, intending to further increase the T cell's anti-tumor activity.\n",
    "\n",
    "On the far right, the 4th generation CAR (also referred to as TRUCKs, for T cells Redirected for Universal Cytokine Killing) includes not only the antigen recognition domain and the costimulatory domains but also a transgene for cytokines like IL-7, IL-12, IL-15, and IL-21, which can enhance immune responses. Additionally, this generation has safety switches"
   ]
  },
  {
   "cell_type": "code",
   "execution_count": 18,
   "id": "b7f951b9",
   "metadata": {},
   "outputs": [],
   "source": [
    "# Function to encode the image\n",
    "def encode_image(image_path):\n",
    "    with open(image_path, \"rb\") as image_file:\n",
    "        return base64.b64encode(image_file.read()).decode('utf-8')\n",
    "\n",
    "# Path to your image\n",
    "image_path = \"/home/ubuntu/codebase/LlaVa/cart_os_kmcurve.png\"\n",
    "\n",
    "# Getting the base64 string\n",
    "base64_image = encode_image(image_path)\n",
    "\n",
    "headers = {\n",
    "    \"Content-Type\": \"application/json\",\n",
    "    \"Authorization\": f\"Bearer {api_key}\"\n",
    "}\n",
    "\n",
    "payload = {\n",
    "    \"model\": \"gpt-4-vision-preview\",\n",
    "    \"messages\": [\n",
    "      {\n",
    "        \"role\": \"user\",\n",
    "        \"content\": [\n",
    "          {\n",
    "            \"type\": \"text\",\n",
    "            \"text\": \"What’s in this image?\"\n",
    "          },\n",
    "          {\n",
    "            \"type\": \"image_url\",\n",
    "            \"image_url\": {\n",
    "              \"url\": f\"data:image/jpeg;base64,{base64_image}\"\n",
    "            }\n",
    "          }\n",
    "        ]\n",
    "      }\n",
    "    ],\n",
    "    \"max_tokens\": 300\n",
    "}\n",
    "\n",
    "response = requests.post(\"https://api.openai.com/v1/chat/completions\", headers=headers, json=payload)"
   ]
  },
  {
   "cell_type": "code",
   "execution_count": 19,
   "id": "71f93725",
   "metadata": {},
   "outputs": [
    {
     "name": "stdout",
     "output_type": "stream",
     "text": [
      "{\n",
      "  \"error\": {\n",
      "    \"message\": \"The server had an error while processing your request. Sorry about that!\",\n",
      "    \"type\": \"server_error\",\n",
      "    \"param\": null,\n",
      "    \"code\": null\n",
      "  }\n",
      "}\n"
     ]
    }
   ],
   "source": [
    "json_object = json.loads(response.text)\n",
    "json_formatted_str = json.dumps(json_object, indent=2)\n",
    "print(json_formatted_str)"
   ]
  },
  {
   "cell_type": "markdown",
   "id": "0409e446",
   "metadata": {},
   "source": [
    "### Converting the code into function"
   ]
  },
  {
   "cell_type": "code",
   "execution_count": 2,
   "id": "6059e927",
   "metadata": {},
   "outputs": [],
   "source": [
    "def gpt4t_vision_call(image_path, question):\n",
    "    # Getting the base64 string\n",
    "    base64_image = encode_image(image_path)\n",
    "\n",
    "    headers = {\n",
    "        \"Content-Type\": \"application/json\",\n",
    "        \"Authorization\": f\"Bearer {api_key}\"\n",
    "    }\n",
    "\n",
    "    payload = {\n",
    "        \"model\": \"gpt-4-vision-preview\",\n",
    "        \"messages\": [\n",
    "          {\n",
    "            \"role\": \"user\",\n",
    "            \"content\": [\n",
    "              {\n",
    "                \"type\": \"text\",\n",
    "                \"text\": question\n",
    "              },\n",
    "              {\n",
    "                \"type\": \"image_url\",\n",
    "                \"image_url\": {\n",
    "                  \"url\": f\"data:image/jpeg;base64,{base64_image}\"\n",
    "                }\n",
    "              }\n",
    "            ]\n",
    "          }\n",
    "        ],\n",
    "        \"max_tokens\": 300\n",
    "    }\n",
    "\n",
    "    response = requests.post(\"https://api.openai.com/v1/chat/completions\", headers=headers, json=payload)\n",
    "    json_object = json.loads(response.text)\n",
    "    json_formatted_str = json.dumps(json_object, indent=2)\n",
    "    print(json_formatted_str)"
   ]
  },
  {
   "cell_type": "markdown",
   "id": "09a3a39e",
   "metadata": {},
   "source": [
    "### KM testing "
   ]
  },
  {
   "cell_type": "code",
   "execution_count": 22,
   "id": "7a49d710",
   "metadata": {},
   "outputs": [
    {
     "name": "stdout",
     "output_type": "stream",
     "text": [
      "{\n",
      "  \"id\": \"chatcmpl-8ITVy8jZuuPd17rlcYI93jtPDYi61\",\n",
      "  \"object\": \"chat.completion\",\n",
      "  \"created\": 1699414050,\n",
      "  \"model\": \"gpt-4-1106-vision-preview\",\n",
      "  \"usage\": {\n",
      "    \"prompt_tokens\": 1118,\n",
      "    \"completion_tokens\": 300,\n",
      "    \"total_tokens\": 1418\n",
      "  },\n",
      "  \"choices\": [\n",
      "    {\n",
      "      \"message\": {\n",
      "        \"role\": \"assistant\",\n",
      "        \"content\": \"The image shows two Kaplan-Meier survival curves, which are used to estimate survival rates and times for patients. These particular curves are labeled as \\\"Fig. 2: Survival profiles by CAR-T therapy in R/R B-ALL patients.\\\" This suggests that the data is from a study on the survival of patients who have relapsed/refractory B-cell acute lymphoblastic leukemia (B-ALL) and have been treated with CAR-T cell therapy.\\n\\nPanel A of the figure is labeled \\\"Event-free survival (EFS)\\\" while Panel B is labeled as \\\"Overall survival (OS)\\\". The event-free survival curve (A) and the overall survival curve (B) indicate the proportion of patients who have not experienced a specific event (like disease relapse or progression) or who have survived, respectively, over time since CAR-T cell infusion.\\n\\nThe caption below the graphs provides the following statistical information:\\nFor Panel A: \\n- Median EFS is 11.6 months with a 95% Confidence Interval (CI) from 4.0 to 19.2 months.\\n- Event-free survival rates at 6 months (M6) and 12 months (M12) are 58.5% and 44.8% respectively.\\n\\nFor Panel B: \\n- Median OS is 14.0 months with a 95% Confidence Interval (CI) from 10.9 to 17.1 months.\\n- Overall survival rates at 6 months (M6\"\n",
      "      },\n",
      "      \"finish_details\": {\n",
      "        \"type\": \"max_tokens\"\n",
      "      },\n",
      "      \"index\": 0\n",
      "    }\n",
      "  ]\n",
      "}\n"
     ]
    }
   ],
   "source": [
    "image_path = \"/home/ubuntu/codebase/LlaVa/cart_os_kmcurve.png\"\n",
    "question = \"What’s in this image?\"\n",
    "gpt4t_vision_call(image_path, question)"
   ]
  },
  {
   "cell_type": "markdown",
   "id": "bbeb641b",
   "metadata": {},
   "source": [
    "### KM w/o numbers"
   ]
  },
  {
   "cell_type": "code",
   "execution_count": 24,
   "id": "48c3f603",
   "metadata": {},
   "outputs": [
    {
     "name": "stdout",
     "output_type": "stream",
     "text": [
      "{\n",
      "  \"error\": {\n",
      "    \"message\": \"You uploaded an unsupported image. Please make sure your image is below 20 MB in size and is of one the following formats: ['png', 'jpeg', 'gif', 'webp'].\",\n",
      "    \"type\": \"invalid_request_error\",\n",
      "    \"param\": null,\n",
      "    \"code\": \"sanitizer_server_error\"\n",
      "  }\n",
      "}\n"
     ]
    }
   ],
   "source": [
    "image_path = \"/home/ubuntu/codebase/LlaVa/kmcurve_wo_numbers.png\"\n",
    "question = \"What’s in this image?\"\n",
    "gpt4t_vision_call(image_path, question)"
   ]
  },
  {
   "cell_type": "code",
   "execution_count": 25,
   "id": "dd77ac9b",
   "metadata": {},
   "outputs": [
    {
     "name": "stdout",
     "output_type": "stream",
     "text": [
      "{\n",
      "  \"id\": \"chatcmpl-8ITbxvEVbqLmiEwNk79W3HhVqYste\",\n",
      "  \"object\": \"chat.completion\",\n",
      "  \"created\": 1699414421,\n",
      "  \"model\": \"gpt-4-1106-vision-preview\",\n",
      "  \"usage\": {\n",
      "    \"prompt_tokens\": 1118,\n",
      "    \"completion_tokens\": 257,\n",
      "    \"total_tokens\": 1375\n",
      "  },\n",
      "  \"choices\": [\n",
      "    {\n",
      "      \"message\": {\n",
      "        \"role\": \"assistant\",\n",
      "        \"content\": \"This image displays a multi-line Kaplan-Meier survival plot. The Kaplan-Meier plot is a statistical chart that is used to estimate the survival function from lifetime data. In the context of health studies, it represents the probability of surviving past a given time, with the survival probability on the y-axis and time on the x-axis.\\n\\nIn the plot, several curves are present, each potentially representing a different group or treatment cohort in a study. Each step down in a curve likely represents an event (such as a death or failure, depending on the context), and the horizontal steps imply periods where no events were observed. Error bars on the plot suggest a confidence interval for the estimate at certain points in time.\\n\\nThe y-axis ranges from 1.00 to 0.00, indicating the probability of survival from certain to none, while the x-axis is labeled \\\"Time\\\" but without a specific unit of time indicated (such as days, months, or years).\\n\\nThe distinct colors and error bars associated with each curve imply that the plot is comparing the survival distributions between different groups while accounting for uncertainties in the survival estimates. This type of analysis is crucial in fields such as medical research and reliability engineering to compare the effectiveness of treatments or understand the longevity of systems under various conditions.\"\n",
      "      },\n",
      "      \"finish_details\": {\n",
      "        \"type\": \"stop\",\n",
      "        \"stop\": \"<|fim_suffix|>\"\n",
      "      },\n",
      "      \"index\": 0\n",
      "    }\n",
      "  ]\n",
      "}\n"
     ]
    }
   ],
   "source": [
    "image_path = \"/home/ubuntu/codebase/LlaVa/kmcurve_wo_numbers.png\"\n",
    "question = \"What’s in this image?\"\n",
    "gpt4t_vision_call(image_path, question)"
   ]
  },
  {
   "cell_type": "code",
   "execution_count": 26,
   "id": "f389b3f8",
   "metadata": {},
   "outputs": [
    {
     "name": "stdout",
     "output_type": "stream",
     "text": [
      "{\n",
      "  \"id\": \"chatcmpl-8ITj8uKCNPX2HiuWq3uTsYCrfYA1Z\",\n",
      "  \"object\": \"chat.completion\",\n",
      "  \"created\": 1699414866,\n",
      "  \"model\": \"gpt-4-1106-vision-preview\",\n",
      "  \"usage\": {\n",
      "    \"prompt_tokens\": 1128,\n",
      "    \"completion_tokens\": 262,\n",
      "    \"total_tokens\": 1390\n",
      "  },\n",
      "  \"choices\": [\n",
      "    {\n",
      "      \"message\": {\n",
      "        \"role\": \"assistant\",\n",
      "        \"content\": \"I'm sorry, but I'm not able to perform calculations or determine exact values from an image graphically. The median survival time is the time point at which the survival probability crosses the 0.50 (50%) mark on the y-axis of a survival curve. Since I can't measure the graph precisely, you would need to refer to the data used to create the graph or use graphical analysis tools in order to find the exact median survival times for each colored line.\\n\\nHowever, based on visual inspection of the curve, I can make approximate observations:\\n\\n- The blue line seems to cross the 0.50 mark somewhere around the mid-teens on the time axis (x-axis).\\n- The red line appears to cross just before the number 20 on the x-axis.\\n- The green line looks to cross slightly after the red one, possibly between 20-25 on the x-axis.\\n- The pink line is close to where the green line crosses, potentially a little before it.\\n- The yellow line seems to cross the 0.50 mark well after the others, possibly somewhere in the 30s on the time axis.\\n\\nTo determine the exact median survival times, you would need to obtain the raw data or have access to an interactive version of the graph, which would allow precise measurement.\"\n",
      "      },\n",
      "      \"finish_details\": {\n",
      "        \"type\": \"stop\",\n",
      "        \"stop\": \"<|fim_suffix|>\"\n",
      "      },\n",
      "      \"index\": 0\n",
      "    }\n",
      "  ]\n",
      "}\n"
     ]
    }
   ],
   "source": [
    "image_path = \"/home/ubuntu/codebase/LlaVa/kmcurve_wo_numbers.png\"\n",
    "question = \"In this survival curve can you calculate median surival for each colored line?\"\n",
    "gpt4t_vision_call(image_path, question)"
   ]
  },
  {
   "cell_type": "markdown",
   "id": "350b7ccf",
   "metadata": {},
   "source": [
    "\"I'm sorry, but I'm not able to perform calculations or determine exact values from an image graphically. The median survival time is the time point at which the survival probability crosses the 0.50 (50%) mark on the y-axis of a survival curve. Since I can't measure the graph precisely, you would need to refer to the data used to create the graph or use graphical analysis tools in order to find the exact median survival times for each colored line.\n",
    "\n",
    "However, based on visual inspection of the curve, I can make approximate observations:\n",
    "- The blue line seems to cross the 0.50 mark somewhere around the mid-teens on the time axis (x-axis).\n",
    "- The red line appears to cross just before the number 20 on the x-axis.\n",
    "- The green line looks to cross slightly after the red one, possibly between 20-25 on the x-axis.\n",
    "- The pink line is close to where the green line crosses, potentially a little before it.\n",
    "- The yellow line seems to cross the 0.50 mark well after the others, possibly somewhere in the 30s on the time axis.\n",
    "- To determine the exact median survival times, you would need to obtain the raw data or have access to an interactive version of the graph, which would allow precise measurement.\""
   ]
  },
  {
   "cell_type": "markdown",
   "id": "07c9aad8",
   "metadata": {},
   "source": [
    "### KM with numbers"
   ]
  },
  {
   "cell_type": "code",
   "execution_count": 27,
   "id": "7aa25ab7",
   "metadata": {},
   "outputs": [
    {
     "name": "stdout",
     "output_type": "stream",
     "text": [
      "{\n",
      "  \"id\": \"chatcmpl-8ITwDJMXuDpqODNTVUdT9V5gGxMDF\",\n",
      "  \"object\": \"chat.completion\",\n",
      "  \"created\": 1699415677,\n",
      "  \"model\": \"gpt-4-1106-vision-preview\",\n",
      "  \"usage\": {\n",
      "    \"prompt_tokens\": 1128,\n",
      "    \"completion_tokens\": 226,\n",
      "    \"total_tokens\": 1354\n",
      "  },\n",
      "  \"choices\": [\n",
      "    {\n",
      "      \"message\": {\n",
      "        \"role\": \"assistant\",\n",
      "        \"content\": \"I'm sorry, but I cannot calculate exact values or provide precise analysis of data points from images of graphs like this one. However, I can give you a general idea of how to estimate the median survival time from a Kaplan-Meier survival curve like the one in your image.\\n\\nThe median survival time is the time at which the survival probability curve crosses the 0.50 (or 50%) survival probability threshold. To estimate the median survival for each colored line:\\n\\n1. Locate the point where the survival probability is closest to 0.50 on the vertical axis.\\n2. From this point, draw a horizontal line to the point where it intersects the survival curve of interest.\\n3. From that intersection point, draw a vertical line down to the time (horizontal) axis.\\n\\nThis vertical line will roughly indicate the median survival time for that group.\\n\\nIn the graph you've provided, the survival curves are quite close together, and detailed numbers cannot be accurately estimated from the image. To calculate the exact median survival times, you would need access to the underlying data or a higher-resolution graph where the axes are clearly marked.\"\n",
      "      },\n",
      "      \"finish_details\": {\n",
      "        \"type\": \"stop\",\n",
      "        \"stop\": \"<|fim_suffix|>\"\n",
      "      },\n",
      "      \"index\": 0\n",
      "    }\n",
      "  ]\n",
      "}\n"
     ]
    }
   ],
   "source": [
    "image_path = \"/home/ubuntu/codebase/LlaVa/kmcurve_w_numbers.png\"\n",
    "question = \"In this survival curve graph can you calculate median surival for each colored line?\"\n",
    "gpt4t_vision_call(image_path, question)"
   ]
  },
  {
   "cell_type": "markdown",
   "id": "4124aafe",
   "metadata": {},
   "source": [
    "I'm sorry, but I cannot calculate exact values or provide precise analysis of data points from images of graphs like this one. However, I can give you a general idea of how to estimate the median survival time from a Kaplan-Meier survival curve like the one in your image.\n",
    "\n",
    "The median survival time is the time at which the survival probability curve crosses the 0.50 (or 50%) survival probability threshold. To estimate the median survival for each colored line:\n",
    "\n",
    "1. Locate the point where the survival probability is closest to 0.50 on the vertical axis.\n",
    "2. From this point, draw a horizontal line to the point where it intersects the survival curve of interest.\n",
    "3. From that intersection point, draw a vertical line down to the time (horizontal) axis.\n",
    "\n",
    "This vertical line will roughly indicate the median survival time for that group.In the graph you've provided, the survival curves are quite close together, and detailed numbers cannot be accurately estimated from the image. To calculate the exact median survival times, you would need access to the underlying data or a higher-resolution graph where the axes are clearly marked."
   ]
  },
  {
   "cell_type": "code",
   "execution_count": 28,
   "id": "43af5e74",
   "metadata": {},
   "outputs": [
    {
     "name": "stdout",
     "output_type": "stream",
     "text": [
      "{\n",
      "  \"id\": \"chatcmpl-8ITyaMzkGuovjZJFXqYfIpYXAPjsz\",\n",
      "  \"object\": \"chat.completion\",\n",
      "  \"created\": 1699415824,\n",
      "  \"model\": \"gpt-4-1106-vision-preview\",\n",
      "  \"usage\": {\n",
      "    \"prompt_tokens\": 1130,\n",
      "    \"completion_tokens\": 229,\n",
      "    \"total_tokens\": 1359\n",
      "  },\n",
      "  \"choices\": [\n",
      "    {\n",
      "      \"message\": {\n",
      "        \"role\": \"assistant\",\n",
      "        \"content\": \"I'm sorry for the misunderstanding, but as an AI, I'm unable to directly perform calculations on data presented in image format, such as the Kaplan-Meier survival plot you've shown. The median survival time is typically found at the point at which the survival probability is 0.50 (or 50%) on the y-axis. This information is not provided in the table; the table only shows the number of individuals at risk at various time points.\\n\\nTo calculate the median survival from the plot, you would look for the time point on the x-axis where each colored survival curve crosses the 0.50 mark on the y-axis. Unfortunately, the survival curves and the crossing points for the median survival are not visible in the image provided, and hence cannot be estimated without additional data.\\n\\nFor accurate median survival estimations, the raw data used to generate the Kaplan-Meier curves or a more detailed version of the plot, where the 50% survival level can be precisely located, would be required. If you can provide the relevant data points for each group, I can certainly help explain how the median survival could be calculated.\"\n",
      "      },\n",
      "      \"finish_details\": {\n",
      "        \"type\": \"stop\",\n",
      "        \"stop\": \"<|fim_suffix|>\"\n",
      "      },\n",
      "      \"index\": 0\n",
      "    }\n",
      "  ]\n",
      "}\n"
     ]
    }
   ],
   "source": [
    "image_path = \"/home/ubuntu/codebase/LlaVa/kmcurve_w_numbers.png\"\n",
    "question = \"Can you use the table at the bottom to calculate the median survival for each colored line?\"\n",
    "gpt4t_vision_call(image_path, question)"
   ]
  },
  {
   "cell_type": "markdown",
   "id": "95275113",
   "metadata": {},
   "source": [
    "I'm sorry for the misunderstanding, but as an AI, I'm unable to directly perform calculations on data presented in image format, such as the Kaplan-Meier survival plot you've shown. The median survival time is typically found at the point at which the survival probability is 0.50 (or 50%) on the y-axis. This information is not provided in the table; the table only shows the number of individuals at risk at various time points.\n",
    "\n",
    "To calculate the median survival from the plot, you would look for the time point on the x-axis where each colored survival curve crosses the 0.50 mark on the y-axis. Unfortunately, the survival curves and the crossing points for the median survival are not visible in the image provided, and hence cannot be estimated without additional data.\n",
    "\n",
    "For accurate median survival estimations, the raw data used to generate the Kaplan-Meier curves or a more detailed version of the plot, where the 50% survival level can be precisely located, would be required. If you can provide the relevant data points for each group, I can certainly help explain how the median survival could be calculated."
   ]
  },
  {
   "cell_type": "code",
   "execution_count": 5,
   "id": "1350a383",
   "metadata": {},
   "outputs": [
    {
     "name": "stdout",
     "output_type": "stream",
     "text": [
      "{\n",
      "  \"id\": \"chatcmpl-8Il2Eycf4r6yFtGU6rMssza6rZkeX\",\n",
      "  \"object\": \"chat.completion\",\n",
      "  \"created\": 1699481398,\n",
      "  \"model\": \"gpt-4-1106-vision-preview\",\n",
      "  \"usage\": {\n",
      "    \"prompt_tokens\": 794,\n",
      "    \"completion_tokens\": 135,\n",
      "    \"total_tokens\": 929\n",
      "  },\n",
      "  \"choices\": [\n",
      "    {\n",
      "      \"message\": {\n",
      "        \"role\": \"assistant\",\n",
      "        \"content\": \"Based on the workflow chart you provided for grading assessment of CRS (Cytokine Release Syndrome), if your patient requires greater than or equal to 40% oxygen, they fall into Grade 3 CRS, as it specifies \\\"Hypoxia: requires \\u226540% O2.\\\"\\n\\nFor patients with Grade 3 CRS, the recommended treatment according to the chart is IL-6 receptor blockade, with the suggested medication being tocilizumab with or without corticosteroids. Remember to frequently monitor the patient for changes in clinical status and therapeutic response following the initiation of treatment, and always consult with the relevant treatment protocols and guidelines specific to your patient's situation.\"\n",
      "      },\n",
      "      \"finish_details\": {\n",
      "        \"type\": \"stop\",\n",
      "        \"stop\": \"<|fim_suffix|>\"\n",
      "      },\n",
      "      \"index\": 0\n",
      "    }\n",
      "  ]\n",
      "}\n"
     ]
    }
   ],
   "source": [
    "image_path = \"/home/ubuntu/codebase/LlaVa/CRS_treatment_workflow_basic.png\"\n",
    "question = \"My patient has CRS with ≥40% O2. As per this workflow which treatment should I try next?\"\n",
    "gpt4t_vision_call(image_path, question)"
   ]
  },
  {
   "cell_type": "markdown",
   "id": "abb26268",
   "metadata": {},
   "source": [
    "Based on the workflow chart you provided for grading assessment of CRS (Cytokine Release Syndrome), if your patient requires greater than or equal to 40% oxygen, they fall into Grade 3 CRS, as it specifies \"Hypoxia: requires ≥40% O2.\"\n",
    "\n",
    "For patients with Grade 3 CRS, the recommended treatment according to the chart is IL-6 receptor blockade, with the suggested medication being tocilizumab with or without corticosteroids. Remember to frequently monitor the patient for changes in clinical status and therapeutic response following the initiation of treatment, and always consult with the relevant treatment protocols and guidelines specific to your patient's situation."
   ]
  },
  {
   "cell_type": "markdown",
   "id": "c80b693a",
   "metadata": {},
   "source": [
    "Older response:\n",
    "\n",
    "Based on the workflow provided, if your patient has Cytokine Release Syndrome (CRS) and requires ≥40% oxygen, you should consider the criteria under Grade 3, which includes hypoxia that requires ≥40% O2. According to the workflow, the next step for a patient with Grade 3 CRS is to initiate IL-6 receptor blockade with tocilizumab, possibly in combination with corticosteroids. \n",
    "\n",
    "Additionally, ensure to monitor for any extensive comorbidities or considerations related to older age, which could influence the management approach.\n",
    "\n",
    "It is important to closely follow the treatment guidelines specific to the clinical scenario and adapt to the patient's condition based on their entire clinical picture and in accordance with best medical practices. Always consult with relevant guidelines, up-to-date clinical data, and consider a multi-disciplinary approach if necessary."
   ]
  },
  {
   "cell_type": "code",
   "execution_count": 31,
   "id": "ca3d3132",
   "metadata": {},
   "outputs": [
    {
     "name": "stdout",
     "output_type": "stream",
     "text": [
      "{\n",
      "  \"id\": \"chatcmpl-8IUGzH4IW0238agdvlyXf36PL69ui\",\n",
      "  \"object\": \"chat.completion\",\n",
      "  \"created\": 1699416965,\n",
      "  \"model\": \"gpt-4-1106-vision-preview\",\n",
      "  \"usage\": {\n",
      "    \"prompt_tokens\": 463,\n",
      "    \"completion_tokens\": 300,\n",
      "    \"total_tokens\": 763\n",
      "  },\n",
      "  \"choices\": [\n",
      "    {\n",
      "      \"message\": {\n",
      "        \"role\": \"assistant\",\n",
      "        \"content\": \"Based on the workflow you've shared for the treatment of cytokine release syndrome (CRS) as a result of immune effector cell-associated neurotoxicity syndrome (ICANS), if the patient initially diagnosed with grade 2 CRS is not improving after the administration of Tocilizumab (Toci) intravenously (IV) at 8 mg/kg (maximum dose of 800 mg), you have various options depending on the observed progression:\\n\\n1. **If the patient's condition deteriorates**, the workflow suggests administering Dexamethasone IV at 10 mg/6h for 1-3 days.\\n\\n2. **If there is no improvement within 3 days and other diagnoses are ruled out**, for a continued grade 2 CRS:\\n   - You might consider additional doses of Tocilizumab IV at 8 mg/kg (maximum of 800 mg).\\n\\n3. **If there is no improvement at H+12 after repeating Tocilizumab** (assuming a second dose was administered), then:\\n   - Dexamethasone IV should be administered at 20 mg/6h for 1-3 days.\\n\\n4. **If there is persistent deterioration or no improvement in condition**, and the patient moves towards grade 3 CRS, it appears that the workflow advises transitioning to a higher dose of Dexamethasone IV:\\n   - Administer Dexamethasone IV at 20 mg/6h for \"\n",
      "      },\n",
      "      \"finish_details\": {\n",
      "        \"type\": \"max_tokens\"\n",
      "      },\n",
      "      \"index\": 0\n",
      "    }\n",
      "  ]\n",
      "}\n"
     ]
    }
   ],
   "source": [
    "image_path = \"/home/ubuntu/codebase/LlaVa/CRS_treatment_workflow_hard.png\"\n",
    "question = \"After I administered Toci for a grade 2 CRS onseton a patient, his condition is not improving. What are my options based on this workflow?\"\n",
    "gpt4t_vision_call(image_path, question)"
   ]
  },
  {
   "cell_type": "markdown",
   "id": "c67a9451",
   "metadata": {},
   "source": [
    "Based on the workflow you've shared for the treatment of cytokine release syndrome (CRS) as a result of immune effector cell-associated neurotoxicity syndrome (ICANS), if the patient initially diagnosed with grade 2 CRS is not improving after the administration of Tocilizumab (Toci) intravenously (IV) at 8 mg/kg (maximum dose of 800 mg), you have various options depending on the observed progression:\n",
    "1. **If the patient's condition deteriorates**, the workflow suggests administering Dexamethasone IV at 10 mg/6h for 1-3 days.\n",
    "2. **If there is no improvement within 3 days and other diagnoses are ruled out**, for a continued grade 2 CRS: - You might consider additional doses of Tocilizumab IV at 8 mg/kg (maximum of 800 mg).\n",
    "3. **If there is no improvement at H+12 after repeating Tocilizumab** (assuming a second dose was administered), then: - Dexamethasone IV should be administered at 20 mg/6h for 1-3 days.\n",
    "4. **If there is persistent deterioration or no improvement in condition**, and the patient moves towards grade 3 CRS, it appears that the workflow advises transitioning to a higher dose of Dexamethasone IV: - Administer Dexamethasone IV at 20 mg/6h for "
   ]
  }
 ],
 "metadata": {
  "hide_input": false,
  "kernelspec": {
   "display_name": "Python 3 (ipykernel)",
   "language": "python",
   "name": "python3"
  },
  "language_info": {
   "codemirror_mode": {
    "name": "ipython",
    "version": 3
   },
   "file_extension": ".py",
   "mimetype": "text/x-python",
   "name": "python",
   "nbconvert_exporter": "python",
   "pygments_lexer": "ipython3",
   "version": "3.9.18"
  },
  "toc": {
   "base_numbering": 1,
   "nav_menu": {},
   "number_sections": true,
   "sideBar": true,
   "skip_h1_title": false,
   "title_cell": "Table of Contents",
   "title_sidebar": "Contents",
   "toc_cell": false,
   "toc_position": {},
   "toc_section_display": true,
   "toc_window_display": false
  }
 },
 "nbformat": 4,
 "nbformat_minor": 5
}
