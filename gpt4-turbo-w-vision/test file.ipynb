{
 "cells": [
  {
   "cell_type": "code",
   "execution_count": 4,
   "id": "f9578034",
   "metadata": {},
   "outputs": [],
   "source": [
    "import base64\n",
    "import requests\n",
    "import Constants\n",
    "import json\n",
    "\n",
    "# OpenAI API Key\n",
    "api_key = Constants.OPENAI_API_KEY"
   ]
  },
  {
   "cell_type": "code",
   "execution_count": 5,
   "id": "1e58d58b",
   "metadata": {},
   "outputs": [],
   "source": [
    "# Function to encode the image\n",
    "def encode_image(image_path):\n",
    "    with open(image_path, \"rb\") as image_file:\n",
    "        return base64.b64encode(image_file.read()).decode('utf-8')\n",
    "\n",
    "# Path to your image\n",
    "image_path = \"/home/ubuntu/codebase/LlaVa/cart_generations_wo_descr.png\"\n",
    "\n",
    "# Getting the base64 string\n",
    "base64_image = encode_image(image_path)\n",
    "\n",
    "headers = {\n",
    "    \"Content-Type\": \"application/json\",\n",
    "    \"Authorization\": f\"Bearer {api_key}\"\n",
    "}\n",
    "\n",
    "payload = {\n",
    "    \"model\": \"gpt-4-vision-preview\",\n",
    "    \"messages\": [\n",
    "      {\n",
    "        \"role\": \"user\",\n",
    "        \"content\": [\n",
    "          {\n",
    "            \"type\": \"text\",\n",
    "            \"text\": \"What’s in this image?\"\n",
    "          },\n",
    "          {\n",
    "            \"type\": \"image_url\",\n",
    "            \"image_url\": {\n",
    "              \"url\": f\"data:image/jpeg;base64,{base64_image}\"\n",
    "            }\n",
    "          }\n",
    "        ]\n",
    "      }\n",
    "    ],\n",
    "    \"max_tokens\": 300\n",
    "}\n",
    "\n",
    "response = requests.post(\"https://api.openai.com/v1/chat/completions\", headers=headers, json=payload)"
   ]
  },
  {
   "cell_type": "code",
   "execution_count": 6,
   "id": "166acf67",
   "metadata": {},
   "outputs": [
    {
     "data": {
      "text/plain": [
       "<Response [200]>"
      ]
     },
     "execution_count": 6,
     "metadata": {},
     "output_type": "execute_result"
    }
   ],
   "source": [
    "response"
   ]
  },
  {
   "cell_type": "code",
   "execution_count": 13,
   "id": "bff3a07b",
   "metadata": {},
   "outputs": [],
   "source": [
    "#dir(response)"
   ]
  },
  {
   "cell_type": "code",
   "execution_count": 12,
   "id": "92f4ce28",
   "metadata": {},
   "outputs": [
    {
     "data": {
      "text/plain": [
       "'{\"id\": \"chatcmpl-8IKxUWBGQGhHRItYKx3OztRuVwYT8\", \"object\": \"chat.completion\", \"created\": 1699381160, \"model\": \"gpt-4-1106-vision-preview\", \"usage\": {\"prompt_tokens\": 608, \"completion_tokens\": 300, \"total_tokens\": 908}, \"choices\": [{\"message\": {\"role\": \"assistant\", \"content\": \"This image depicts the schematic structure of various generations of Chimeric Antigen Receptors (CARs), which are synthetic molecules designed to equip T cells for improved cancer targeting and destruction.\\\\n\\\\nOn the left side of the image, you can see a representation of the 1st generation CAR, which consists of an antigen recognition domain with variable heavy (V_H) and light (V_L) chains depicted in salmon color, derived from an antibody, and this is linked to the CD3\\\\u03b6 (CD3 zeta) signaling domain in blue. This basic structure enables the modified T cells to recognize and kill tumor cells.\\\\n\\\\nThe 2nd generation CAR design, shown next, includes an additional costimulatory signal domain (in green), such as CD28, 4-1BB, OX40, or ICOS, which enhances the T cell\\'s proliferation and survival.\\\\n\\\\nThe 3rd generation CAR, to the right of the 2nd generation, incorporates two different costimulatory domains, intending to further increase the T cell\\'s anti-tumor activity.\\\\n\\\\nOn the far right, the 4th generation CAR (also referred to as TRUCKs, for T cells Redirected for Universal Cytokine Killing) includes not only the antigen recognition domain and the costimulatory domains but also a transgene for cytokines like IL-7, IL-12, IL-15, and IL-21, which can enhance immune responses. Additionally, this generation has safety switches\"}, \"finish_details\": {\"type\": \"max_tokens\"}, \"index\": 0}]}'"
      ]
     },
     "execution_count": 12,
     "metadata": {},
     "output_type": "execute_result"
    }
   ],
   "source": [
    "response.text"
   ]
  },
  {
   "cell_type": "code",
   "execution_count": 14,
   "id": "155c3127",
   "metadata": {},
   "outputs": [
    {
     "name": "stdout",
     "output_type": "stream",
     "text": [
      "{\n",
      "  \"id\": \"chatcmpl-8IKxUWBGQGhHRItYKx3OztRuVwYT8\",\n",
      "  \"object\": \"chat.completion\",\n",
      "  \"created\": 1699381160,\n",
      "  \"model\": \"gpt-4-1106-vision-preview\",\n",
      "  \"usage\": {\n",
      "    \"prompt_tokens\": 608,\n",
      "    \"completion_tokens\": 300,\n",
      "    \"total_tokens\": 908\n",
      "  },\n",
      "  \"choices\": [\n",
      "    {\n",
      "      \"message\": {\n",
      "        \"role\": \"assistant\",\n",
      "        \"content\": \"This image depicts the schematic structure of various generations of Chimeric Antigen Receptors (CARs), which are synthetic molecules designed to equip T cells for improved cancer targeting and destruction.\\n\\nOn the left side of the image, you can see a representation of the 1st generation CAR, which consists of an antigen recognition domain with variable heavy (V_H) and light (V_L) chains depicted in salmon color, derived from an antibody, and this is linked to the CD3\\u03b6 (CD3 zeta) signaling domain in blue. This basic structure enables the modified T cells to recognize and kill tumor cells.\\n\\nThe 2nd generation CAR design, shown next, includes an additional costimulatory signal domain (in green), such as CD28, 4-1BB, OX40, or ICOS, which enhances the T cell's proliferation and survival.\\n\\nThe 3rd generation CAR, to the right of the 2nd generation, incorporates two different costimulatory domains, intending to further increase the T cell's anti-tumor activity.\\n\\nOn the far right, the 4th generation CAR (also referred to as TRUCKs, for T cells Redirected for Universal Cytokine Killing) includes not only the antigen recognition domain and the costimulatory domains but also a transgene for cytokines like IL-7, IL-12, IL-15, and IL-21, which can enhance immune responses. Additionally, this generation has safety switches\"\n",
      "      },\n",
      "      \"finish_details\": {\n",
      "        \"type\": \"max_tokens\"\n",
      "      },\n",
      "      \"index\": 0\n",
      "    }\n",
      "  ]\n",
      "}\n"
     ]
    }
   ],
   "source": [
    "json_object = json.loads(response.text)\n",
    "json_formatted_str = json.dumps(json_object, indent=2)\n",
    "print(json_formatted_str)"
   ]
  },
  {
   "cell_type": "code",
   "execution_count": null,
   "id": "f1bb32d5",
   "metadata": {},
   "outputs": [],
   "source": []
  }
 ],
 "metadata": {
  "hide_input": false,
  "kernelspec": {
   "display_name": "Python 3 (ipykernel)",
   "language": "python",
   "name": "python3"
  },
  "language_info": {
   "codemirror_mode": {
    "name": "ipython",
    "version": 3
   },
   "file_extension": ".py",
   "mimetype": "text/x-python",
   "name": "python",
   "nbconvert_exporter": "python",
   "pygments_lexer": "ipython3",
   "version": "3.9.18"
  },
  "toc": {
   "base_numbering": 1,
   "nav_menu": {},
   "number_sections": true,
   "sideBar": true,
   "skip_h1_title": false,
   "title_cell": "Table of Contents",
   "title_sidebar": "Contents",
   "toc_cell": false,
   "toc_position": {},
   "toc_section_display": true,
   "toc_window_display": false
  }
 },
 "nbformat": 4,
 "nbformat_minor": 5
}
