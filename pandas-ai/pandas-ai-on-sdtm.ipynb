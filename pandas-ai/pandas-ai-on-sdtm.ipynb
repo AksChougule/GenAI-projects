{
 "cells": [
  {
   "cell_type": "code",
   "execution_count": 15,
   "metadata": {},
   "outputs": [],
   "source": [
    "# py39\n",
    "#!pip install pandasai"
   ]
  },
  {
   "cell_type": "code",
   "execution_count": 7,
   "metadata": {},
   "outputs": [],
   "source": [
    "#!pip install ssdtm"
   ]
  },
  {
   "cell_type": "code",
   "execution_count": 16,
   "metadata": {},
   "outputs": [],
   "source": [
    "#!pip install pandas"
   ]
  },
  {
   "cell_type": "code",
   "execution_count": 1,
   "metadata": {},
   "outputs": [],
   "source": [
    "import pandas as pd\n",
    "import ssdtm as sd\n",
    "\n",
    "from pandasai import SmartDataframe\n",
    "from pandasai.llm import OpenAI\n"
   ]
  },
  {
   "cell_type": "code",
   "execution_count": 2,
   "metadata": {},
   "outputs": [],
   "source": [
    "dm = sd.get_vital_signs(10, 6)"
   ]
  },
  {
   "cell_type": "code",
   "execution_count": 3,
   "metadata": {},
   "outputs": [
    {
     "data": {
      "text/plain": [
       "(240, 5)"
      ]
     },
     "execution_count": 3,
     "metadata": {},
     "output_type": "execute_result"
    }
   ],
   "source": [
    "dm.shape"
   ]
  },
  {
   "cell_type": "code",
   "execution_count": 4,
   "metadata": {},
   "outputs": [],
   "source": [
    "df = dm"
   ]
  },
  {
   "cell_type": "code",
   "execution_count": 5,
   "metadata": {},
   "outputs": [
    {
     "data": {
      "text/html": [
       "<div>\n",
       "<style scoped>\n",
       "    .dataframe tbody tr th:only-of-type {\n",
       "        vertical-align: middle;\n",
       "    }\n",
       "\n",
       "    .dataframe tbody tr th {\n",
       "        vertical-align: top;\n",
       "    }\n",
       "\n",
       "    .dataframe thead th {\n",
       "        text-align: right;\n",
       "    }\n",
       "</style>\n",
       "<table border=\"1\" class=\"dataframe\">\n",
       "  <thead>\n",
       "    <tr style=\"text-align: right;\">\n",
       "      <th></th>\n",
       "      <th>PATID</th>\n",
       "      <th>VSTESTCD</th>\n",
       "      <th>VSORRES</th>\n",
       "      <th>VSSTDTC</th>\n",
       "      <th>VISIT</th>\n",
       "    </tr>\n",
       "  </thead>\n",
       "  <tbody>\n",
       "    <tr>\n",
       "      <th>0</th>\n",
       "      <td>P00001</td>\n",
       "      <td>Heart Rate</td>\n",
       "      <td>72</td>\n",
       "      <td>2024-01-02</td>\n",
       "      <td>Visit 1</td>\n",
       "    </tr>\n",
       "    <tr>\n",
       "      <th>1</th>\n",
       "      <td>P00001</td>\n",
       "      <td>Blood Pressure</td>\n",
       "      <td>91</td>\n",
       "      <td>2023-07-14</td>\n",
       "      <td>Visit 1</td>\n",
       "    </tr>\n",
       "    <tr>\n",
       "      <th>2</th>\n",
       "      <td>P00001</td>\n",
       "      <td>Respiratory Rate</td>\n",
       "      <td>67</td>\n",
       "      <td>2023-12-06</td>\n",
       "      <td>Visit 1</td>\n",
       "    </tr>\n",
       "    <tr>\n",
       "      <th>3</th>\n",
       "      <td>P00001</td>\n",
       "      <td>Temperature</td>\n",
       "      <td>94</td>\n",
       "      <td>2023-09-03</td>\n",
       "      <td>Visit 1</td>\n",
       "    </tr>\n",
       "    <tr>\n",
       "      <th>4</th>\n",
       "      <td>P00001</td>\n",
       "      <td>Heart Rate</td>\n",
       "      <td>90</td>\n",
       "      <td>2023-06-11</td>\n",
       "      <td>Visit 2</td>\n",
       "    </tr>\n",
       "  </tbody>\n",
       "</table>\n",
       "</div>"
      ],
      "text/plain": [
       "    PATID          VSTESTCD  VSORRES     VSSTDTC    VISIT\n",
       "0  P00001        Heart Rate       72  2024-01-02  Visit 1\n",
       "1  P00001    Blood Pressure       91  2023-07-14  Visit 1\n",
       "2  P00001  Respiratory Rate       67  2023-12-06  Visit 1\n",
       "3  P00001       Temperature       94  2023-09-03  Visit 1\n",
       "4  P00001        Heart Rate       90  2023-06-11  Visit 2"
      ]
     },
     "execution_count": 5,
     "metadata": {},
     "output_type": "execute_result"
    }
   ],
   "source": [
    "df.head()"
   ]
  },
  {
   "cell_type": "code",
   "execution_count": 6,
   "metadata": {},
   "outputs": [],
   "source": [
    "llm = OpenAI(api_token='your_key')\n",
    "df = SmartDataframe(df=pd.DataFrame(df), config={\"llm\": llm})"
   ]
  },
  {
   "cell_type": "code",
   "execution_count": null,
   "metadata": {},
   "outputs": [
    {
     "name": "stdout",
     "output_type": "stream",
     "text": [
      "Found existing installation: pandas 1.5.3\n",
      "Uninstalling pandas-1.5.3:\n",
      "  Would remove:\n",
      "    /home/ubuntu/anaconda3/envs/py39/lib/python3.9/site-packages/pandas-1.5.3.dist-info/*\n",
      "    /home/ubuntu/anaconda3/envs/py39/lib/python3.9/site-packages/pandas/*\n",
      "Proceed (Y/n)? "
     ]
    }
   ],
   "source": [
    "! pip uninstall pandas Y"
   ]
  },
  {
   "cell_type": "code",
   "execution_count": 7,
   "metadata": {},
   "outputs": [
    {
     "name": "stdout",
     "output_type": "stream",
     "text": [
      "    Temperature  Count\n",
      "0            60      3\n",
      "1            61      1\n",
      "2            62      2\n",
      "3            65      1\n",
      "4            66      1\n",
      "5            67      1\n",
      "6            68      2\n",
      "7            69      1\n",
      "8            71      2\n",
      "9            73      3\n",
      "10           75      2\n",
      "11           77      1\n",
      "12           78      3\n",
      "13           79      1\n",
      "14           80      2\n",
      "15           81      1\n",
      "16           82      2\n",
      "17           83      2\n",
      "18           84      1\n",
      "19           85      1\n",
      "20           86      3\n",
      "21           87      2\n",
      "22           88      2\n",
      "23           89      5\n",
      "24           91      1\n",
      "25           92      1\n",
      "26           93      3\n",
      "27           94      3\n",
      "28           95      2\n",
      "29           97      1\n",
      "30           98      1\n",
      "31           99      1\n",
      "32          100      2\n"
     ]
    }
   ],
   "source": [
    "response = df.chat(\"What is the distribution of temperature for all PATIDs?\")\n",
    "print(response)"
   ]
  },
  {
   "cell_type": "code",
   "execution_count": 8,
   "metadata": {},
   "outputs": [
    {
     "name": "stdout",
     "output_type": "stream",
     "text": [
      "     VSORRES\n",
      "0         72\n",
      "1         91\n",
      "2         67\n",
      "3         94\n",
      "24        75\n",
      "25        92\n",
      "26        85\n",
      "27        89\n",
      "48        62\n",
      "49        70\n",
      "50        96\n",
      "51        66\n",
      "72        89\n",
      "73        81\n",
      "74        69\n",
      "75        88\n",
      "96        65\n",
      "97        62\n",
      "98        76\n",
      "99        80\n",
      "120       66\n",
      "121       94\n",
      "122       63\n",
      "123       73\n",
      "144       67\n",
      "145       61\n",
      "146       64\n",
      "147       67\n",
      "168       65\n",
      "169       90\n",
      "170       97\n",
      "171       94\n",
      "192       84\n",
      "193       67\n",
      "194      100\n",
      "195       97\n",
      "216       86\n",
      "217       91\n",
      "218       96\n",
      "219       87\n"
     ]
    }
   ],
   "source": [
    "response = df.chat(\"What is the distribution of temperature for visit1?\")\n",
    "print(response)"
   ]
  },
  {
   "cell_type": "code",
   "execution_count": 12,
   "metadata": {},
   "outputs": [
    {
     "name": "stdout",
     "output_type": "stream",
     "text": [
      "<property object at 0x7fe2709444a0>\n"
     ]
    }
   ],
   "source": [
    "print(SmartDataframe.last_code_generated)"
   ]
  },
  {
   "cell_type": "code",
   "execution_count": 13,
   "metadata": {},
   "outputs": [
    {
     "name": "stdout",
     "output_type": "stream",
     "text": [
      "Patients with increasing blood pressure per visit: P00001, P00002, P00003, P00004, P00005, P00006, P00007, P00008, P00009, P00010.\n"
     ]
    }
   ],
   "source": [
    "response = df.chat(\"Considering PATID is patient ID column, could you identify patients where blood pressure was increasing per visit?\")\n",
    "print(response)"
   ]
  },
  {
   "cell_type": "code",
   "execution_count": 14,
   "metadata": {},
   "outputs": [
    {
     "name": "stdout",
     "output_type": "stream",
     "text": [
      "<property object at 0x7fe2709444a0>\n"
     ]
    }
   ],
   "source": [
    "print(SmartDataframe.last_code_generated)"
   ]
  },
  {
   "cell_type": "code",
   "execution_count": null,
   "metadata": {},
   "outputs": [],
   "source": []
  }
 ],
 "metadata": {
  "hide_input": false,
  "kernelspec": {
   "display_name": "Python 3 (ipykernel)",
   "language": "python",
   "name": "python3"
  },
  "language_info": {
   "codemirror_mode": {
    "name": "ipython",
    "version": 3
   },
   "file_extension": ".py",
   "mimetype": "text/x-python",
   "name": "python",
   "nbconvert_exporter": "python",
   "pygments_lexer": "ipython3",
   "version": "3.9.18"
  },
  "toc": {
   "base_numbering": 1,
   "nav_menu": {},
   "number_sections": true,
   "sideBar": true,
   "skip_h1_title": false,
   "title_cell": "Table of Contents",
   "title_sidebar": "Contents",
   "toc_cell": false,
   "toc_position": {},
   "toc_section_display": true,
   "toc_window_display": false
  }
 },
 "nbformat": 4,
 "nbformat_minor": 4
}
