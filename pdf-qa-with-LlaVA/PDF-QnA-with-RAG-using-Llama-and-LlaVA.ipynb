{
 "cells": [
  {
   "cell_type": "markdown",
   "id": "b341500e",
   "metadata": {},
   "source": [
    "Author: Akshay Chougule\n",
    "\n",
    "Date of first publication: Nov 5, 2023\n",
    "\n",
    "Description: This is an attempt to query a multimodal pdf on local system using LlaMa and LlaVA"
   ]
  },
  {
   "cell_type": "code",
   "execution_count": 1,
   "id": "39cf70ba",
   "metadata": {},
   "outputs": [],
   "source": [
    "import os\n",
    "import Constants\n",
    "\n",
    "os.environ[\"OPENAI_API_KEY\"] = Constants.OPENAI_API_KEY"
   ]
  },
  {
   "cell_type": "code",
   "execution_count": 2,
   "id": "49f66079",
   "metadata": {},
   "outputs": [],
   "source": [
    "from langchain.vectorstores import Chroma\n",
    "from langchain.embeddings import OpenAIEmbeddings\n",
    "from langchain.text_splitter import RecursiveCharacterTextSplitter\n",
    "from langchain.llms import OpenAI\n",
    "from langchain.chains import RetrievalQA\n",
    "from langchain.document_loaders import TextLoader\n",
    "from langchain.document_loaders import DirectoryLoader, PyPDFDirectoryLoader"
   ]
  },
  {
   "cell_type": "markdown",
   "id": "843854ca",
   "metadata": {},
   "source": [
    "# First pass"
   ]
  },
  {
   "cell_type": "markdown",
   "id": "ff656add",
   "metadata": {},
   "source": [
    "## Loaders"
   ]
  },
  {
   "cell_type": "markdown",
   "id": "9f36c0b1",
   "metadata": {},
   "source": [
    "This first part is largely based on:\n",
    "* https://colab.research.google.com/drive/1gyGZn_LZNrYXYXa-pltFExbptIe7DAPe?usp=sharing#scrollTo=cYA-H59u0Skn\n",
    "* https://www.youtube.com/watch?v=3yPBVii7Ct0"
   ]
  },
  {
   "cell_type": "code",
   "execution_count": 3,
   "id": "fdbba60b",
   "metadata": {},
   "outputs": [],
   "source": [
    "from langchain.document_loaders import PyPDFDirectoryLoader\n",
    "loader = PyPDFDirectoryLoader('./cart_research_pdfs/',glob=\"./*.pdf\")"
   ]
  },
  {
   "cell_type": "code",
   "execution_count": 6,
   "id": "3d7f859a",
   "metadata": {},
   "outputs": [
    {
     "data": {
      "text/plain": [
       "(84,\n",
       " Document(page_content='Int. J. Biol. Sci. 2019, Vol. 15 \\n \\n \\nhttp://www. ijbs.com  2548 \\nInternational  Journal  of Biological Sciences  \\n2019;  15(12):  2548-2560.  doi: 10.7150/ ijbs.34213 \\nReview \\nCurrent P rogress in  CAR- T Cell Therapy for  Solid  \\nTumors  \\nShuo  Ma1,*, Xinchun Li1,*, Xinyue  Wang1,*, Liang  Cheng1,2, Zhong  Li1, Changzheng  Zhang1, Zhenlong  \\nYe1,3,4,\\uf02a, Qijun  Qian1,3,4\\uf02a \\n1. Shanghai  Baize  Medic al Laboratory, Shanghai,  China  \\n2. Department  of Pathology  and Laboratory  Medicine,  Indiana  University  School  of Medicine,  Indianapolis,  Indiana,  USA  \\n3. Shanghai  Cell Therapy  Research  Institute,  Shanghai,  China  \\n4. Shanghai  Engineering  Research  Center  for Cell Therapy,  Shanghai,  China  \\n* These  authors  contributed  equally  to this work.  \\n\\uf02a Corresponding author s: Qijun  Qian , Shanghai  Baize  Medical  Laboratory , 75 Qianyang Road,  Shanghai  201805,  China . Email:  qian@shcell.org;  Zhenlong  Ye, \\nShanghai  Baize  Medical  Laboratory , 75 Qianyang  Road,  Shanghai  201805,  China . Email:  yezl@shcell.org  \\n© The author(s). This  is an open  access  article  distributed  under  the terms  of the Creative  Commons  Attribution  License  (https://creativecommons.org/licenses/by/4.0/). \\nSee http://ivyspring.com/terms  for full terms  and conditions . \\nReceived: 2019. 02.18; Accepted:  2019. 07.16; Published:  2019. 09.07 \\nAbstract  \\nCancer immunotherapy  by chimeric antigen  receptor- modified T (CAR -T) cells has shown  \\nexhilarative  clinical  efficacy for hematological malignancies.  Recently  two CAR-T cell based  \\ntherapeutics,  Kymriah  (Tisagenlecleucel) and Yescarta  (Axicabtagene  ciloleucel)  approved by US \\nFDA (US Food and Drug Administration)  are now used for treatment of B cell acute  lymphoblastic  \\nleukemia  (B-ALL)  and diffuse  large B-cell  lymphoma  (DLBCL)  respectively  in the US. Despite  the \\nprogresses  made  in treating  hematological  malignancies,  challenges  still remain  for use of CAR-T cell \\ntherapy  to treat solid tumors.  In this landscape,  most studies  have primarily  focused on improvi ng \\nCAR-T cells and overcoming  the unfavorable  effects  of tumor  microenvironment  on solid tumors.  \\nTo further  understand the current  status  and trend for developing  CAR-T cell based  therapies  for \\nvarious  solid tumors,  this review  emphasizes  on CAR-T techniques, current  obstacles,  and \\nstrategies  for application , as well as necessary companion  diagnostics  for treatment  of solid tumors  \\nwith CAR-T cells. \\nKey words:  CAR -T cells;  chimeric  antigen receptor;  solid  tumors;  companion  diagnostics;  CTC  \\nIntroduction \\nImmunotherapy  with  CAR -T cells  has achieved  \\ntremendous  successes  in treatment of hematological  \\nmalignancies.  Two  CD19 -targeting  CAR -T cell \\nproducts,  Kymriah  from  the Novartis  (East  Hanover,  \\nNJ USA)  and Yescarta  from  the Kite Pharma  (Santa  \\nMonica,  CA USA),  have  been  approved  by the US \\nFDA  for treating  B cell acute  lymphoblastic  leukemia  \\n(B-ALL)  and diffuse  large  B-cell lymphoma  (DLBCL) , \\nrespectively  [1]. However,  due to intricacies  of solid  \\ntumors  and their  locations  in the human  body,  \\ntreatment of solid  tumors  with  CAR -T cells  is facing  \\nmultiple  obstacles,  such  as the hostile  tumor  \\nmicroenvironment,  on-tumor/off -tumor  toxicities,  \\nand undesired antigen  specificity  [2]. Many  strategies  \\nand approaches  have  been  tried  to overcome  these  obstacles,  including  arming  CAR -T cells  with  \\nknock -out of PD-1 expression  or secretion  of \\ncytokines/chemokines  and using  CAR -T cells  in \\ncombination  with  other  treatments  [3-5]. Despite  these  \\nefforts,  there  are still no CAR -T cells  clinically  \\napproved  for solid  tumor  treatment  so far. \\nEncouragingly  and optimistically,  in this landscape,  \\nmore  than  forty  clinical  trials  in treatment  of solid  \\ntumors  by CAR -T cells  have  been  registered in China  \\nalone  (Table  1) [6]. \\nBeside the focuses  on the aspects  of treatment,  \\ncompanion diagnostics  are increasingly  recognized  as \\nplaying  important roles  in patient  screening,  \\ntreatment regimen,  efficacy  evaluation,  and real-time  \\nmonitoring  of CAR -T cell therapies.  Therefore,  in this  \\nIvyspring   \\nInternational Publisher  ', metadata={'source': 'cart_research_pdfs/paper4.pdf', 'page': 0}))"
      ]
     },
     "execution_count": 6,
     "metadata": {},
     "output_type": "execute_result"
    }
   ],
   "source": [
    "docs = loader.load()\n",
    "len(docs), docs[0]"
   ]
  },
  {
   "cell_type": "code",
   "execution_count": 7,
   "id": "6c6c69da",
   "metadata": {},
   "outputs": [
    {
     "data": {
      "text/plain": [
       "(168,\n",
       " Document(page_content='Int. J. Biol. Sci. 2019, Vol. 15 \\n \\n \\nhttp://www. ijbs.com  2548 \\nInternational  Journal  of Biological Sciences  \\n2019;  15(12):  2548-2560.  doi: 10.7150/ ijbs.34213 \\nReview \\nCurrent P rogress in  CAR- T Cell Therapy for  Solid  \\nTumors  \\nShuo  Ma1,*, Xinchun Li1,*, Xinyue  Wang1,*, Liang  Cheng1,2, Zhong  Li1, Changzheng  Zhang1, Zhenlong  \\nYe1,3,4,\\uf02a, Qijun  Qian1,3,4\\uf02a \\n1. Shanghai  Baize  Medic al Laboratory, Shanghai,  China  \\n2. Department  of Pathology  and Laboratory  Medicine,  Indiana  University  School  of Medicine,  Indianapolis,  Indiana,  USA  \\n3. Shanghai  Cell Therapy  Research  Institute,  Shanghai,  China  \\n4. Shanghai  Engineering  Research  Center  for Cell Therapy,  Shanghai,  China  \\n* These  authors  contributed  equally  to this work.  \\n\\uf02a Corresponding author s: Qijun  Qian , Shanghai  Baize  Medical  Laboratory , 75 Qianyang Road,  Shanghai  201805,  China . Email:  qian@shcell.org;  Zhenlong  Ye, \\nShanghai  Baize  Medical  Laboratory , 75 Qianyang  Road,  Shanghai  201805,  China . Email:  yezl@shcell.org  \\n© The author(s). This  is an open  access  article  distributed  under  the terms  of the Creative  Commons  Attribution  License  (https://creativecommons.org/licenses/by/4.0/). \\nSee http://ivyspring.com/terms  for full terms  and conditions . \\nReceived: 2019. 02.18; Accepted:  2019. 07.16; Published:  2019. 09.07 \\nAbstract  \\nCancer immunotherapy  by chimeric antigen  receptor- modified T (CAR -T) cells has shown  \\nexhilarative  clinical  efficacy for hematological malignancies.  Recently  two CAR-T cell based  \\ntherapeutics,  Kymriah  (Tisagenlecleucel) and Yescarta  (Axicabtagene  ciloleucel)  approved by US \\nFDA (US Food and Drug Administration)  are now used for treatment of B cell acute  lymphoblastic  \\nleukemia  (B-ALL)  and diffuse  large B-cell  lymphoma  (DLBCL)  respectively  in the US. Despite  the \\nprogresses  made  in treating  hematological  malignancies,  challenges  still remain  for use of CAR-T cell \\ntherapy  to treat solid tumors.  In this landscape,  most studies  have primarily  focused on improvi ng \\nCAR-T cells and overcoming  the unfavorable  effects  of tumor  microenvironment  on solid tumors.  \\nTo further  understand the current  status  and trend for developing  CAR-T cell based  therapies  for \\nvarious  solid tumors,  this review  emphasizes  on CAR-T techniques, current  obstacles,  and \\nstrategies  for application , as well as necessary companion  diagnostics  for treatment  of solid tumors  \\nwith CAR-T cells. \\nKey words:  CAR -T cells;  chimeric  antigen receptor;  solid  tumors;  companion  diagnostics;  CTC  \\nIntroduction \\nImmunotherapy  with  CAR -T cells  has achieved  \\ntremendous  successes  in treatment of hematological  \\nmalignancies.  Two  CD19 -targeting  CAR -T cell \\nproducts,  Kymriah  from  the Novartis  (East  Hanover,  \\nNJ USA)  and Yescarta  from  the Kite Pharma  (Santa  \\nMonica,  CA USA),  have  been  approved  by the US \\nFDA  for treating  B cell acute  lymphoblastic  leukemia  \\n(B-ALL)  and diffuse  large  B-cell lymphoma  (DLBCL) , \\nrespectively  [1]. However,  due to intricacies  of solid  \\ntumors  and their  locations  in the human  body,  \\ntreatment of solid  tumors  with  CAR -T cells  is facing  \\nmultiple  obstacles,  such  as the hostile  tumor  \\nmicroenvironment,  on-tumor/off -tumor  toxicities,  \\nand undesired antigen  specificity  [2]. Many  strategies  \\nand approaches  have  been  tried  to overcome  these  obstacles,  including  arming  CAR -T cells  with  \\nknock -out of PD-1 expression  or secretion  of \\ncytokines/chemokines  and using  CAR -T cells  in \\ncombination  with  other  treatments  [3-5]. Despite  these  \\nefforts,  there  are still no CAR -T cells  clinically  \\napproved  for solid  tumor  treatment  so far. \\nEncouragingly  and optimistically,  in this landscape,  \\nmore  than  forty  clinical  trials  in treatment  of solid  \\ntumors  by CAR -T cells  have  been  registered in China  \\nalone  (Table  1) [6].', metadata={'source': 'cart_research_pdfs/paper4.pdf', 'page': 0}))"
      ]
     },
     "execution_count": 7,
     "metadata": {},
     "output_type": "execute_result"
    }
   ],
   "source": [
    "docs = loader.load_and_split()\n",
    "len(docs), docs[0]"
   ]
  },
  {
   "cell_type": "code",
   "execution_count": 4,
   "id": "25d190a5",
   "metadata": {},
   "outputs": [
    {
     "data": {
      "text/plain": [
       "(422,\n",
       " Document(page_content='Gene, Cell, + RNA Therapy Landscape Report\\nQ3 2023 Quarterly Data Report', metadata={'source': 'cart_research_pdfs/ASGCT-Citeline-Q3-2023-Report.pdf', 'page': 0}))"
      ]
     },
     "execution_count": 4,
     "metadata": {},
     "output_type": "execute_result"
    }
   ],
   "source": [
    "documents = loader.load()\n",
    "text_splitter = RecursiveCharacterTextSplitter(chunk_size=1500, chunk_overlap=250)\n",
    "texts = text_splitter.split_documents(documents)\n",
    "len(texts), texts[0]"
   ]
  },
  {
   "cell_type": "markdown",
   "id": "8ebbdc16",
   "metadata": {},
   "source": [
    "## Vector DB"
   ]
  },
  {
   "cell_type": "code",
   "execution_count": 5,
   "id": "26d6f1ef",
   "metadata": {},
   "outputs": [],
   "source": [
    "# Embed and store the texts\n",
    "\n",
    "# Supplying a persist_directory will store the embeddings on disk\n",
    "persist_directory = 'db'\n",
    "\n",
    "## here we are using OpenAI embeddings but in future we will swap out to local embeddings\n",
    "embedding = OpenAIEmbeddings()\n",
    "\n",
    "vectordb = Chroma.from_documents(documents=texts, \n",
    "                                 embedding=embedding,\n",
    "                                 persist_directory=persist_directory)"
   ]
  },
  {
   "cell_type": "code",
   "execution_count": 6,
   "id": "0bb7bc5f",
   "metadata": {},
   "outputs": [
    {
     "data": {
      "text/plain": [
       "<langchain.vectorstores.chroma.Chroma at 0x7f2a43e11760>"
      ]
     },
     "execution_count": 6,
     "metadata": {},
     "output_type": "execute_result"
    }
   ],
   "source": [
    "vectordb"
   ]
  },
  {
   "cell_type": "code",
   "execution_count": 17,
   "id": "cd3dc664",
   "metadata": {},
   "outputs": [],
   "source": [
    "# persiste the db to disk\n",
    "vectordb.persist()\n",
    "# Delete in memory instance\n",
    "vectordb = None"
   ]
  },
  {
   "cell_type": "code",
   "execution_count": 18,
   "id": "e07ed27a",
   "metadata": {},
   "outputs": [],
   "source": [
    "vectordb"
   ]
  },
  {
   "cell_type": "code",
   "execution_count": 19,
   "id": "14cd45e6",
   "metadata": {},
   "outputs": [
    {
     "data": {
      "text/plain": [
       "<langchain.vectorstores.chroma.Chroma at 0x7fcb768d7790>"
      ]
     },
     "execution_count": 19,
     "metadata": {},
     "output_type": "execute_result"
    }
   ],
   "source": [
    "# Now we can load the persisted database from disk, and use it as normal. \n",
    "vectordb = Chroma(persist_directory=persist_directory, \n",
    "                  embedding_function=embedding)\n",
    "vectordb"
   ]
  },
  {
   "cell_type": "markdown",
   "id": "babe06fb",
   "metadata": {},
   "source": [
    "## Retriever"
   ]
  },
  {
   "cell_type": "code",
   "execution_count": 7,
   "id": "70bd6be1",
   "metadata": {},
   "outputs": [],
   "source": [
    "retriever = vectordb.as_retriever()"
   ]
  },
  {
   "cell_type": "code",
   "execution_count": 8,
   "id": "9a3ae8a4",
   "metadata": {},
   "outputs": [],
   "source": [
    "docs = retriever.get_relevant_documents(\"What is cellular target of tisagenlecleucel?\")"
   ]
  },
  {
   "cell_type": "code",
   "execution_count": 9,
   "id": "a68be9b2",
   "metadata": {},
   "outputs": [
    {
     "data": {
      "text/plain": [
       "[Document(page_content='Leukemia. NE n g lJM e d (2018) 378(5):439 –48. doi: 10.1056/\\nNEJMoa1709866\\n2. Schuster SJ, Bishop MR, Tam CS, Waller EK, Borchmann P, McGuirk JP,\\net al. Tisagenlecleucel in Adult Relapsed or Refractory Diffuse Large B-Cell\\nLymphoma. N Engl J Med (2019) 380:45 –56. doi: 10.1056/NEJMoa18049803. Fowler NH, Dickinson M, Dreyling M, Martinez-Lopez J, Kolstad A, Butler\\nJ, et al. Tisagenlecleucel in Adult Relapsed or Refractory Follicular\\nLymphoma: The Phase 2 ELARA Trial. Nat Med (2021) 28(2):325 –32.\\ndoi: 10.1038/s41591-021-01622-0\\n4. Locke FL, Ghobadi A, Jacobson CA, Miklos DB, Lekakis LJ, Oluwole OO,\\net al. Long-Term Safety and Activity of Axicabtagene Ciloleucel in\\nRefractory Large B-Cell Lymphoma (ZUMA-1): A Single-Arm,\\nMulticentre, Phase 1-2 Trial. Lancet Oncol (2019) 20(1):31 –42.\\ndoi: 10.1016/S1470-2045(18)30864-7TABLE 3 | Combinatorial strategies with CAR-T cell therapy reported in clinical studies.\\nCombinatorial approach Disease Target Reference\\nPD-1 blockade R/R NHL CD19 ( 256,257)\\nIbrutinib R/R CLL, MCL, FL CD19 ( 230,231,233)\\nRadiotherapy R/R NHL CD19 ( 238–241)\\nDecitabine R/R NHL CD19 ( 236)\\nLenalidomide R/R MM BCMA ( 229)\\nSelinexor-based regimens R/R MM BCMA ( 228)\\nCarﬁlzomib-based regimens R/R MM BCMA ( 227)Zhang et al. CAR-T Therapy in Hematological Malignancies\\nFrontiers in Immunology | www.frontiersin.org June 2022 | Volume 13 | Article 927153 12', metadata={'page': 11, 'source': 'cart_research_pdfs/paper3.pdf'}),\n",
       " Document(page_content='Leukemia. NE n g lJM e d (2018) 378(5):439 –48. doi: 10.1056/\\nNEJMoa1709866\\n2. Schuster SJ, Bishop MR, Tam CS, Waller EK, Borchmann P, McGuirk JP,\\net al. Tisagenlecleucel in Adult Relapsed or Refractory Diffuse Large B-Cell\\nLymphoma. N Engl J Med (2019) 380:45 –56. doi: 10.1056/NEJMoa18049803. Fowler NH, Dickinson M, Dreyling M, Martinez-Lopez J, Kolstad A, Butler\\nJ, et al. Tisagenlecleucel in Adult Relapsed or Refractory Follicular\\nLymphoma: The Phase 2 ELARA Trial. Nat Med (2021) 28(2):325 –32.\\ndoi: 10.1038/s41591-021-01622-0\\n4. Locke FL, Ghobadi A, Jacobson CA, Miklos DB, Lekakis LJ, Oluwole OO,\\net al. Long-Term Safety and Activity of Axicabtagene Ciloleucel in\\nRefractory Large B-Cell Lymphoma (ZUMA-1): A Single-Arm,\\nMulticentre, Phase 1-2 Trial. Lancet Oncol (2019) 20(1):31 –42.\\ndoi: 10.1016/S1470-2045(18)30864-7TABLE 3 | Combinatorial strategies with CAR-T cell therapy reported in clinical studies.\\nCombinatorial approach Disease Target Reference\\nPD-1 blockade R/R NHL CD19 ( 256,257)\\nIbrutinib R/R CLL, MCL, FL CD19 ( 230,231,233)\\nRadiotherapy R/R NHL CD19 ( 238–241)\\nDecitabine R/R NHL CD19 ( 236)\\nLenalidomide R/R MM BCMA ( 229)\\nSelinexor-based regimens R/R MM BCMA ( 228)\\nCarﬁlzomib-based regimens R/R MM BCMA ( 227)Zhang et al. CAR-T Therapy in Hematological Malignancies\\nFrontiers in Immunology | www.frontiersin.org June 2022 | Volume 13 | Article 927153 12', metadata={'page': 11, 'source': 'cart_research_pdfs/paper3.pdf'}),\n",
       " Document(page_content='Leukemia. NE n g lJM e d (2018) 378(5):439 –48. doi: 10.1056/\\nNEJMoa1709866\\n2. Schuster SJ, Bishop MR, Tam CS, Waller EK, Borchmann P, McGuirk JP,\\net al. Tisagenlecleucel in Adult Relapsed or Refractory Diffuse Large B-Cell\\nLymphoma. N Engl J Med (2019) 380:45 –56. doi: 10.1056/NEJMoa18049803. Fowler NH, Dickinson M, Dreyling M, Martinez-Lopez J, Kolstad A, Butler\\nJ, et al. Tisagenlecleucel in Adult Relapsed or Refractory Follicular\\nLymphoma: The Phase 2 ELARA Trial. Nat Med (2021) 28(2):325 –32.\\ndoi: 10.1038/s41591-021-01622-0\\n4. Locke FL, Ghobadi A, Jacobson CA, Miklos DB, Lekakis LJ, Oluwole OO,\\net al. Long-Term Safety and Activity of Axicabtagene Ciloleucel in\\nRefractory Large B-Cell Lymphoma (ZUMA-1): A Single-Arm,\\nMulticentre, Phase 1-2 Trial. Lancet Oncol (2019) 20(1):31 –42.\\ndoi: 10.1016/S1470-2045(18)30864-7TABLE 3 | Combinatorial strategies with CAR-T cell therapy reported in clinical studies.\\nCombinatorial approach Disease Target Reference\\nPD-1 blockade R/R NHL CD19 ( 256,257)\\nIbrutinib R/R CLL, MCL, FL CD19 ( 230,231,233)\\nRadiotherapy R/R NHL CD19 ( 238–241)\\nDecitabine R/R NHL CD19 ( 236)\\nLenalidomide R/R MM BCMA ( 229)\\nSelinexor-based regimens R/R MM BCMA ( 228)\\nCarﬁlzomib-based regimens R/R MM BCMA ( 227)Zhang et al. CAR-T Therapy in Hematological Malignancies\\nFrontiers in Immunology | www.frontiersin.org June 2022 | Volume 13 | Article 927153 12', metadata={'page': 11, 'source': 'cart_research_pdfs/paper3.pdf'}),\n",
       " Document(page_content='would continue two phase I clinical trials for acute myeloid\\nleukemia (NCT03190278) and blastic plasmacytoid dendritic cellneoplasm (NCT03203369) subject to agreed clinical regimenswith FDA. The detailed results are still unknown.\\nMost research targeted one speci ﬁc marker, but UCAR-T cell\\nallows for a CD19/CD20 and CD19/CD22 (NCT03398967)\\nmultitarget approach. Recently, Yongxian Hu et al. reported\\nCTA101, a universal CD19/CD22 dual-targeted CAR-T cellthat disrupted T-cell receptor alpha chain (TRAC) and CD52by clustered regularly interspaced short palindromic repeats/Cas9 (CRISPR/Cas9). This exhibited a CR rate of 83.3% (5/6)without dose-limiting toxicity, GVHD, neurotoxicity, or adverseevents related to genome editing ( 33).\\nCurrently, there are just a few registered UCAR-T cells\\nclinical trials for solid tumors, such as allogeneic NKG2DL-targeting CAR-T cells (NCT04107142) for relapsed or refractorycolorectal cancer, breast cancer, and sarcoma. Additionally,allogeneic disialoganglioside 2 (GD2)-targeting CAR-T cells areunder test for relapsed or refractory neuroblastoma\\n(NCT01460901) and allogeneic CD70 targeting CAR-T cells\\nfor relapsed or refractory renal cell carcinoma (NCT02830724).The latter has been suspended. Based on these clinical trials, it islikely that UCAR-T cell therapy will be ﬁrst used for\\nhematological malignancies, while for solid tumors, the UCAR-T cell study is still in its infancy with broad prospects forthe future.\\nGene Editing in UCAR-T Cell Therapy', metadata={'page': 4, 'source': 'cart_research_pdfs/paper2.pdf'})]"
      ]
     },
     "execution_count": 9,
     "metadata": {},
     "output_type": "execute_result"
    }
   ],
   "source": [
    "docs"
   ]
  },
  {
   "cell_type": "markdown",
   "id": "08d3d470",
   "metadata": {},
   "source": [
    "# Second Pass"
   ]
  },
  {
   "cell_type": "markdown",
   "id": "2b3ac191",
   "metadata": {},
   "source": [
    "Now that we have seen complete basic workflow, let's try to refine some steps"
   ]
  },
  {
   "cell_type": "markdown",
   "id": "7420779f",
   "metadata": {},
   "source": [
    "This section is largely based on:\n",
    "* https://github.com/langchain-ai/langchain/blob/master/cookbook/Semi_Structured_RAG.ipynb\n",
    "* https://github.com/langchain-ai/langchain/blob/master/cookbook/Semi_structured_and_multi_modal_RAG.ipynb\n",
    "* https://github.com/langchain-ai/langchain/blob/master/cookbook/Semi_structured_multi_modal_RAG_LLaMA2.ipynb"
   ]
  },
  {
   "cell_type": "markdown",
   "id": "7dcddf7f",
   "metadata": {},
   "source": [
    "## Extracting table and images (along with the text)"
   ]
  },
  {
   "cell_type": "markdown",
   "id": "b8a84014",
   "metadata": {},
   "source": [
    "We will use the [Gene, Cell, + RNA Therapy Landscape: Q3 2023 Quarterly Data Report](https://asgct.org/global/documents/asgct-citeline-q3-2023-report.aspx) as the RAG source to test this experiment."
   ]
  },
  {
   "cell_type": "code",
   "execution_count": 15,
   "id": "87eeeab3",
   "metadata": {},
   "outputs": [],
   "source": [
    "from lxml import html\n",
    "from pydantic import BaseModel\n",
    "from typing import Any, Optional\n",
    "from unstructured.partition.pdf import partition_pdf\n",
    "\n",
    "# Get elements\n",
    "raw_pdf_elements = partition_pdf(\n",
    "    filename=\"./cart_research_pdfs/ASGCT-Q32023.pdf\",\n",
    "    # Using pdf format to find embedded image blocks\n",
    "    extract_images_in_pdf=True,\n",
    "    # Use layout model (YOLOX) to get bounding boxes (for tables) and find titles\n",
    "    # Titles are any sub-section of the document\n",
    "    infer_table_structure=True,\n",
    "    # Post processing to aggregate text once we have the title\n",
    "    chunking_strategy=\"by_title\",\n",
    "    # Chunking params to aggregate text blocks\n",
    "    # Attempt to create a new chunk 3800 chars\n",
    "    # Attempt to keep chunks > 2000 chars\n",
    "    # Hard max on chunks\n",
    "    max_characters=4000,\n",
    "    new_after_n_chars=3800,\n",
    "    combine_text_under_n_chars=2000,\n",
    "    image_output_dir_path=\".\",\n",
    ")\n"
   ]
  },
  {
   "cell_type": "code",
   "execution_count": 16,
   "id": "d9bb71c6",
   "metadata": {},
   "outputs": [
    {
     "data": {
      "text/plain": [
       "{\"<class 'unstructured.documents.elements.CompositeElement'>\": 25,\n",
       " \"<class 'unstructured.documents.elements.Table'>\": 15}"
      ]
     },
     "execution_count": 16,
     "metadata": {},
     "output_type": "execute_result"
    }
   ],
   "source": [
    "# Create a dictionary to store counts of each type\n",
    "category_counts = {}\n",
    "\n",
    "for element in raw_pdf_elements:\n",
    "    category = str(type(element))\n",
    "    if category in category_counts:\n",
    "        category_counts[category] += 1\n",
    "    else:\n",
    "        category_counts[category] = 1\n",
    "\n",
    "# Unique_categories will have unique elements\n",
    "unique_categories = set(category_counts.keys())\n",
    "category_counts"
   ]
  },
  {
   "cell_type": "code",
   "execution_count": 17,
   "id": "a066f328",
   "metadata": {},
   "outputs": [
    {
     "data": {
      "text/plain": [
       "<unstructured.documents.elements.CompositeElement at 0x7f28c16fef70>"
      ]
     },
     "execution_count": 17,
     "metadata": {},
     "output_type": "execute_result"
    }
   ],
   "source": [
    "raw_pdf_elements[0]"
   ]
  },
  {
   "cell_type": "code",
   "execution_count": 18,
   "id": "70e3d533",
   "metadata": {},
   "outputs": [
    {
     "name": "stdout",
     "output_type": "stream",
     "text": [
      "15\n",
      "25\n"
     ]
    }
   ],
   "source": [
    "class Element(BaseModel):\n",
    "    type: str\n",
    "    text: Any\n",
    "\n",
    "\n",
    "# Categorize by type\n",
    "categorized_elements = []\n",
    "for element in raw_pdf_elements:\n",
    "    if \"unstructured.documents.elements.Table\" in str(type(element)):\n",
    "        categorized_elements.append(Element(type=\"table\", text=str(element)))\n",
    "    elif \"unstructured.documents.elements.CompositeElement\" in str(type(element)):\n",
    "        categorized_elements.append(Element(type=\"text\", text=str(element)))\n",
    "\n",
    "# Tables\n",
    "table_elements = [e for e in categorized_elements if e.type == \"table\"]\n",
    "print(len(table_elements))\n",
    "\n",
    "# Text\n",
    "text_elements = [e for e in categorized_elements if e.type == \"text\"]\n",
    "print(len(text_elements))\n"
   ]
  },
  {
   "cell_type": "markdown",
   "id": "ca30cda9",
   "metadata": {},
   "source": [
    "## Multi-vector retriever\n",
    "\n",
    "Using multi-vector-retriever.\n",
    "\n",
    "The summaries are used to retrieve raw tables and / or raw chunks of text."
   ]
  },
  {
   "cell_type": "markdown",
   "id": "231ecd8a",
   "metadata": {},
   "source": [
    "### Text and Table summaries"
   ]
  },
  {
   "cell_type": "code",
   "execution_count": 20,
   "id": "ff91648a",
   "metadata": {},
   "outputs": [],
   "source": [
    "from langchain.chat_models import ChatOpenAI\n",
    "from langchain.prompts import ChatPromptTemplate\n",
    "from langchain.schema.output_parser import StrOutputParser"
   ]
  },
  {
   "cell_type": "code",
   "execution_count": 21,
   "id": "f6fddce8",
   "metadata": {},
   "outputs": [],
   "source": [
    "# Prompt\n",
    "prompt_text = \"\"\"You are an assistant tasked with summarizing tables and text. \\ \n",
    "Give a concise summary of the table or text. Table or text chunk: {element} \"\"\"\n",
    "prompt = ChatPromptTemplate.from_template(prompt_text)\n",
    "\n",
    "# Summary chain\n",
    "model = ChatOpenAI(temperature=0, model=\"gpt-4\")\n",
    "summarize_chain = {\"element\": lambda x: x} | prompt | model | StrOutputParser()"
   ]
  },
  {
   "cell_type": "code",
   "execution_count": 22,
   "id": "ab50b66d",
   "metadata": {},
   "outputs": [],
   "source": [
    "# Apply to text\n",
    "texts = [i.text for i in text_elements]\n",
    "text_summaries = summarize_chain.batch(texts, {\"max_concurrency\": 5})\n"
   ]
  },
  {
   "cell_type": "code",
   "execution_count": 23,
   "id": "852f0fb8",
   "metadata": {},
   "outputs": [],
   "source": [
    "# Apply to tables\n",
    "tables = [i.text for i in table_elements]\n",
    "table_summaries = summarize_chain.batch(tables, {\"max_concurrency\": 5})"
   ]
  },
  {
   "cell_type": "code",
   "execution_count": 24,
   "id": "169944bc",
   "metadata": {},
   "outputs": [
    {
     "data": {
      "text/plain": [
       "'The text provides information about various gene therapies, their generic names, the year they were first approved, the diseases they treat, the locations where they were approved, and the companies that originated them. For instance, Gendicine, a recombinant p53 gene therapy, was first approved in 2004 in China by Shenzhen SiBiono GeneTech for treating head and neck cancer. Another example is Strimvelis, an autologous CD34+ enriched cells therapy, approved in 2016 in the EU and UK by Orchard Therapeutics for treating adenosine deaminase deficiency. The most recent therapy mentioned is Zynteglo, a betibeglogene autotemcel therapy, approved in 2019 in the US by bluebird bio for treating transfusion-dependent beta thalassemia.'"
      ]
     },
     "execution_count": 24,
     "metadata": {},
     "output_type": "execute_result"
    }
   ],
   "source": [
    "table_summaries[0]"
   ]
  },
  {
   "cell_type": "markdown",
   "id": "7e9ce5c6",
   "metadata": {},
   "source": [
    "### Images"
   ]
  },
  {
   "cell_type": "markdown",
   "id": "a21263f2",
   "metadata": {},
   "source": [
    "We will implementfollowing steps:\n",
    "\n",
    "* Use a multimodal LLM (LLaVA) to produce text summaries from images\n",
    "* Embed and retrieve text\n",
    "* Pass text chunks to an LLM for answer synthesis\n",
    "\n",
    "Image summaries\n",
    "\n",
    "We will use LLaVA, an open source multimodal model.\n",
    "\n",
    "We will use llama.cpp to run LLaVA locally (e.g., on a Mac laptop):\n",
    "\n",
    "1. Clone [llama.cpp](https://github.com/ggerganov/llama.cpp): ```git clone git@github.com:ggerganov/llama.cpp.git ```\n",
    "2. Download the LLaVA model: mmproj-model-f16.gguf and one of ggml-model-[f16|q5_k|q4_k].gguf [from LLaVA 7b repo](https://huggingface.co/mys/ggml_llava-v1.5-7b/tree/main)\n",
    "3. Build\n",
    "\n",
    "Let's go into the details of all steps:\n",
    "\n",
    "#### Step 1\n",
    "\n",
    "For linux, after cloning the llama cpp, go inside the lamma.cpp directory:\n",
    "* mkdir build && cd build && cmake ..\n",
    "* cmake --build . \n",
    "\n",
    "or\n",
    "\n",
    "```\n",
    "mkdir build\n",
    "cd build\n",
    "cmake ..\n",
    "cmake --build .\n",
    "```\n",
    "#### Step 2\n",
    "\n",
    "\n",
    "#### Step 3\n",
    "\n",
    "Run inference across images:\n",
    "\n",
    "/Users/rlm/Desktop/Code/llama.cpp/bin/llava -m ../models/llava-7b/ggml-model-q5_k.gguf --mmproj ../models/llava-7b/mmproj-model-f16.gguf --temp 0.1 -p \"Describe the image in detail. Be specific about graphs, such as bar plots.\" --image \"$img\" > \"$output_file\"\n",
    "\n"
   ]
  },
  {
   "cell_type": "code",
   "execution_count": 42,
   "id": "40463b88",
   "metadata": {},
   "outputs": [],
   "source": [
    "# %%bash\n",
    "\n",
    "# # Define the directory containing the images\n",
    "# IMG_DIR=~/Desktop/Papers/LLaVA/\n",
    "\n",
    "# # Loop through each image in the directory\n",
    "# for img in \"${IMG_DIR}\"*.jpg; do\n",
    "#     # Extract the base name of the image without extension\n",
    "#     base_name=$(basename \"$img\" .jpg)\n",
    "\n",
    "#     # Define the output file name based on the image name\n",
    "#     output_file=\"${IMG_DIR}${base_name}.txt\"\n",
    "\n",
    "#     # Execute the command and save the output to the defined output file\n",
    "#     /Users/rlm/Desktop/Code/llama.cpp/bin/llava -m ../models/llava-7b/ggml-model-q5_k.gguf --mmproj ../models/llava-7b/mmproj-model-f16.gguf --temp 0.1 -p \"Describe the image in detail. Be specific about graphs, such as bar plots.\" --image \"$img\" > \"$output_file\"\n",
    "\n",
    "# done"
   ]
  },
  {
   "cell_type": "markdown",
   "id": "0849a4b9",
   "metadata": {},
   "source": [
    "## Add to vectorstore"
   ]
  },
  {
   "cell_type": "code",
   "execution_count": 25,
   "id": "f403a7fa",
   "metadata": {},
   "outputs": [],
   "source": [
    "import uuid\n",
    "from langchain.vectorstores import Chroma\n",
    "from langchain.storage import InMemoryStore\n",
    "from langchain.schema.document import Document\n",
    "from langchain.embeddings import OpenAIEmbeddings\n",
    "from langchain.retrievers.multi_vector import MultiVectorRetriever\n",
    "\n",
    "# The vectorstore to use to index the child chunks\n",
    "vectorstore = Chroma(collection_name=\"summaries\", embedding_function=OpenAIEmbeddings())\n",
    "\n",
    "# The storage layer for the parent documents\n",
    "store = InMemoryStore()\n",
    "id_key = \"doc_id\"\n",
    "\n",
    "# The retriever (empty to start)\n",
    "retriever = MultiVectorRetriever(\n",
    "    vectorstore=vectorstore,\n",
    "    docstore=store,\n",
    "    id_key=id_key,\n",
    ")\n",
    "\n",
    "# Add texts\n",
    "doc_ids = [str(uuid.uuid4()) for _ in texts]\n",
    "summary_texts = [\n",
    "    Document(page_content=s, metadata={id_key: doc_ids[i]})\n",
    "    for i, s in enumerate(text_summaries)\n",
    "]\n",
    "retriever.vectorstore.add_documents(summary_texts)\n",
    "retriever.docstore.mset(list(zip(doc_ids, texts)))\n",
    "\n",
    "# Add tables\n",
    "table_ids = [str(uuid.uuid4()) for _ in tables]\n",
    "summary_tables = [\n",
    "    Document(page_content=s, metadata={id_key: table_ids[i]})\n",
    "    for i, s in enumerate(table_summaries)\n",
    "]\n",
    "retriever.vectorstore.add_documents(summary_tables)\n",
    "retriever.docstore.mset(list(zip(table_ids, tables)))"
   ]
  },
  {
   "cell_type": "code",
   "execution_count": 26,
   "id": "b890eccd",
   "metadata": {},
   "outputs": [
    {
     "data": {
      "text/plain": [
       "'Year first approved Generic name Disease(s) Locations approved* Originator company mipomersen sodium 2013 Homozygous familial hypercholesterolemia US, Mexico, Argentina, South Korea Ionis Pharmaceuticals eteplirsen 2016 Dystrophy, Duchenne muscular US US, EU, UK, Canada, Japan, Brazil, Switzerland, Australia, South Korea, China, Argentina, Colombia, Taiwan, Turkey, Hong Kong, Israel Argentina EU, UK, Canada, US, Brazil US, EU, UK, Japan, Canada, Switzerland, Brazil, Taiwan, Israel, Turkey, Australia US Sarepta Therapeutics nusinersen 2016 Muscular atrophy, spinal Ionis Pharmaceuticals rintatolimod inotersen 2016 2018 Chronic fatigue syndrome Amyloidosis, transthyretin-related hereditary AIM ImmunoTech Ionis Pharmaceuticals patisiran 2018 Amyloidosis, transthyretin-related hereditary Alnylam golodirsen 2019 Dystrophy, Duchenne muscular Hypertriglyceridemia; Lipoprotein lipase deficiency Sarepta Therapeutics volanesorsen 2019 EU, UK, Brazil, Canada Ionis Pharmaceuticals Infection, coronavirus, novel coronavirus prophylaxis tozinameran 2020 BioNTech Infection, coronavirus, novel coronavirus prophylaxis 2020 Moderna Therapeutics'"
      ]
     },
     "execution_count": 26,
     "metadata": {},
     "output_type": "execute_result"
    }
   ],
   "source": [
    "tables[2]"
   ]
  },
  {
   "cell_type": "code",
   "execution_count": 27,
   "id": "7df12111",
   "metadata": {},
   "outputs": [
    {
     "data": {
      "text/plain": [
       "'The table provides information about various drugs, the year they were first approved, the diseases they treat, the locations where they were approved, and the companies that originated them. For instance, Mipomersen sodium was first approved in 2013 by Ionis Pharmaceuticals for the treatment of Homozygous familial hypercholesterolemia in the US, Mexico, Argentina, and South Korea. Eteplirsen was approved in 2016 by Sarepta Therapeutics for Duchenne muscular dystrophy in multiple locations including the US, EU, UK, Canada, Japan, Brazil, Switzerland, Australia, South Korea, China, Argentina, Colombia, Taiwan, Turkey, Hong Kong, and Israel. The most recent drugs listed are Tozinameran and an unnamed drug by Moderna Therapeutics, both approved in 2020 for novel coronavirus prophylaxis.'"
      ]
     },
     "execution_count": 27,
     "metadata": {},
     "output_type": "execute_result"
    }
   ],
   "source": [
    "table_summaries[2]\n"
   ]
  },
  {
   "cell_type": "code",
   "execution_count": 32,
   "id": "4adfe3f7",
   "metadata": {},
   "outputs": [
    {
     "data": {
      "text/plain": [
       "'Source: Biomedtracker | Citeline, October 2023 13 / Q3 2023\\n\\n\\n\\nPipeline overview\\n\\n3 2 0 2 3 Q\\n\\nAmerican Society of Gene + Cell Therapy\\n\\nPipeline of gene, cell, and RNA therapies\\n\\n3,866 therapies are in development, ranging from preclinical through pre-registration\\n\\n¢\\n\\n2,082 gene therapies (including\\n\\ngenetically modified cell therapies such as CAR T-cell therapies) are in development, accounting for 53% of gene, cell, and RNA therapies • 862 non-genetically modified cell therapies are in development, accounting for 22% of gene, cell, and RNA therapies\\n\\nSource: Pharmaprojects| Citeline, October 2023\\n\\n15 / Q3 2023\\n\\nPipeline therapies by category\\n\\nGene therapies RNA therapies Cell therapies (non-genetically modified)\\n\\nEs American Society of Gene + Cell Therapy\\n\\nGene therapy pipeline\\n\\nGene therapy and genetically modified cell therapies\\n\\n3 2 0 2 3 Q\\n\\n\\n\\nGene therapy pipeline: Quarterly comparison\\n\\n\\n\\ne\\n\\nFor the first time in the past year, the number of gene therapies in Phase I development has increased since the previous quarter, increasing by 7% For the fourth quarter in a row, the number of Phase III gene therapies has remained unchanged at 30 therapies\\n\\n• Rocket Pharmaceutical filed for approval in the US for its lentiviral gene therapy, RP-L201, in leukocyte adhesion deficiency\\n\\n• Abeona Therapeutics filed for approval in the US for its engineered cell\\n\\ntherapy, EB-101, in epidermolysis bullosa Therapies currently in pre-registration:\\n\\n¢\\n\\n• In China\\n\\nzevor-cel (CARsgen Therapeutics)\\n\\n•\\n\\nzevor-cel (CARsgen Therapeutics) inaticabtagene autoleucel (CASI Pharmaceuticals, Juventas Cell Therapy)\\n\\n• In the EU, UK, and US\\n\\nexagamglogene autotemcel (CRISPR Therapeutics, Vertex Pharmaceuticals)\\n\\n• In the EU and US\\n\\n• fidanacogene elaparvovec (Pfizer)\\n\\n• In the US\\n\\n•\\n\\nlovotibeglogene autotemcel (bluebird bio) RP-L201 (Rocket Pharmaceuticals)\\n\\n• EB-101 (Abeona Therapeutics)\\n\\n17 / Q3 2023'"
      ]
     },
     "execution_count": 32,
     "metadata": {},
     "output_type": "execute_result"
    }
   ],
   "source": [
    "# We can retrieve this table\n",
    "retriever.get_relevant_documents(\n",
    "    #\"Which RNA therapies were approved in 2023?\"\n",
    "    \"Which Gene therapies are approved in China?\"\n",
    ")[1]\n"
   ]
  },
  {
   "cell_type": "markdown",
   "id": "a67eca29",
   "metadata": {},
   "source": [
    "## RAG"
   ]
  },
  {
   "cell_type": "code",
   "execution_count": 29,
   "id": "41fce79f",
   "metadata": {},
   "outputs": [],
   "source": [
    "from operator import itemgetter\n",
    "from langchain.schema.runnable import RunnablePassthrough\n",
    "\n",
    "# Prompt template\n",
    "template = \"\"\"Answer the question based only on the following context, which can include text and tables:\n",
    "{context}\n",
    "Question: {question}\n",
    "\"\"\"\n",
    "prompt = ChatPromptTemplate.from_template(template)\n",
    "\n",
    "# Option 1: LLM\n",
    "model = ChatOpenAI(temperature=0, model=\"gpt-4\")\n",
    "# Option 2: Multi-modal LLM\n",
    "# model = GPT4-V or LLaVA\n",
    "\n",
    "# RAG pipeline\n",
    "chain = (\n",
    "    {\"context\": retriever, \"question\": RunnablePassthrough()}\n",
    "    | prompt\n",
    "    | model\n",
    "    | StrOutputParser()\n",
    ")\n"
   ]
  },
  {
   "cell_type": "code",
   "execution_count": 33,
   "id": "1e323d46",
   "metadata": {},
   "outputs": [
    {
     "data": {
      "text/plain": [
       "'The gene therapies approved in China are Gendicine (recombinant p53 gene) for head and neck cancer, Oncorine (E1B/E3 deficient adenovirus) for head and neck cancer and nasopharyngeal cancer, and Fucaso, an anti-BCMA-targeting CAR-T therapy for multiple myeloma.'"
      ]
     },
     "execution_count": 33,
     "metadata": {},
     "output_type": "execute_result"
    }
   ],
   "source": [
    "chain.invoke(\n",
    "    #\"Which RNA therapies were approved in 2023?\"\n",
    "    \"Which Gene therapies are approved in China?\"\n",
    ")\n"
   ]
  },
  {
   "cell_type": "code",
   "execution_count": 35,
   "id": "6bf44adf",
   "metadata": {},
   "outputs": [],
   "source": [
    "def rag_pdf_chat(question):\n",
    "\n",
    "    retriever.get_relevant_documents(\n",
    "        question\n",
    "    )\n",
    "\n",
    "    # Prompt template\n",
    "    template = \"\"\"Answer the question based only on the following context, which can include text and tables:\n",
    "    {context}\n",
    "    Question: {question}\n",
    "    \"\"\"\n",
    "    prompt = ChatPromptTemplate.from_template(template)\n",
    "\n",
    "    # Option 1: LLM\n",
    "    model = ChatOpenAI(temperature=0, model=\"gpt-4\")\n",
    "    # Option 2: Multi-modal LLM\n",
    "    # model = GPT4-V or LLaVA\n",
    "\n",
    "    # RAG pipeline\n",
    "    chain = (\n",
    "        {\"context\": retriever, \"question\": RunnablePassthrough()}\n",
    "        | prompt\n",
    "        | model\n",
    "        | StrOutputParser()\n",
    "    )\n",
    "\n",
    "    return(chain.invoke(question))"
   ]
  },
  {
   "cell_type": "code",
   "execution_count": 36,
   "id": "8b384da4",
   "metadata": {},
   "outputs": [
    {
     "data": {
      "text/plain": [
       "'The gene therapies approved in China are Gendicine (recombinant p53 gene) for head and neck cancer, Oncorine (E1B/E3 deficient adenovirus) for head and neck cancer and nasopharyngeal cancer, and Fucaso, an anti-BCMA-targeting CAR-T therapy for multiple myeloma.'"
      ]
     },
     "execution_count": 36,
     "metadata": {},
     "output_type": "execute_result"
    }
   ],
   "source": [
    "rag_pdf_chat(\"Which Gene therapies are approved in China?\")"
   ]
  },
  {
   "cell_type": "code",
   "execution_count": 37,
   "id": "67953e33",
   "metadata": {},
   "outputs": [
    {
     "data": {
      "text/plain": [
       "'The text does not provide specific information on which RNA therapies are approved in 2023.'"
      ]
     },
     "execution_count": 37,
     "metadata": {},
     "output_type": "execute_result"
    }
   ],
   "source": [
    "rag_pdf_chat(\"Which RNA therapies are approved in 2023?\")"
   ]
  },
  {
   "cell_type": "code",
   "execution_count": 38,
   "id": "1dbc74f5",
   "metadata": {},
   "outputs": [
    {
     "data": {
      "text/plain": [
       "'The gene therapy approved for Critical limb ischemia is Collategene (beperminogene perplasmid).'"
      ]
     },
     "execution_count": 38,
     "metadata": {},
     "output_type": "execute_result"
    }
   ],
   "source": [
    "rag_pdf_chat(\"Which Gene therapy is approved for Critical limb ischemia\")"
   ]
  },
  {
   "cell_type": "code",
   "execution_count": 41,
   "id": "43ef98de",
   "metadata": {},
   "outputs": [
    {
     "data": {
      "text/plain": [
       "'The text does not provide specific information on the total number of gene therapies approved globally for clinical use.'"
      ]
     },
     "execution_count": 41,
     "metadata": {},
     "output_type": "execute_result"
    }
   ],
   "source": [
    "rag_pdf_chat(\"How many Gene therapies are approved globally for clinical use?\")"
   ]
  },
  {
   "cell_type": "code",
   "execution_count": 40,
   "id": "23df43be",
   "metadata": {},
   "outputs": [
    {
     "data": {
      "text/plain": [
       "'The approved therapies by Bluebird Bio are Abecma (idecabtagene vicleucel) for multiple myeloma in the US, Canada, EU, UK, and Japan, Skysona (elivaldogene autotemcel) for early cerebral adrenoleukodystrophy (CALD) in the US, and Zynteglo (betibeglogene autotemcel) for transfusion-dependent beta thalassemia in the US.'"
      ]
     },
     "execution_count": 40,
     "metadata": {},
     "output_type": "execute_result"
    }
   ],
   "source": [
    "rag_pdf_chat(\"Which Blue Bird Bio therapied are approved?\")"
   ]
  },
  {
   "cell_type": "code",
   "execution_count": 43,
   "id": "6fcc7544",
   "metadata": {},
   "outputs": [
    {
     "data": {
      "text/plain": [
       "'There are 2,082 gene therapies in development.'"
      ]
     },
     "execution_count": 43,
     "metadata": {},
     "output_type": "execute_result"
    }
   ],
   "source": [
    "rag_pdf_chat(\"How many Gene therapies are in development?\")"
   ]
  },
  {
   "cell_type": "code",
   "execution_count": 44,
   "id": "92730c43",
   "metadata": {},
   "outputs": [
    {
     "data": {
      "text/plain": [
       "'The most popular indication for CAR-T cell therapies is cancer.'"
      ]
     },
     "execution_count": 44,
     "metadata": {},
     "output_type": "execute_result"
    }
   ],
   "source": [
    "rag_pdf_chat(\"What is the most popular indication for CAR-T cell therapies?\")"
   ]
  },
  {
   "cell_type": "code",
   "execution_count": 45,
   "id": "4c4cec39",
   "metadata": {},
   "outputs": [
    {
     "data": {
      "text/plain": [
       "'The most common targets for the gene therapies in preclinical trials through pre-registration are CD19, B-cell maturation antigen (BCMA), also known as TNF receptor superfamily member 17, and CD22 molecule. These are the top three most common targets for oncology indications. For non-oncology indications, the most common target is the CD19 molecule.'"
      ]
     },
     "execution_count": 45,
     "metadata": {},
     "output_type": "execute_result"
    }
   ],
   "source": [
    "rag_pdf_chat(\"What are the most common target for Gene therapy pipeline?\")"
   ]
  },
  {
   "cell_type": "code",
   "execution_count": 46,
   "id": "34eb15ae",
   "metadata": {},
   "outputs": [
    {
     "data": {
      "text/plain": [
       "'The top modalities for research in the RNA therapy pipeline are messenger RNA (mRNA) and RNA interference (RNAi).'"
      ]
     },
     "execution_count": 46,
     "metadata": {},
     "output_type": "execute_result"
    }
   ],
   "source": [
    "rag_pdf_chat(\"What are the top modalities for research in RNA therapy pipeline?\")"
   ]
  },
  {
   "cell_type": "code",
   "execution_count": 47,
   "id": "c2c3e816",
   "metadata": {},
   "outputs": [
    {
     "data": {
      "text/plain": [
       "'The most common diseases targeted by RNA therapies are rare diseases, anti-infective diseases, and anticancer diseases. For rare diseases, the top specified oncology indications are pancreatic, liver, and ovarian cancer. For non-oncology rare diseases, Duchenne muscular dystrophy, amyotrophic lateral sclerosis, and Huntington’s disease are the most commonly targeted.'"
      ]
     },
     "execution_count": 47,
     "metadata": {},
     "output_type": "execute_result"
    }
   ],
   "source": [
    "rag_pdf_chat(\"What are most common diseases targets for RNA therapies?\")"
   ]
  },
  {
   "cell_type": "code",
   "execution_count": 48,
   "id": "e04f2857",
   "metadata": {},
   "outputs": [
    {
     "data": {
      "text/plain": [
       "'The startup that raised the most money in Q3 of 2023 for Cell and Gene therapies was Tenpoint Therapeutics, which launched with $70M Series A Financing.'"
      ]
     },
     "execution_count": 48,
     "metadata": {},
     "output_type": "execute_result"
    }
   ],
   "source": [
    "rag_pdf_chat(\"Which startup raised most money in Q3 of 2023 for Cell and Gene therapies?\")"
   ]
  },
  {
   "cell_type": "code",
   "execution_count": 49,
   "id": "9cf6feab",
   "metadata": {},
   "outputs": [
    {
     "data": {
      "text/plain": [
       "'The top 3 startups that raised the most money in Q3 of 2023 for Cell and Gene therapies are:\\n\\n1. AIRNA - $30M in Initial Financing\\n2. CellFE - $22M Series A Financing\\n3. Innovac Therapeutics and BlueWhale Bio - Both secured $18M (Series Pre-A Financing for Innovac Therapeutics and Seed Funding for BlueWhale Bio)'"
      ]
     },
     "execution_count": 49,
     "metadata": {},
     "output_type": "execute_result"
    }
   ],
   "source": [
    "rag_pdf_chat(\"What are the top 3 startups that raised most money in Q3 of 2023 for Cell and Gene therapies?\")"
   ]
  }
 ],
 "metadata": {
  "hide_input": false,
  "kernelspec": {
   "display_name": "Python 3 (ipykernel)",
   "language": "python",
   "name": "python3"
  },
  "language_info": {
   "codemirror_mode": {
    "name": "ipython",
    "version": 3
   },
   "file_extension": ".py",
   "mimetype": "text/x-python",
   "name": "python",
   "nbconvert_exporter": "python",
   "pygments_lexer": "ipython3",
   "version": "3.9.18"
  },
  "toc": {
   "base_numbering": 1,
   "nav_menu": {},
   "number_sections": true,
   "sideBar": true,
   "skip_h1_title": false,
   "title_cell": "Table of Contents",
   "title_sidebar": "Contents",
   "toc_cell": false,
   "toc_position": {},
   "toc_section_display": true,
   "toc_window_display": false
  }
 },
 "nbformat": 4,
 "nbformat_minor": 5
}
