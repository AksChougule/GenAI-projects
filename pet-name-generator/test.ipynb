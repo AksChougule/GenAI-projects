{
 "cells": [
  {
   "cell_type": "code",
   "execution_count": 1,
   "metadata": {},
   "outputs": [
    {
     "name": "stdout",
     "output_type": "stream",
     "text": [
      "Python 3.9.18\n"
     ]
    }
   ],
   "source": [
    "from langchain.llm import OpenAI\n",
    "from dotenv inport load_env\n",
    "from langchain import PromptTemplate\n",
    "\n",
    "# load keys for third party services (e.g. OpenAI LLMs)\n",
    "load_dotenv()\n",
    "\n",
    "def generate_pet_name(user_animal_type, pet_color):\n",
    "    llm = OpenAI(temperature=0.7)\n",
    "\n",
    "    prompt_template_name = PromptTemplate(\n",
    "        input_variable=['user_animal_name','pet_color']\n",
    "        template = \"I have a {user_animal_type} pet and I want a cool name for it, it is {pet_color} in color. Suggest me five cool names for my pet\"\n",
    "    )\n",
    "    \n",
    "    name_chain = LLMChain(llm=llm, prompt = prompt_template_name)\n",
    "\n",
    "    response = name_chain({'user_animal_type':user_animal_type, 'pet_color':pet_color})\n",
    "    \n",
    "    return response\n",
    "\n",
    "if __name__ == \"__main__\":\n",
    "    print(generate_pet_name(\"cat\",\"white\"))"
   ]
  },
  {
   "cell_type": "code",
   "execution_count": null,
   "metadata": {},
   "outputs": [],
   "source": []
  },
  {
   "cell_type": "code",
   "execution_count": null,
   "metadata": {},
   "outputs": [],
   "source": []
  }
 ],
 "metadata": {
  "hide_input": false,
  "kernelspec": {
   "display_name": "Python 3",
   "language": "python",
   "name": "python3"
  },
  "language_info": {
   "codemirror_mode": {
    "name": "ipython",
    "version": 3
   },
   "file_extension": ".py",
   "mimetype": "text/x-python",
   "name": "python",
   "nbconvert_exporter": "python",
   "pygments_lexer": "ipython3",
   "version": "3.8.10"
  },
  "toc": {
   "base_numbering": 1,
   "nav_menu": {},
   "number_sections": true,
   "sideBar": true,
   "skip_h1_title": false,
   "title_cell": "Table of Contents",
   "title_sidebar": "Contents",
   "toc_cell": false,
   "toc_position": {},
   "toc_section_display": true,
   "toc_window_display": false
  }
 },
 "nbformat": 4,
 "nbformat_minor": 4
}
