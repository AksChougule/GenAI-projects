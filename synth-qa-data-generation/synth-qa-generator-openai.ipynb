{
 "cells": [
  {
   "cell_type": "markdown",
   "metadata": {},
   "source": [
    "Author: Akshay Chougule\n",
    "\n",
    "Created On: Nov 26, 2023\n",
    "\n",
    "Description: Using OpenAI to create question-answer data based on eligibility criteria of clinical trials (inclusion and exclusion)"
   ]
  },
  {
   "cell_type": "code",
   "execution_count": 1,
   "metadata": {},
   "outputs": [],
   "source": [
    "# Bring in deps\n",
    "import os \n",
    "import streamlit as st \n",
    "from langchain.llms import OpenAI\n",
    "from langchain.prompts import PromptTemplate\n",
    "from langchain.chains import LLMChain, SequentialChain \n",
    "from langchain.memory import ConversationBufferMemory\n",
    "from langchain.utilities import WikipediaAPIWrapper "
   ]
  },
  {
   "cell_type": "code",
   "execution_count": 2,
   "metadata": {},
   "outputs": [],
   "source": [
    "import sys\n",
    "sys.path.insert(1, '/home/ubuntu/codebase/my_github/generative-ai-experiments/')\n",
    "from Constants import OPENAI_API_KEY\n",
    "os.environ['OPENAI_API_KEY'] = OPENAI_API_KEY"
   ]
  },
  {
   "cell_type": "code",
   "execution_count": 8,
   "metadata": {},
   "outputs": [
    {
     "name": "stdout",
     "output_type": "stream",
     "text": [
      "\n",
      "\n",
      "\u001b[1m> Entering new LLMChain chain...\u001b[0m\n",
      "Prompt after formatting:\n",
      "\u001b[32;1m\u001b[1;3mYou are a question-answer pair generator. Could you create 4 sets of question and answers based on this clinical trial eligibility criteria provided in the eligibility input ELIGIBILITY: Inclusion Criteria: - Has surgically resected and histologically or pathologically confirmed diagnosis of Stage IIB and IIC (pathological or clinical), III, or IV cutaneous melanoma per the American Joint Committee on Cancer (AJCC) eighth edition guidelines -Has not received any prior systemic therapy for melanoma beyond surgical resection - Has had no more than 12 weeks between final surgical resection and randomization - Human immunodeficiency virus (HIV)-infected participants must have well controlled HIV on anti-retroviral therapy (ART) - Participants who are hepatitis B surface antigen (HBsAg) positive are eligible if they have received hepatitis B virus (HBV) antiviral therapy for at least 4 weeks and have undetectable HBV viral load before randomization - Participants with history of hepatitis C virus (HCV) infection are eligible if HCV viral load is undetectable at screening. Exclusion Criteria: - Has ocular, mucosal, or conjunctival melanoma - Has a diagnosis of immunodeficiency or is receiving chronic systemic steroid therapy (in dosing exceeding 10 mg daily of prednisone equivalent) or any other form of immunosuppressive therapy within 7 days prior the first dose of study medication - Has not adequately recovered from major surgical procedure or has ongoing surgical complications - Has received prior radiotherapy within 2 weeks of start of study intervention or has had a history of radiation pneumonitis - Received a live or live attenuated vaccine within 30 days before the first dose of study intervention. Administration of killed vaccines is allowed - Has received an investigational agent or has used an investigational device within 4 weeks before study intervention administration - Has a history of (noninfectious) pneumonitis/interstitial lung disease that required steroids or has current pneumonitis/interstitial lung disease - Has a known additional malignancy that is progressing or has required active treatment within the past 3 years - Has known active central nervous system (CNS) metastases and/or carcinomatous meningitis - Has an active autoimmune disease that has required systemic treatment in past 2 years - Has an active infection requiring systemic therapy - Has had an allogenic tissue/solid organ transplant. Here are two examples of how you can create pairs of question-answers In the context of description and eligibility of a clinical trial, can patients with history of hepatitis C virus (HCV) infection participate?\n",
      "Yes, as per the inclusion criteria, the participants with history of hepatitis C virus (HCV) infection are eligible if HCV viral load is undetectable at screening.\n",
      "\n",
      "In the context of description and eligibility of a clinical trial, can patients with ocular, mucosal, or conjunctival melanoma participate?\n",
      "No, as per the exclusion criteria if the patient has ocular, mucosal, or conjunctival melanoma, then he or she would not be eligible.. Be specific with the question and answers. Avoid broad questions like what is the inclusion criteria. Write each question or answer on a newline.\u001b[0m\n",
      "\n",
      "\u001b[1m> Finished chain.\u001b[0m\n"
     ]
    }
   ],
   "source": [
    "eligibility = \"Inclusion Criteria: - Has surgically resected and histologically or pathologically confirmed diagnosis of Stage IIB and IIC (pathological or clinical), III, or IV cutaneous melanoma per the American Joint Committee on Cancer (AJCC) eighth edition guidelines -Has not received any prior systemic therapy for melanoma beyond surgical resection - Has had no more than 12 weeks between final surgical resection and randomization - Human immunodeficiency virus (HIV)-infected participants must have well controlled HIV on anti-retroviral therapy (ART) - Participants who are hepatitis B surface antigen (HBsAg) positive are eligible if they have received hepatitis B virus (HBV) antiviral therapy for at least 4 weeks and have undetectable HBV viral load before randomization - Participants with history of hepatitis C virus (HCV) infection are eligible if HCV viral load is undetectable at screening. Exclusion Criteria: - Has ocular, mucosal, or conjunctival melanoma - Has a diagnosis of immunodeficiency or is receiving chronic systemic steroid therapy (in dosing exceeding 10 mg daily of prednisone equivalent) or any other form of immunosuppressive therapy within 7 days prior the first dose of study medication - Has not adequately recovered from major surgical procedure or has ongoing surgical complications - Has received prior radiotherapy within 2 weeks of start of study intervention or has had a history of radiation pneumonitis - Received a live or live attenuated vaccine within 30 days before the first dose of study intervention. Administration of killed vaccines is allowed - Has received an investigational agent or has used an investigational device within 4 weeks before study intervention administration - Has a history of (noninfectious) pneumonitis/interstitial lung disease that required steroids or has current pneumonitis/interstitial lung disease - Has a known additional malignancy that is progressing or has required active treatment within the past 3 years - Has known active central nervous system (CNS) metastases and/or carcinomatous meningitis - Has an active autoimmune disease that has required systemic treatment in past 2 years - Has an active infection requiring systemic therapy - Has had an allogenic tissue/solid organ transplant\"\n",
    "\n",
    "sample_qa = \"In the context of description and eligibility of a clinical trial, can patients with history of hepatitis C virus (HCV) infection participate?\\nYes, as per the inclusion criteria, the participants with history of hepatitis C virus (HCV) infection are eligible if HCV viral load is undetectable at screening.\\n\\nIn the context of description and eligibility of a clinical trial, can patients with ocular, mucosal, or conjunctival melanoma participate?\\nNo, as per the exclusion criteria if the patient has ocular, mucosal, or conjunctival melanoma, then he or she would not be eligible.\"\n",
    "\n",
    "qa_template = PromptTemplate(\n",
    "    #input_variables = ['description', 'eligibility'], \n",
    "    input_variables = ['eligibility','sample_qa'], \n",
    "    #template='You are a question-answer pair generator. Could you create 4 sets of question and answers based on this clinical trial eligibility criteria CRITERIA: {title} while leveraging this wikipedia reserch:{wikipedia_research}. And include hashtags to increase the reach'\n",
    "    template='You are a question-answer pair generator. Could you create 4 sets of question and answers based on this clinical trial eligibility criteria provided in the eligibility input ELIGIBILITY: {eligibility}. Here are two examples of how you can create pairs of question-answers {sample_qa}. Be specific with the question and answers. Avoid broad questions like what is the inclusion criteria. Write each question or answer on a newline.'\n",
    ")\n",
    "\n",
    "# Memory \n",
    "#title_memory = ConversationBufferMemory(input_key='topic', memory_key='chat_history')\n",
    "\n",
    "# Llms\n",
    "llm = OpenAI( temperature=0.5) \n",
    "qa_chain = LLMChain(llm=llm, \n",
    "                    prompt=qa_template, \n",
    "                    verbose=True, \n",
    "                    output_key='qa', \n",
    "                    #memory=title_memory\n",
    "                    )\n",
    "\n",
    "\n",
    "output = qa_chain.run( eligibility=eligibility,sample_qa=sample_qa)"
   ]
  },
  {
   "cell_type": "markdown",
   "metadata": {},
   "source": [
    "### The cost was 2 cents to execute this with OpenAI."
   ]
  },
  {
   "cell_type": "code",
   "execution_count": 10,
   "metadata": {},
   "outputs": [
    {
     "name": "stdout",
     "output_type": "stream",
     "text": [
      "\n",
      "\n",
      "In the context of description and eligibility of a clinical trial, can participants who are hepatitis B surface antigen (HBsAg) positive participate?\n",
      "Yes, as per the inclusion criteria, participants who are hepatitis B surface antigen (HBsAg) positive are eligible if they have received hepatitis B virus (HBV) antiviral therapy for at least 4 weeks and have undetectable HBV viral load before randomization.\n",
      "\n",
      "In the context of description and eligibility of a clinical trial, can patients who have received prior radiotherapy within 2 weeks of start of study intervention participate?\n",
      "No, as per the exclusion criteria if the patient has received prior radiotherapy within 2 weeks of start of study intervention, then he or she would not be eligible.\n"
     ]
    }
   ],
   "source": [
    "print(output)"
   ]
  },
  {
   "cell_type": "code",
   "execution_count": 11,
   "metadata": {},
   "outputs": [
    {
     "data": {
      "text/plain": [
       "'\\n\\nIn the context of description and eligibility of a clinical trial, can participants who are hepatitis B surface antigen (HBsAg) positive participate?\\nYes, as per the inclusion criteria, participants who are hepatitis B surface antigen (HBsAg) positive are eligible if they have received hepatitis B virus (HBV) antiviral therapy for at least 4 weeks and have undetectable HBV viral load before randomization.\\n\\nIn the context of description and eligibility of a clinical trial, can patients who have received prior radiotherapy within 2 weeks of start of study intervention participate?\\nNo, as per the exclusion criteria if the patient has received prior radiotherapy within 2 weeks of start of study intervention, then he or she would not be eligible.'"
      ]
     },
     "execution_count": 11,
     "metadata": {},
     "output_type": "execute_result"
    }
   ],
   "source": [
    "output"
   ]
  },
  {
   "cell_type": "markdown",
   "metadata": {},
   "source": [
    "## Trial 2\n",
    "Refining prompt to generate more questions"
   ]
  },
  {
   "cell_type": "code",
   "execution_count": 12,
   "metadata": {},
   "outputs": [
    {
     "name": "stdout",
     "output_type": "stream",
     "text": [
      "\n",
      "\n",
      "\u001b[1m> Entering new LLMChain chain...\u001b[0m\n",
      "Prompt after formatting:\n",
      "\u001b[32;1m\u001b[1;3mYou are a question-answer pair generator. Could you create 8 sets of question and answers based on this clinical trial eligibility criteria provided in the eligibility input ELIGIBILITY: Inclusion Criteria: - Has surgically resected and histologically or pathologically confirmed diagnosis of Stage IIB and IIC (pathological or clinical), III, or IV cutaneous melanoma per the American Joint Committee on Cancer (AJCC) eighth edition guidelines -Has not received any prior systemic therapy for melanoma beyond surgical resection - Has had no more than 12 weeks between final surgical resection and randomization - Human immunodeficiency virus (HIV)-infected participants must have well controlled HIV on anti-retroviral therapy (ART) - Participants who are hepatitis B surface antigen (HBsAg) positive are eligible if they have received hepatitis B virus (HBV) antiviral therapy for at least 4 weeks and have undetectable HBV viral load before randomization - Participants with history of hepatitis C virus (HCV) infection are eligible if HCV viral load is undetectable at screening. Exclusion Criteria: - Has ocular, mucosal, or conjunctival melanoma - Has a diagnosis of immunodeficiency or is receiving chronic systemic steroid therapy (in dosing exceeding 10 mg daily of prednisone equivalent) or any other form of immunosuppressive therapy within 7 days prior the first dose of study medication - Has not adequately recovered from major surgical procedure or has ongoing surgical complications - Has received prior radiotherapy within 2 weeks of start of study intervention or has had a history of radiation pneumonitis - Received a live or live attenuated vaccine within 30 days before the first dose of study intervention. Administration of killed vaccines is allowed - Has received an investigational agent or has used an investigational device within 4 weeks before study intervention administration - Has a history of (noninfectious) pneumonitis/interstitial lung disease that required steroids or has current pneumonitis/interstitial lung disease - Has a known additional malignancy that is progressing or has required active treatment within the past 3 years - Has known active central nervous system (CNS) metastases and/or carcinomatous meningitis - Has an active autoimmune disease that has required systemic treatment in past 2 years - Has an active infection requiring systemic therapy - Has had an allogenic tissue/solid organ transplant. Here are two examples of how you can create pairs of question-answers In the context of description and eligibility of a clinical trial, can patients with history of hepatitis C virus (HCV) infection participate?\n",
      "Yes, as per the inclusion criteria, the participants with history of hepatitis C virus (HCV) infection are eligible if HCV viral load is undetectable at screening.\n",
      "\n",
      "In the context of description and eligibility of a clinical trial, can patients with ocular, mucosal, or conjunctival melanoma participate?\n",
      "No, as per the exclusion criteria if the patient has ocular, mucosal, or conjunctival melanoma, then he or she would not be eligible.. Be specific with the question and answers. Avoid broad questions like what is the inclusion criteria. Write each question or answer on a newline.\u001b[0m\n",
      "\n",
      "\u001b[1m> Finished chain.\u001b[0m\n",
      "\n",
      "\n",
      "In the context of description and eligibility of a clinical trial, can participants who are hepatitis B surface antigen (HBsAg) positive participate?\n",
      "Yes, as per the inclusion criteria, participants who are hepatitis B surface antigen (HBsAg) positive are eligible if they have received hepatitis B virus (HBV) antiviral therapy for at least 4 weeks and have undetectable HBV viral load before randomization.\n",
      "\n",
      "In the context of description and eligibility of a clinical trial, can participants who have received a live or live attenuated vaccine within 30 days before the first dose of study intervention participate?\n",
      "No, as per the exclusion criteria, participants who have received a live or live attenuated vaccine within 30 days before the first dose of study intervention are not eligible.\n",
      "\n",
      "In the context of description and eligibility of a clinical trial, can participants who have had a history of radiation pneumonitis participate?\n",
      "No, as per the exclusion criteria, participants who have had a history of radiation pneumonitis are not eligible.\n",
      "\n",
      "In the context of description and eligibility of a clinical trial, can participants who have had no more than 12 weeks between final surgical resection and randomization participate?\n",
      "Yes, as per the inclusion criteria, participants who have\n"
     ]
    }
   ],
   "source": [
    "eligibility = \"Inclusion Criteria: - Has surgically resected and histologically or pathologically confirmed diagnosis of Stage IIB and IIC (pathological or clinical), III, or IV cutaneous melanoma per the American Joint Committee on Cancer (AJCC) eighth edition guidelines -Has not received any prior systemic therapy for melanoma beyond surgical resection - Has had no more than 12 weeks between final surgical resection and randomization - Human immunodeficiency virus (HIV)-infected participants must have well controlled HIV on anti-retroviral therapy (ART) - Participants who are hepatitis B surface antigen (HBsAg) positive are eligible if they have received hepatitis B virus (HBV) antiviral therapy for at least 4 weeks and have undetectable HBV viral load before randomization - Participants with history of hepatitis C virus (HCV) infection are eligible if HCV viral load is undetectable at screening. Exclusion Criteria: - Has ocular, mucosal, or conjunctival melanoma - Has a diagnosis of immunodeficiency or is receiving chronic systemic steroid therapy (in dosing exceeding 10 mg daily of prednisone equivalent) or any other form of immunosuppressive therapy within 7 days prior the first dose of study medication - Has not adequately recovered from major surgical procedure or has ongoing surgical complications - Has received prior radiotherapy within 2 weeks of start of study intervention or has had a history of radiation pneumonitis - Received a live or live attenuated vaccine within 30 days before the first dose of study intervention. Administration of killed vaccines is allowed - Has received an investigational agent or has used an investigational device within 4 weeks before study intervention administration - Has a history of (noninfectious) pneumonitis/interstitial lung disease that required steroids or has current pneumonitis/interstitial lung disease - Has a known additional malignancy that is progressing or has required active treatment within the past 3 years - Has known active central nervous system (CNS) metastases and/or carcinomatous meningitis - Has an active autoimmune disease that has required systemic treatment in past 2 years - Has an active infection requiring systemic therapy - Has had an allogenic tissue/solid organ transplant\"\n",
    "\n",
    "sample_qa = \"In the context of description and eligibility of a clinical trial, can patients with history of hepatitis C virus (HCV) infection participate?\\nYes, as per the inclusion criteria, the participants with history of hepatitis C virus (HCV) infection are eligible if HCV viral load is undetectable at screening.\\n\\nIn the context of description and eligibility of a clinical trial, can patients with ocular, mucosal, or conjunctival melanoma participate?\\nNo, as per the exclusion criteria if the patient has ocular, mucosal, or conjunctival melanoma, then he or she would not be eligible.\"\n",
    "\n",
    "qa_template = PromptTemplate(\n",
    "    #input_variables = ['description', 'eligibility'], \n",
    "    input_variables = ['eligibility','sample_qa'], \n",
    "    #template='You are a question-answer pair generator. Could you create 4 sets of question and answers based on this clinical trial eligibility criteria CRITERIA: {title} while leveraging this wikipedia reserch:{wikipedia_research}. And include hashtags to increase the reach'\n",
    "    template='You are a question-answer pair generator. Could you create 8 sets of question and answers based on this clinical trial eligibility criteria provided in the eligibility input ELIGIBILITY: {eligibility}. Here are two examples of how you can create pairs of question-answers {sample_qa}. Be specific with the question and answers. Avoid broad questions like what is the inclusion criteria. Write each question or answer on a newline.'\n",
    ")\n",
    "\n",
    "# Memory \n",
    "#title_memory = ConversationBufferMemory(input_key='topic', memory_key='chat_history')\n",
    "\n",
    "# Llms\n",
    "llm = OpenAI( temperature=0.5) \n",
    "qa_chain = LLMChain(llm=llm, \n",
    "                    prompt=qa_template, \n",
    "                    verbose=True, \n",
    "                    output_key='qa', \n",
    "                    #memory=title_memory\n",
    "                    )\n",
    "\n",
    "\n",
    "output = qa_chain.run( eligibility=eligibility,sample_qa=sample_qa)\n",
    "\n",
    "print(output)"
   ]
  }
 ],
 "metadata": {
  "kernelspec": {
   "display_name": "Python 3",
   "language": "python",
   "name": "python3"
  },
  "language_info": {
   "codemirror_mode": {
    "name": "ipython",
    "version": 3
   },
   "file_extension": ".py",
   "mimetype": "text/x-python",
   "name": "python",
   "nbconvert_exporter": "python",
   "pygments_lexer": "ipython3",
   "version": "3.9.18"
  }
 },
 "nbformat": 4,
 "nbformat_minor": 5
}
