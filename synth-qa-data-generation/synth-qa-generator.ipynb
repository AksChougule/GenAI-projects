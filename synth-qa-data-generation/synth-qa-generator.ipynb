{
 "cells": [
  {
   "cell_type": "markdown",
   "metadata": {},
   "source": [
    "Author: Akshay Chougule\n",
    "\n",
    "Created On: Nov 26, 2023\n",
    "\n",
    "Description: Using LlaMA2 to create question-answer data based on eligibility criteria of clinical trials (inclusion and exclusion)"
   ]
  },
  {
   "cell_type": "code",
   "execution_count": 4,
   "metadata": {},
   "outputs": [],
   "source": [
    "from llama_cpp import Llama"
   ]
  },
  {
   "cell_type": "markdown",
   "metadata": {},
   "source": [
    "### Trial 1"
   ]
  },
  {
   "cell_type": "code",
   "execution_count": 1,
   "id": "83690427-4d39-4a04-8b37-b153105cc40c",
   "metadata": {},
   "outputs": [],
   "source": [
    "llm = Llama(model_path=\"../localGPT/models/models--TheBloke--Llama-2-70B-Chat-GGUF/snapshots/6657b410331f892e2ea27eb435ef53aeefeedfd6/llama-2-70b-chat.Q4_K_M.gguf\",\n",
    "            n_ctx=2048)\n"
   ]
  },
  {
   "cell_type": "markdown",
   "metadata": {},
   "source": [
    "It took 21 seconds to lead the 70B quantized model. Now let's see if we can use it for synthetic data generation."
   ]
  },
  {
   "cell_type": "code",
   "execution_count": 5,
   "metadata": {},
   "outputs": [],
   "source": [
    "input = \"Inclusion Criteria: - Has surgically resected and histologically or pathologically confirmed diagnosis of Stage IIB and IIC (pathological or clinical), III, or IV cutaneous melanoma per the American Joint Committee on Cancer (AJCC) eighth edition guidelines -Has not received any prior systemic therapy for melanoma beyond surgical resection - Has had no more than 12 weeks between final surgical resection and randomization - Human immunodeficiency virus (HIV)-infected participants must have well controlled HIV on anti-retroviral therapy (ART) - Participants who are hepatitis B surface antigen (HBsAg) positive are eligible if they have received hepatitis B virus (HBV) antiviral therapy for at least 4 weeks and have undetectable HBV viral load before randomization - Participants with history of hepatitis C virus (HCV) infection are eligible if HCV viral load is undetectable at screening. Exclusion Criteria: - Has ocular, mucosal, or conjunctival melanoma - Has a diagnosis of immunodeficiency or is receiving chronic systemic steroid therapy (in dosing exceeding 10 mg daily of prednisone equivalent) or any other form of immunosuppressive therapy within 7 days prior the first dose of study medication - Has not adequately recovered from major surgical procedure or has ongoing surgical complications - Has received prior radiotherapy within 2 weeks of start of study intervention or has had a history of radiation pneumonitis - Received a live or live attenuated vaccine within 30 days before the first dose of study intervention. Administration of killed vaccines is allowed - Has received an investigational agent or has used an investigational device within 4 weeks before study intervention administration - Has a history of (noninfectious) pneumonitis/interstitial lung disease that required steroids or has current pneumonitis/interstitial lung disease - Has a known additional malignancy that is progressing or has required active treatment within the past 3 years - Has known active central nervous system (CNS) metastases and/or carcinomatous meningitis - Has an active autoimmune disease that has required systemic treatment in past 2 years - Has an active infection requiring systemic therapy - Has had an allogenic tissue/solid organ transplant\"\n",
    "\n",
    "context = \"content: Description and eligibility criteria of a clinical trial\"\n",
    "\n",
    "request = \"Provide 2 question and answer pairs based on the text above. The question must begin with \\\"In context of ...\\\" The answer should borrow verbatim from the text above. In providing each question, consider that the reader does not see or have access to any of the other questions for context. Vary the style and format of questions. Respond in plain text on a new line for each question and answer. Do not include question numbers. Here is an example of two question and answer pairs: \"\n",
    "\n",
    "example_response = \"In the context of description and eligibility of a clinical trial, can patients with history of hepatitis C virus (HCV) infection participate?\\nYes, as per the inclusion criteria, the participants with history of hepatitis C virus (HCV) infection are eligible if HCV viral load is undetectable at screening.\\n\\nIn the context of description and eligibility of a clinical trial, can patients with ocular, mucosal, or conjunctival melanoma participate?\\nNo, as per the xclusion criteria if the patient has ocular, mucosal, or conjunctival melanoma, then they would not be eligible.\""
   ]
  },
  {
   "cell_type": "code",
   "execution_count": 6,
   "metadata": {},
   "outputs": [],
   "source": [
    "#help(llm)"
   ]
  },
  {
   "cell_type": "code",
   "execution_count": 13,
   "metadata": {},
   "outputs": [
    {
     "name": "stdout",
     "output_type": "stream",
     "text": [
      "{'id': 'cmpl-5b356bfa-7680-475a-84d8-18ab76460d96', 'object': 'text_completion', 'created': 1700939183, 'model': '../localGPT/models/models--TheBloke--Llama-2-70B-Chat-GGUF/snapshots/6657b410331f892e2ea27eb435ef53aeefeedfd6/llama-2-70b-chat.Q4_K_M.gguf', 'choices': [{'text': 'Inclusion Criteria: - Has surgically resected and histologically or pathologically confirmed diagnosis of Stage IIB and IIC (pathological or clinical), III, or IV cutaneous melanoma per the American Joint Committee on Cancer (AJCC) eighth edition guidelines -Has not received any prior systemic therapy for melanoma beyond surgical resection - Has had no more than 12 weeks between final surgical resection and randomization - Human immunodeficiency virus (HIV)-infected participants must have well controlled HIV on anti-retroviral therapy (ART) - Participants who are hepatitis B surface antigen (HBsAg) positive are eligible if they have received hepatitis B virus (HBV) antiviral therapy for at least 4 weeks and have undetectable HBV viral load before randomization - Participants with history of hepatitis C virus (HCV) infection are eligible if HCV viral load is undetectable at screening. Exclusion Criteria: - Has ocular, mucosal, or conjunctival melanoma - Has a diagnosis of immunodeficiency or is receiving chronic systemic steroid therapy (in dosing exceeding 10 mg daily of prednisone equivalent) or any other form of immunosuppressive therapy within 7 days prior the first dose of study medication - Has not adequately recovered from major surgical procedure or has ongoing surgical complications - Has received prior radiotherapy within 2 weeks of start of study intervention or has had a history of radiation pneumonitis - Received a live or live attenuated vaccine within 30 days before the first dose of study intervention. Administration of killed vaccines is allowed - Has received an investigational agent or has used an investigational device within 4 weeks before study intervention administration - Has a history of (noninfectious) pneumonitis/interstitial lung disease that required steroids or has current pneumonitis/interstitial lung disease - Has a known additional malignancy that is progressing or has required active treatment within the past 3 years - Has known active central nervous system (CNS) metastases and/or carcinomatous meningitis - Has an active autoimmune disease that has required systemic treatment in past 2 years - Has an active infection requiring systemic therapy - Has had an allogenic tissue/solid organ transplant\\n\\ncontent: Description and eligibility criteria of a clinical trial\\n\\nProvide 2 question and answer pairs based on the text above. The question must begin with \"In context of ...\" The answer should borrow verbatim from the text above. In providing each question, consider that the reader does not see or have access to any of the other questions for context. Vary the style and format of questions. Respond in plain text on a new line for each question and answer. Do not include question numbers. Here is an example of two question and answer pairs: \\nIn the context of description and eligibility of a clinical trial, can patients with history of hepatitis C virus (HCV) infection participate?\\nYes, as per the inclusion criteria, the participants with history of hepatitis C virus (HCV) infection are eligible if HCV viral load is undetectable at screening.\\n\\nIn the context of description and eligibility of a clinical trial, can patients with ocular, mucosal, or conjunctival melanoma participate?\\nNo, as per the xclusion criteria if the patient has ocular, mucosal, or conjunctival melanoma, then they would not be eligible.', 'index': 0, 'logprobs': None, 'finish_reason': 'stop'}], 'usage': {'prompt_tokens': 846, 'completion_tokens': 0, 'total_tokens': 846}}\n"
     ]
    },
    {
     "name": "stderr",
     "output_type": "stream",
     "text": [
      "\n",
      "llama_print_timings:        load time =  322786.68 ms\n",
      "llama_print_timings:      sample time =       0.31 ms /     1 runs   (    0.31 ms per token,  3225.81 tokens per second)\n",
      "llama_print_timings: prompt eval time =  531203.07 ms /   846 tokens (  627.90 ms per token,     1.59 tokens per second)\n",
      "llama_print_timings:        eval time =       0.00 ms /     1 runs   (    0.00 ms per token,      inf tokens per second)\n",
      "llama_print_timings:       total time =  531208.40 ms\n"
     ]
    }
   ],
   "source": [
    "# if you get max token exceeded error then change it in llm object creation code, with n_ctx=higher number \n",
    "output = llm(f\"{input}\\n\\n{context}\\n\\n{request}\\n{example_response}\", \n",
    "             max_tokens=2048, \n",
    "             #stop=[\"Q:\", \"\\n\"], \n",
    "             echo=True)\n",
    "print(output)"
   ]
  },
  {
   "cell_type": "code",
   "execution_count": 14,
   "metadata": {},
   "outputs": [
    {
     "name": "stdout",
     "output_type": "stream",
     "text": [
      "Inclusion Criteria: - Has surgically resected and histologically or pathologically confirmed diagnosis of Stage IIB and IIC (pathological or clinical), III, or IV cutaneous melanoma per the American Joint Committee on Cancer (AJCC) eighth edition guidelines -Has not received any prior systemic therapy for melanoma beyond surgical resection - Has had no more than 12 weeks between final surgical resection and randomization - Human immunodeficiency virus (HIV)-infected participants must have well controlled HIV on anti-retroviral therapy (ART) - Participants who are hepatitis B surface antigen (HBsAg) positive are eligible if they have received hepatitis B virus (HBV) antiviral therapy for at least 4 weeks and have undetectable HBV viral load before randomization - Participants with history of hepatitis C virus (HCV) infection are eligible if HCV viral load is undetectable at screening. Exclusion Criteria: - Has ocular, mucosal, or conjunctival melanoma - Has a diagnosis of immunodeficiency or is receiving chronic systemic steroid therapy (in dosing exceeding 10 mg daily of prednisone equivalent) or any other form of immunosuppressive therapy within 7 days prior the first dose of study medication - Has not adequately recovered from major surgical procedure or has ongoing surgical complications - Has received prior radiotherapy within 2 weeks of start of study intervention or has had a history of radiation pneumonitis - Received a live or live attenuated vaccine within 30 days before the first dose of study intervention. Administration of killed vaccines is allowed - Has received an investigational agent or has used an investigational device within 4 weeks before study intervention administration - Has a history of (noninfectious) pneumonitis/interstitial lung disease that required steroids or has current pneumonitis/interstitial lung disease - Has a known additional malignancy that is progressing or has required active treatment within the past 3 years - Has known active central nervous system (CNS) metastases and/or carcinomatous meningitis - Has an active autoimmune disease that has required systemic treatment in past 2 years - Has an active infection requiring systemic therapy - Has had an allogenic tissue/solid organ transplant\n",
      "\n",
      "content: Description and eligibility criteria of a clinical trial\n",
      "\n",
      "Provide 2 question and answer pairs based on the text above. The question must begin with \"In context of ...\" The answer should borrow verbatim from the text above. In providing each question, consider that the reader does not see or have access to any of the other questions for context. Vary the style and format of questions. Respond in plain text on a new line for each question and answer. Do not include question numbers. Here is an example of two question and answer pairs: \n",
      "In the context of description and eligibility of a clinical trial, can patients with history of hepatitis C virus (HCV) infection participate?\n",
      "Yes, as per the inclusion criteria, the participants with history of hepatitis C virus (HCV) infection are eligible if HCV viral load is undetectable at screening.\n",
      "\n",
      "In the context of description and eligibility of a clinical trial, can patients with ocular, mucosal, or conjunctival melanoma participate?\n",
      "No, as per the xclusion criteria if the patient has ocular, mucosal, or conjunctival melanoma, then they would not be eligible.\n"
     ]
    }
   ],
   "source": [
    "print(output['choices'][0]['text'])"
   ]
  },
  {
   "cell_type": "markdown",
   "metadata": {},
   "source": [
    "### Trial 2"
   ]
  },
  {
   "cell_type": "markdown",
   "metadata": {},
   "source": [
    "We did not recieve any response here, I guess we have to play a little with the prompt here.\n",
    "\n",
    "Also, it took 8 min 52 sec. Let's see if we can use gpu layers to speed up things."
   ]
  },
  {
   "cell_type": "code",
   "execution_count": 2,
   "metadata": {},
   "outputs": [],
   "source": [
    "llm = Llama(model_path=\"../localGPT/models/models--TheBloke--Llama-2-70B-Chat-GGUF/snapshots/6657b410331f892e2ea27eb435ef53aeefeedfd6/llama-2-70b-chat.Q4_K_M.gguf\",\n",
    "            n_ctx=2048,\n",
    "            n_gpu_layers=100, \n",
    "            main_gpu=1)"
   ]
  },
  {
   "cell_type": "code",
   "execution_count": null,
   "metadata": {},
   "outputs": [],
   "source": [
    "input = \"Inclusion Criteria: - Has surgically resected and histologically or pathologically confirmed diagnosis of Stage IIB and IIC (pathological or clinical), III, or IV cutaneous melanoma per the American Joint Committee on Cancer (AJCC) eighth edition guidelines -Has not received any prior systemic therapy for melanoma beyond surgical resection - Has had no more than 12 weeks between final surgical resection and randomization - Human immunodeficiency virus (HIV)-infected participants must have well controlled HIV on anti-retroviral therapy (ART) - Participants who are hepatitis B surface antigen (HBsAg) positive are eligible if they have received hepatitis B virus (HBV) antiviral therapy for at least 4 weeks and have undetectable HBV viral load before randomization - Participants with history of hepatitis C virus (HCV) infection are eligible if HCV viral load is undetectable at screening. Exclusion Criteria: - Has ocular, mucosal, or conjunctival melanoma - Has a diagnosis of immunodeficiency or is receiving chronic systemic steroid therapy (in dosing exceeding 10 mg daily of prednisone equivalent) or any other form of immunosuppressive therapy within 7 days prior the first dose of study medication - Has not adequately recovered from major surgical procedure or has ongoing surgical complications - Has received prior radiotherapy within 2 weeks of start of study intervention or has had a history of radiation pneumonitis - Received a live or live attenuated vaccine within 30 days before the first dose of study intervention. Administration of killed vaccines is allowed - Has received an investigational agent or has used an investigational device within 4 weeks before study intervention administration - Has a history of (noninfectious) pneumonitis/interstitial lung disease that required steroids or has current pneumonitis/interstitial lung disease - Has a known additional malignancy that is progressing or has required active treatment within the past 3 years - Has known active central nervous system (CNS) metastases and/or carcinomatous meningitis - Has an active autoimmune disease that has required systemic treatment in past 2 years - Has an active infection requiring systemic therapy - Has had an allogenic tissue/solid organ transplant\"\n",
    "\n",
    "context = \"content: Description and eligibility criteria of a clinical trial\"\n",
    "\n",
    "request = \"Provide 2 question and answer pairs based on the text above. The question must begin with \\\"In context of ...\\\" The answer should borrow verbatim from the text above. In providing each question, consider that the reader does not see or have access to any of the other questions for context. Vary the style and format of questions. Respond in plain text on a new line for each question and answer. Do not include question numbers. Here is an example of two question and answer pairs: \"\n",
    "\n",
    "example_response = \"In the context of description and eligibility of a clinical trial, can patients with history of hepatitis C virus (HCV) infection participate?\\nYes, as per the inclusion criteria, the participants with history of hepatitis C virus (HCV) infection are eligible if HCV viral load is undetectable at screening.\\n\\nIn the context of description and eligibility of a clinical trial, can patients with ocular, mucosal, or conjunctival melanoma participate?\\nNo, as per the xclusion criteria if the patient has ocular, mucosal, or conjunctival melanoma, then they would not be eligible.\""
   ]
  },
  {
   "cell_type": "code",
   "execution_count": 19,
   "metadata": {},
   "outputs": [
    {
     "name": "stdout",
     "output_type": "stream",
     "text": [
      "{'id': 'cmpl-1fbd42d3-f4a9-4620-beab-b1c15163006a', 'object': 'text_completion', 'created': 1700943732, 'model': '../localGPT/models/models--TheBloke--Llama-2-70B-Chat-GGUF/snapshots/6657b410331f892e2ea27eb435ef53aeefeedfd6/llama-2-70b-chat.Q4_K_M.gguf', 'choices': [{'text': \"Generate 2 question and answer pairs based on the following context: ('content: Description and eligibility criteria of a clinical trial', 'Inclusion Criteria: - Has surgically resected and histologically or pathologically confirmed diagnosis of Stage IIB and IIC (pathological or clinical), III, or IV cutaneous melanoma per the American Joint Committee on Cancer (AJCC) eighth edition guidelines -Has not received any prior systemic therapy for melanoma beyond surgical resection - Has had no more than 12 weeks between final surgical resection and randomization - Human immunodeficiency virus (HIV)-infected participants must have well controlled HIV on anti-retroviral therapy (ART) - Participants who are hepatitis B surface antigen (HBsAg) positive are eligible if they have received hepatitis B virus (HBV) antiviral therapy for at least 4 weeks and have undetectable HBV viral load before randomization - Participants with history of hepatitis C virus (HCV) infection are eligible if HCV viral load is undetectable at screening. Exclusion Criteria: - Has ocular, mucosal, or conjunctival melanoma - Has a diagnosis of immunodeficiency or is receiving chronic systemic steroid therapy (in dosing exceeding 10 mg daily of prednisone equivalent) or any other form of immunosuppressive therapy within 7 days prior the first dose of study medication - Has not adequately recovered from major surgical procedure or has ongoing surgical complications - Has received prior radiotherapy within 2 weeks of start of study intervention or has had a history of radiation pneumonitis - Received a live or live attenuated vaccine within 30 days before the first dose of study intervention. Administration of killed vaccines is allowed - Has received an investigational agent or has used an investigational device within 4 weeks before study intervention administration - Has a history of (noninfectious) pneumonitis/interstitial lung disease that required steroids or has current pneumonitis/interstitial lung disease - Has a known additional malignancy that is progressing or has required active treatment within the past 3 years - Has known active central nervous system (CNS) metastases and/or carcinomatous meningitis - Has an active autoimmune disease that has required systemic treatment in past 2 years - Has an active infection requiring systemic therapy - Has had an allogenic tissue/solid organ transplant'). \\n\\nRespond in plain text on a new line for each question and answer. Do not include question numbers. Here is an example of two question and answer pairs:\\nIn the context of description and eligibility of a clinical trial, can patients with history of hepatitis C virus (HCV) infection participate?\\nYes, as per the inclusion criteria, the participants with history of hepatitis C virus (HCV) infection are eligible if HCV viral load is undetectable at screening.\\n\\nIn the context of description and eligibility of a clinical trial, can patients with ocular, mucosal, or conjunctival melanoma participate?\\nNo, as per the xclusion criteria if the patient has ocular, mucosal, or conjunctival melanoma, then they would not be eligible.\", 'index': 0, 'logprobs': None, 'finish_reason': 'stop'}], 'usage': {'prompt_tokens': 791, 'completion_tokens': 0, 'total_tokens': 791}}\n"
     ]
    },
    {
     "name": "stderr",
     "output_type": "stream",
     "text": [
      "\n",
      "llama_print_timings:        load time =  313927.70 ms\n",
      "llama_print_timings:      sample time =       0.30 ms /     1 runs   (    0.30 ms per token,  3311.26 tokens per second)\n",
      "llama_print_timings: prompt eval time =  498523.51 ms /   791 tokens (  630.24 ms per token,     1.59 tokens per second)\n",
      "llama_print_timings:        eval time =       0.00 ms /     1 runs   (    0.00 ms per token,      inf tokens per second)\n",
      "llama_print_timings:       total time =  498529.80 ms\n"
     ]
    }
   ],
   "source": [
    "output = llm(f\"Generate 2 question and answer pairs based on the following context: {context, input}. \\n\\nRespond in plain text on a new line for each question and answer. Do not include question numbers. Here is an example of two question and answer pairs:\\n{example_response}\", \n",
    "             #max_tokens=2048, \n",
    "             #stop=[\"Q:\", \"\\n\"], \n",
    "             echo=True)\n",
    "print(output)"
   ]
  },
  {
   "cell_type": "code",
   "execution_count": 20,
   "metadata": {},
   "outputs": [
    {
     "name": "stdout",
     "output_type": "stream",
     "text": [
      "Generate 2 question and answer pairs based on the following context: ('content: Description and eligibility criteria of a clinical trial', 'Inclusion Criteria: - Has surgically resected and histologically or pathologically confirmed diagnosis of Stage IIB and IIC (pathological or clinical), III, or IV cutaneous melanoma per the American Joint Committee on Cancer (AJCC) eighth edition guidelines -Has not received any prior systemic therapy for melanoma beyond surgical resection - Has had no more than 12 weeks between final surgical resection and randomization - Human immunodeficiency virus (HIV)-infected participants must have well controlled HIV on anti-retroviral therapy (ART) - Participants who are hepatitis B surface antigen (HBsAg) positive are eligible if they have received hepatitis B virus (HBV) antiviral therapy for at least 4 weeks and have undetectable HBV viral load before randomization - Participants with history of hepatitis C virus (HCV) infection are eligible if HCV viral load is undetectable at screening. Exclusion Criteria: - Has ocular, mucosal, or conjunctival melanoma - Has a diagnosis of immunodeficiency or is receiving chronic systemic steroid therapy (in dosing exceeding 10 mg daily of prednisone equivalent) or any other form of immunosuppressive therapy within 7 days prior the first dose of study medication - Has not adequately recovered from major surgical procedure or has ongoing surgical complications - Has received prior radiotherapy within 2 weeks of start of study intervention or has had a history of radiation pneumonitis - Received a live or live attenuated vaccine within 30 days before the first dose of study intervention. Administration of killed vaccines is allowed - Has received an investigational agent or has used an investigational device within 4 weeks before study intervention administration - Has a history of (noninfectious) pneumonitis/interstitial lung disease that required steroids or has current pneumonitis/interstitial lung disease - Has a known additional malignancy that is progressing or has required active treatment within the past 3 years - Has known active central nervous system (CNS) metastases and/or carcinomatous meningitis - Has an active autoimmune disease that has required systemic treatment in past 2 years - Has an active infection requiring systemic therapy - Has had an allogenic tissue/solid organ transplant'). \n",
      "\n",
      "Respond in plain text on a new line for each question and answer. Do not include question numbers. Here is an example of two question and answer pairs:\n",
      "In the context of description and eligibility of a clinical trial, can patients with history of hepatitis C virus (HCV) infection participate?\n",
      "Yes, as per the inclusion criteria, the participants with history of hepatitis C virus (HCV) infection are eligible if HCV viral load is undetectable at screening.\n",
      "\n",
      "In the context of description and eligibility of a clinical trial, can patients with ocular, mucosal, or conjunctival melanoma participate?\n",
      "No, as per the xclusion criteria if the patient has ocular, mucosal, or conjunctival melanoma, then they would not be eligible.\n"
     ]
    }
   ],
   "source": [
    "print(outputch['oices'][0]['text'])"
   ]
  },
  {
   "cell_type": "markdown",
   "metadata": {},
   "source": [
    "### Trial 3"
   ]
  },
  {
   "cell_type": "code",
   "execution_count": 3,
   "metadata": {},
   "outputs": [],
   "source": [
    "llm = Llama(model_path=\"../localGPT/models/models--TheBloke--Llama-2-70B-Chat-GGUF/snapshots/6657b410331f892e2ea27eb435ef53aeefeedfd6/llama-2-70b-chat.Q4_K_M.gguf\",\n",
    "            n_ctx=2048,\n",
    "            n_gpu_layers=400, \n",
    "            main_gpu=1)"
   ]
  },
  {
   "cell_type": "code",
   "execution_count": 22,
   "metadata": {},
   "outputs": [
    {
     "name": "stdout",
     "output_type": "stream",
     "text": [
      "{'id': 'cmpl-45f67e78-efcd-4389-876d-16695cdb858a', 'object': 'text_completion', 'created': 1700944470, 'model': '../localGPT/models/models--TheBloke--Llama-2-70B-Chat-GGUF/snapshots/6657b410331f892e2ea27eb435ef53aeefeedfd6/llama-2-70b-chat.Q4_K_M.gguf', 'choices': [{'text': 'Generate 2 question and answer pairs based on the following context: Inclusion Criteria: - Has surgically resected and histologically or pathologically confirmed diagnosis of Stage IIB and IIC (pathological or clinical), III, or IV cutaneous melanoma per the American Joint Committee on Cancer (AJCC) eighth edition guidelines -Has not received any prior systemic therapy for melanoma beyond surgical resection - Has had no more than 12 weeks between final surgical resection and randomization - Human immunodeficiency virus (HIV)-infected participants must have well controlled HIV on anti-retroviral therapy (ART) - Participants who are hepatitis B surface antigen (HBsAg) positive are eligible if they have received hepatitis B virus (HBV) antiviral therapy for at least 4 weeks and have undetectable HBV viral load before randomization - Participants with history of hepatitis C virus (HCV) infection are eligible if HCV viral load is undetectable at screening. Exclusion Criteria: - Has ocular, mucosal, or conjunctival melanoma - Has a diagnosis of immunodeficiency or is receiving chronic systemic steroid therapy (in dosing exceeding 10 mg daily of prednisone equivalent) or any other form of immunosuppressive therapy within 7 days prior the first dose of study medication - Has not adequately recovered from major surgical procedure or has ongoing surgical complications - Has received prior radiotherapy within 2 weeks of start of study intervention or has had a history of radiation pneumonitis - Received a live or live attenuated vaccine within 30 days before the first dose of study intervention. Administration of killed vaccines is allowed - Has received an investigational agent or has used an investigational device within 4 weeks before study intervention administration - Has a history of (noninfectious) pneumonitis/interstitial lung disease that required steroids or has current pneumonitis/interstitial lung disease - Has a known additional malignancy that is progressing or has required active treatment within the past 3 years - Has known active central nervous system (CNS) metastases and/or carcinomatous meningitis - Has an active autoimmune disease that has required systemic treatment in past 2 years - Has an active infection requiring systemic therapy - Has had an allogenic tissue/solid organ transplant. \\n\\nRespond in plain text on a new line for each question and answer. Do not include question numbers. Keep it simple, do not use abbreviations or acronyms unless spelled out in full first. No extra spaces between lines.\\n\\nQ: Can someone with HIV be included in the clinical trial?\\nA: Yes, if they have well controlled HIV on anti-retroviral therapy (ART).\\n\\nQ: Is someone with a history of hepatitis C virus (HCV) infection eligible for the clinical trial?\\nA: Yes, if HCV viral load is undetectable at screening.', 'index': 0, 'logprobs': None, 'finish_reason': 'stop'}], 'usage': {'prompt_tokens': 609, 'completion_tokens': 120, 'total_tokens': 729}}\n"
     ]
    },
    {
     "name": "stderr",
     "output_type": "stream",
     "text": [
      "\n",
      "llama_print_timings:        load time =  319793.41 ms\n",
      "llama_print_timings:      sample time =      41.01 ms /   121 runs   (    0.34 ms per token,  2950.72 tokens per second)\n",
      "llama_print_timings: prompt eval time =  381327.37 ms /   609 tokens (  626.15 ms per token,     1.60 tokens per second)\n",
      "llama_print_timings:        eval time =  152054.74 ms /   120 runs   ( 1267.12 ms per token,     0.79 tokens per second)\n",
      "llama_print_timings:       total time =  533676.08 ms\n"
     ]
    }
   ],
   "source": [
    "output = llm(f\"Generate 2 question and answer pairs based on the following context: {input}. \\n\\nRespond in plain text on a new line for each question and answer. Do not include question numbers.\", \n",
    "             #max_tokens=2048, \n",
    "             #stop=[\"Q:\", \"\\n\"], \n",
    "             echo=True)\n",
    "print(output)"
   ]
  },
  {
   "cell_type": "code",
   "execution_count": 23,
   "metadata": {},
   "outputs": [
    {
     "name": "stdout",
     "output_type": "stream",
     "text": [
      "Generate 2 question and answer pairs based on the following context: Inclusion Criteria: - Has surgically resected and histologically or pathologically confirmed diagnosis of Stage IIB and IIC (pathological or clinical), III, or IV cutaneous melanoma per the American Joint Committee on Cancer (AJCC) eighth edition guidelines -Has not received any prior systemic therapy for melanoma beyond surgical resection - Has had no more than 12 weeks between final surgical resection and randomization - Human immunodeficiency virus (HIV)-infected participants must have well controlled HIV on anti-retroviral therapy (ART) - Participants who are hepatitis B surface antigen (HBsAg) positive are eligible if they have received hepatitis B virus (HBV) antiviral therapy for at least 4 weeks and have undetectable HBV viral load before randomization - Participants with history of hepatitis C virus (HCV) infection are eligible if HCV viral load is undetectable at screening. Exclusion Criteria: - Has ocular, mucosal, or conjunctival melanoma - Has a diagnosis of immunodeficiency or is receiving chronic systemic steroid therapy (in dosing exceeding 10 mg daily of prednisone equivalent) or any other form of immunosuppressive therapy within 7 days prior the first dose of study medication - Has not adequately recovered from major surgical procedure or has ongoing surgical complications - Has received prior radiotherapy within 2 weeks of start of study intervention or has had a history of radiation pneumonitis - Received a live or live attenuated vaccine within 30 days before the first dose of study intervention. Administration of killed vaccines is allowed - Has received an investigational agent or has used an investigational device within 4 weeks before study intervention administration - Has a history of (noninfectious) pneumonitis/interstitial lung disease that required steroids or has current pneumonitis/interstitial lung disease - Has a known additional malignancy that is progressing or has required active treatment within the past 3 years - Has known active central nervous system (CNS) metastases and/or carcinomatous meningitis - Has an active autoimmune disease that has required systemic treatment in past 2 years - Has an active infection requiring systemic therapy - Has had an allogenic tissue/solid organ transplant. \n",
      "\n",
      "Respond in plain text on a new line for each question and answer. Do not include question numbers. Keep it simple, do not use abbreviations or acronyms unless spelled out in full first. No extra spaces between lines.\n",
      "\n",
      "Q: Can someone with HIV be included in the clinical trial?\n",
      "A: Yes, if they have well controlled HIV on anti-retroviral therapy (ART).\n",
      "\n",
      "Q: Is someone with a history of hepatitis C virus (HCV) infection eligible for the clinical trial?\n",
      "A: Yes, if HCV viral load is undetectable at screening.\n"
     ]
    }
   ],
   "source": [
    "print(output['choices'][0]['text'])"
   ]
  },
  {
   "cell_type": "markdown",
   "metadata": {},
   "source": [
    "Although it still took almost 9 minutes, it was able to generate questions.\n",
    "\n",
    "That's a good sign. Let's try to scale it for more questions "
   ]
  },
  {
   "cell_type": "code",
   "execution_count": 24,
   "metadata": {},
   "outputs": [
    {
     "name": "stderr",
     "output_type": "stream",
     "text": [
      "Llama.generate: prefix-match hit\n"
     ]
    },
    {
     "name": "stdout",
     "output_type": "stream",
     "text": [
      "{'id': 'cmpl-3a84fc79-747e-415b-9fe3-4c567b9098ce', 'object': 'text_completion', 'created': 1700945228, 'model': '../localGPT/models/models--TheBloke--Llama-2-70B-Chat-GGUF/snapshots/6657b410331f892e2ea27eb435ef53aeefeedfd6/llama-2-70b-chat.Q4_K_M.gguf', 'choices': [{'text': 'Generate 5 question and answer pairs based on the following context: Inclusion Criteria: - Has surgically resected and histologically or pathologically confirmed diagnosis of Stage IIB and IIC (pathological or clinical), III, or IV cutaneous melanoma per the American Joint Committee on Cancer (AJCC) eighth edition guidelines -Has not received any prior systemic therapy for melanoma beyond surgical resection - Has had no more than 12 weeks between final surgical resection and randomization - Human immunodeficiency virus (HIV)-infected participants must have well controlled HIV on anti-retroviral therapy (ART) - Participants who are hepatitis B surface antigen (HBsAg) positive are eligible if they have received hepatitis B virus (HBV) antiviral therapy for at least 4 weeks and have undetectable HBV viral load before randomization - Participants with history of hepatitis C virus (HCV) infection are eligible if HCV viral load is undetectable at screening. Exclusion Criteria: - Has ocular, mucosal, or conjunctival melanoma - Has a diagnosis of immunodeficiency or is receiving chronic systemic steroid therapy (in dosing exceeding 10 mg daily of prednisone equivalent) or any other form of immunosuppressive therapy within 7 days prior the first dose of study medication - Has not adequately recovered from major surgical procedure or has ongoing surgical complications - Has received prior radiotherapy within 2 weeks of start of study intervention or has had a history of radiation pneumonitis - Received a live or live attenuated vaccine within 30 days before the first dose of study intervention. Administration of killed vaccines is allowed - Has received an investigational agent or has used an investigational device within 4 weeks before study intervention administration - Has a history of (noninfectious) pneumonitis/interstitial lung disease that required steroids or has current pneumonitis/interstitial lung disease - Has a known additional malignancy that is progressing or has required active treatment within the past 3 years - Has known active central nervous system (CNS) metastases and/or carcinomatous meningitis - Has an active autoimmune disease that has required systemic treatment in past 2 years - Has an active infection requiring systemic therapy - Has had an allogenic tissue/solid organ transplant. \\n\\nRespond in plain text on a new line for each question and answer. Do not include question numbers. Use only words to indicate the answers, do not use abbreviations or acronyms unless spelled out fully. \\n\\nIs someone with a history of hepatitis C virus (HCV) infection eligible to participate? \\n\\nYes, if HCV viral load is undetectable at screening and the participant has received HCV antiviral therapy for at least 4 weeks. \\n\\nCan someone who has received a live or live attenuated vaccine within 30 days before the first dose of study intervention participate? ', 'index': 0, 'logprobs': None, 'finish_reason': 'length'}], 'usage': {'prompt_tokens': 609, 'completion_tokens': 128, 'total_tokens': 737}}\n"
     ]
    },
    {
     "name": "stderr",
     "output_type": "stream",
     "text": [
      "\n",
      "llama_print_timings:        load time =  319793.41 ms\n",
      "llama_print_timings:      sample time =      47.34 ms /   128 runs   (    0.37 ms per token,  2704.13 tokens per second)\n",
      "llama_print_timings: prompt eval time =  361790.36 ms /   605 tokens (  598.00 ms per token,     1.67 tokens per second)\n",
      "llama_print_timings:        eval time =  169861.51 ms /   127 runs   ( 1337.49 ms per token,     0.75 tokens per second)\n",
      "llama_print_timings:       total time =  531988.34 ms\n"
     ]
    }
   ],
   "source": [
    "output = llm(f\"Generate 5 question and answer pairs based on the following context: {input}. \\n\\nRespond in plain text on a new line for each question and answer. Do not include question numbers.\", \n",
    "             #max_tokens=2048, \n",
    "             #stop=[\"Q:\", \"\\n\"], \n",
    "             echo=True)\n",
    "print(output)"
   ]
  },
  {
   "cell_type": "markdown",
   "metadata": {},
   "source": [
    "output = llm(f\"Generate 5 question and answer pairs based on the following context: {input}. \\n\\nRespond in plain text on a new line for each question and answer. Do not include question numbers.\", \n",
    "             #max_tokens=2048, \n",
    "             #stop=[\"Q:\", \"\\n\"], \n",
    "             echo=True)\n",
    "print(output)"
   ]
  },
  {
   "cell_type": "code",
   "execution_count": 25,
   "metadata": {},
   "outputs": [
    {
     "name": "stdout",
     "output_type": "stream",
     "text": [
      "Generate 5 question and answer pairs based on the following context: Inclusion Criteria: - Has surgically resected and histologically or pathologically confirmed diagnosis of Stage IIB and IIC (pathological or clinical), III, or IV cutaneous melanoma per the American Joint Committee on Cancer (AJCC) eighth edition guidelines -Has not received any prior systemic therapy for melanoma beyond surgical resection - Has had no more than 12 weeks between final surgical resection and randomization - Human immunodeficiency virus (HIV)-infected participants must have well controlled HIV on anti-retroviral therapy (ART) - Participants who are hepatitis B surface antigen (HBsAg) positive are eligible if they have received hepatitis B virus (HBV) antiviral therapy for at least 4 weeks and have undetectable HBV viral load before randomization - Participants with history of hepatitis C virus (HCV) infection are eligible if HCV viral load is undetectable at screening. Exclusion Criteria: - Has ocular, mucosal, or conjunctival melanoma - Has a diagnosis of immunodeficiency or is receiving chronic systemic steroid therapy (in dosing exceeding 10 mg daily of prednisone equivalent) or any other form of immunosuppressive therapy within 7 days prior the first dose of study medication - Has not adequately recovered from major surgical procedure or has ongoing surgical complications - Has received prior radiotherapy within 2 weeks of start of study intervention or has had a history of radiation pneumonitis - Received a live or live attenuated vaccine within 30 days before the first dose of study intervention. Administration of killed vaccines is allowed - Has received an investigational agent or has used an investigational device within 4 weeks before study intervention administration - Has a history of (noninfectious) pneumonitis/interstitial lung disease that required steroids or has current pneumonitis/interstitial lung disease - Has a known additional malignancy that is progressing or has required active treatment within the past 3 years - Has known active central nervous system (CNS) metastases and/or carcinomatous meningitis - Has an active autoimmune disease that has required systemic treatment in past 2 years - Has an active infection requiring systemic therapy - Has had an allogenic tissue/solid organ transplant. \n",
      "\n",
      "Respond in plain text on a new line for each question and answer. Do not include question numbers. Use only words to indicate the answers, do not use abbreviations or acronyms unless spelled out fully. \n",
      "\n",
      "Is someone with a history of hepatitis C virus (HCV) infection eligible to participate? \n",
      "\n",
      "Yes, if HCV viral load is undetectable at screening and the participant has received HCV antiviral therapy for at least 4 weeks. \n",
      "\n",
      "Can someone who has received a live or live attenuated vaccine within 30 days before the first dose of study intervention participate? \n"
     ]
    }
   ],
   "source": [
    "print(output['choices'][0]['text'])"
   ]
  },
  {
   "cell_type": "markdown",
   "metadata": {},
   "source": [
    "Perhaps the context length is leading to truncation of the output. Let's try with increased context length."
   ]
  },
  {
   "cell_type": "markdown",
   "metadata": {},
   "source": [
    "### Trial 4"
   ]
  },
  {
   "cell_type": "code",
   "execution_count": 4,
   "metadata": {},
   "outputs": [],
   "source": [
    "# increasing n_ctx by 50%\n",
    "llm = Llama(model_path=\"../localGPT/models/models--TheBloke--Llama-2-70B-Chat-GGUF/snapshots/6657b410331f892e2ea27eb435ef53aeefeedfd6/llama-2-70b-chat.Q4_K_M.gguf\",\n",
    "            n_ctx=3072,\n",
    "            n_gpu_layers=400, \n",
    "            main_gpu=1)"
   ]
  },
  {
   "cell_type": "code",
   "execution_count": 27,
   "metadata": {},
   "outputs": [
    {
     "name": "stdout",
     "output_type": "stream",
     "text": [
      "{'id': 'cmpl-ecbd9b19-cc28-48a7-98fa-79c588a4d62b', 'object': 'text_completion', 'created': 1700946668, 'model': '../localGPT/models/models--TheBloke--Llama-2-70B-Chat-GGUF/snapshots/6657b410331f892e2ea27eb435ef53aeefeedfd6/llama-2-70b-chat.Q4_K_M.gguf', 'choices': [{'text': 'Generate 5 question and answer pairs based on the following context: Inclusion Criteria: - Has surgically resected and histologically or pathologically confirmed diagnosis of Stage IIB and IIC (pathological or clinical), III, or IV cutaneous melanoma per the American Joint Committee on Cancer (AJCC) eighth edition guidelines -Has not received any prior systemic therapy for melanoma beyond surgical resection - Has had no more than 12 weeks between final surgical resection and randomization - Human immunodeficiency virus (HIV)-infected participants must have well controlled HIV on anti-retroviral therapy (ART) - Participants who are hepatitis B surface antigen (HBsAg) positive are eligible if they have received hepatitis B virus (HBV) antiviral therapy for at least 4 weeks and have undetectable HBV viral load before randomization - Participants with history of hepatitis C virus (HCV) infection are eligible if HCV viral load is undetectable at screening. Exclusion Criteria: - Has ocular, mucosal, or conjunctival melanoma - Has a diagnosis of immunodeficiency or is receiving chronic systemic steroid therapy (in dosing exceeding 10 mg daily of prednisone equivalent) or any other form of immunosuppressive therapy within 7 days prior the first dose of study medication - Has not adequately recovered from major surgical procedure or has ongoing surgical complications - Has received prior radiotherapy within 2 weeks of start of study intervention or has had a history of radiation pneumonitis - Received a live or live attenuated vaccine within 30 days before the first dose of study intervention. Administration of killed vaccines is allowed - Has received an investigational agent or has used an investigational device within 4 weeks before study intervention administration - Has a history of (noninfectious) pneumonitis/interstitial lung disease that required steroids or has current pneumonitis/interstitial lung disease - Has a known additional malignancy that is progressing or has required active treatment within the past 3 years - Has known active central nervous system (CNS) metastases and/or carcinomatous meningitis - Has an active autoimmune disease that has required systemic treatment in past 2 years - Has an active infection requiring systemic therapy - Has had an allogenic tissue/solid organ transplant. \\n\\nRespond in plain text on a new line for each question and answer. Do not include question numbers. Keep answers brief. The auto-grader will check your answers against the context of the clinical trial inclusion and exclusion criteria provided.\\n1. Can someone with stage III melanoma be included in this trial? \\n2. What is the allowed time frame between surgical resection and randomization for participants? \\n3. Are participants with a history of hepatitis C virus (HCV) infection eligible for this clinical trial? \\n4. Is someone who has received an investigational device within 4 weeks before study intervention administration eligible to participate? \\n5', 'index': 0, 'logprobs': None, 'finish_reason': 'length'}], 'usage': {'prompt_tokens': 609, 'completion_tokens': 128, 'total_tokens': 737}}\n"
     ]
    },
    {
     "name": "stderr",
     "output_type": "stream",
     "text": [
      "\n",
      "llama_print_timings:        load time =  327321.64 ms\n",
      "llama_print_timings:      sample time =      43.14 ms /   128 runs   (    0.34 ms per token,  2966.88 tokens per second)\n",
      "llama_print_timings: prompt eval time =  385141.55 ms /   609 tokens (  632.42 ms per token,     1.58 tokens per second)\n",
      "llama_print_timings:        eval time =  157661.82 ms /   127 runs   ( 1241.43 ms per token,     0.81 tokens per second)\n",
      "llama_print_timings:       total time =  543115.81 ms\n"
     ]
    }
   ],
   "source": [
    "output = llm(f\"Generate 5 question and answer pairs based on the following context: {input}. \\n\\nRespond in plain text on a new line for each question and answer. Do not include question numbers.\", \n",
    "             #max_tokens=2048, \n",
    "             #stop=[\"Q:\", \"\\n\"], \n",
    "             echo=True)\n",
    "print(output)"
   ]
  },
  {
   "cell_type": "code",
   "execution_count": 28,
   "metadata": {},
   "outputs": [
    {
     "name": "stdout",
     "output_type": "stream",
     "text": [
      "Generate 5 question and answer pairs based on the following context: Inclusion Criteria: - Has surgically resected and histologically or pathologically confirmed diagnosis of Stage IIB and IIC (pathological or clinical), III, or IV cutaneous melanoma per the American Joint Committee on Cancer (AJCC) eighth edition guidelines -Has not received any prior systemic therapy for melanoma beyond surgical resection - Has had no more than 12 weeks between final surgical resection and randomization - Human immunodeficiency virus (HIV)-infected participants must have well controlled HIV on anti-retroviral therapy (ART) - Participants who are hepatitis B surface antigen (HBsAg) positive are eligible if they have received hepatitis B virus (HBV) antiviral therapy for at least 4 weeks and have undetectable HBV viral load before randomization - Participants with history of hepatitis C virus (HCV) infection are eligible if HCV viral load is undetectable at screening. Exclusion Criteria: - Has ocular, mucosal, or conjunctival melanoma - Has a diagnosis of immunodeficiency or is receiving chronic systemic steroid therapy (in dosing exceeding 10 mg daily of prednisone equivalent) or any other form of immunosuppressive therapy within 7 days prior the first dose of study medication - Has not adequately recovered from major surgical procedure or has ongoing surgical complications - Has received prior radiotherapy within 2 weeks of start of study intervention or has had a history of radiation pneumonitis - Received a live or live attenuated vaccine within 30 days before the first dose of study intervention. Administration of killed vaccines is allowed - Has received an investigational agent or has used an investigational device within 4 weeks before study intervention administration - Has a history of (noninfectious) pneumonitis/interstitial lung disease that required steroids or has current pneumonitis/interstitial lung disease - Has a known additional malignancy that is progressing or has required active treatment within the past 3 years - Has known active central nervous system (CNS) metastases and/or carcinomatous meningitis - Has an active autoimmune disease that has required systemic treatment in past 2 years - Has an active infection requiring systemic therapy - Has had an allogenic tissue/solid organ transplant. \n",
      "\n",
      "Respond in plain text on a new line for each question and answer. Do not include question numbers. Keep answers brief. The auto-grader will check your answers against the context of the clinical trial inclusion and exclusion criteria provided.\n",
      "1. Can someone with stage III melanoma be included in this trial? \n",
      "2. What is the allowed time frame between surgical resection and randomization for participants? \n",
      "3. Are participants with a history of hepatitis C virus (HCV) infection eligible for this clinical trial? \n",
      "4. Is someone who has received an investigational device within 4 weeks before study intervention administration eligible to participate? \n",
      "5\n"
     ]
    }
   ],
   "source": [
    "print(output['choices'][0]['text'])"
   ]
  },
  {
   "cell_type": "code",
   "execution_count": 29,
   "metadata": {},
   "outputs": [
    {
     "name": "stderr",
     "output_type": "stream",
     "text": [
      "Llama.generate: prefix-match hit\n"
     ]
    },
    {
     "name": "stdout",
     "output_type": "stream",
     "text": [
      "{'id': 'cmpl-ac1e1b2b-8617-4ddd-be30-05ba35abfbc0', 'object': 'text_completion', 'created': 1700947811, 'model': '../localGPT/models/models--TheBloke--Llama-2-70B-Chat-GGUF/snapshots/6657b410331f892e2ea27eb435ef53aeefeedfd6/llama-2-70b-chat.Q4_K_M.gguf', 'choices': [{'text': 'Generate 3 pairs of question and answer based on the following context: Inclusion Criteria: - Has surgically resected and histologically or pathologically confirmed diagnosis of Stage IIB and IIC (pathological or clinical), III, or IV cutaneous melanoma per the American Joint Committee on Cancer (AJCC) eighth edition guidelines -Has not received any prior systemic therapy for melanoma beyond surgical resection - Has had no more than 12 weeks between final surgical resection and randomization - Human immunodeficiency virus (HIV)-infected participants must have well controlled HIV on anti-retroviral therapy (ART) - Participants who are hepatitis B surface antigen (HBsAg) positive are eligible if they have received hepatitis B virus (HBV) antiviral therapy for at least 4 weeks and have undetectable HBV viral load before randomization - Participants with history of hepatitis C virus (HCV) infection are eligible if HCV viral load is undetectable at screening. Exclusion Criteria: - Has ocular, mucosal, or conjunctival melanoma - Has a diagnosis of immunodeficiency or is receiving chronic systemic steroid therapy (in dosing exceeding 10 mg daily of prednisone equivalent) or any other form of immunosuppressive therapy within 7 days prior the first dose of study medication - Has not adequately recovered from major surgical procedure or has ongoing surgical complications - Has received prior radiotherapy within 2 weeks of start of study intervention or has had a history of radiation pneumonitis - Received a live or live attenuated vaccine within 30 days before the first dose of study intervention. Administration of killed vaccines is allowed - Has received an investigational agent or has used an investigational device within 4 weeks before study intervention administration - Has a history of (noninfectious) pneumonitis/interstitial lung disease that required steroids or has current pneumonitis/interstitial lung disease - Has a known additional malignancy that is progressing or has required active treatment within the past 3 years - Has known active central nervous system (CNS) metastases and/or carcinomatous meningitis - Has an active autoimmune disease that has required systemic treatment in past 2 years - Has an active infection requiring systemic therapy - Has had an allogenic tissue/solid organ transplant. \\n\\nRespond in plain text on a new line for each question and answer. Do not include question numbers.\\n\\nWhat is the primary inclusion criteria for this clinical trial?\\nA participant must have a surgically resected and histologically or pathologically confirmed diagnosis of Stage IIB and IIC (pathological or clinical), III, or IV cutaneous melanoma per the American Joint Committee on Cancer (AJCC) eighth edition guidelines.\\n\\nWhat is an exclusion criteria for this clinical trial?\\nA participant is excluded if they have a history of (noninfectious) pneumonitis/interstitial lung disease that required steroid', 'index': 0, 'logprobs': None, 'finish_reason': 'length'}], 'usage': {'prompt_tokens': 610, 'completion_tokens': 128, 'total_tokens': 738}}\n"
     ]
    },
    {
     "name": "stderr",
     "output_type": "stream",
     "text": [
      "\n",
      "llama_print_timings:        load time =  327321.64 ms\n",
      "llama_print_timings:      sample time =      46.57 ms /   128 runs   (    0.36 ms per token,  2748.37 tokens per second)\n",
      "llama_print_timings: prompt eval time =  398642.91 ms /   606 tokens (  657.83 ms per token,     1.52 tokens per second)\n",
      "llama_print_timings:        eval time =  168266.68 ms /   127 runs   ( 1324.93 ms per token,     0.75 tokens per second)\n",
      "llama_print_timings:       total time =  567250.23 ms\n"
     ]
    }
   ],
   "source": [
    "# Reducing number of questions\n",
    "output = llm(f\"Generate 3 pairs of question and answer based on the following context: {input}. \\n\\nRespond in plain text on a new line for each question and answer. Do not include question numbers.\", \n",
    "             #max_tokens=2048, \n",
    "             #stop=[\"Q:\", \"\\n\"], \n",
    "             echo=True)\n",
    "print(output)"
   ]
  },
  {
   "cell_type": "code",
   "execution_count": 30,
   "metadata": {},
   "outputs": [
    {
     "name": "stdout",
     "output_type": "stream",
     "text": [
      "Generate 3 pairs of question and answer based on the following context: Inclusion Criteria: - Has surgically resected and histologically or pathologically confirmed diagnosis of Stage IIB and IIC (pathological or clinical), III, or IV cutaneous melanoma per the American Joint Committee on Cancer (AJCC) eighth edition guidelines -Has not received any prior systemic therapy for melanoma beyond surgical resection - Has had no more than 12 weeks between final surgical resection and randomization - Human immunodeficiency virus (HIV)-infected participants must have well controlled HIV on anti-retroviral therapy (ART) - Participants who are hepatitis B surface antigen (HBsAg) positive are eligible if they have received hepatitis B virus (HBV) antiviral therapy for at least 4 weeks and have undetectable HBV viral load before randomization - Participants with history of hepatitis C virus (HCV) infection are eligible if HCV viral load is undetectable at screening. Exclusion Criteria: - Has ocular, mucosal, or conjunctival melanoma - Has a diagnosis of immunodeficiency or is receiving chronic systemic steroid therapy (in dosing exceeding 10 mg daily of prednisone equivalent) or any other form of immunosuppressive therapy within 7 days prior the first dose of study medication - Has not adequately recovered from major surgical procedure or has ongoing surgical complications - Has received prior radiotherapy within 2 weeks of start of study intervention or has had a history of radiation pneumonitis - Received a live or live attenuated vaccine within 30 days before the first dose of study intervention. Administration of killed vaccines is allowed - Has received an investigational agent or has used an investigational device within 4 weeks before study intervention administration - Has a history of (noninfectious) pneumonitis/interstitial lung disease that required steroids or has current pneumonitis/interstitial lung disease - Has a known additional malignancy that is progressing or has required active treatment within the past 3 years - Has known active central nervous system (CNS) metastases and/or carcinomatous meningitis - Has an active autoimmune disease that has required systemic treatment in past 2 years - Has an active infection requiring systemic therapy - Has had an allogenic tissue/solid organ transplant. \n",
      "\n",
      "Respond in plain text on a new line for each question and answer. Do not include question numbers.\n",
      "\n",
      "What is the primary inclusion criteria for this clinical trial?\n",
      "A participant must have a surgically resected and histologically or pathologically confirmed diagnosis of Stage IIB and IIC (pathological or clinical), III, or IV cutaneous melanoma per the American Joint Committee on Cancer (AJCC) eighth edition guidelines.\n",
      "\n",
      "What is an exclusion criteria for this clinical trial?\n",
      "A participant is excluded if they have a history of (noninfectious) pneumonitis/interstitial lung disease that required steroid\n"
     ]
    }
   ],
   "source": [
    "print(output['choices'][0]['text'])"
   ]
  },
  {
   "cell_type": "code",
   "execution_count": 1,
   "metadata": {},
   "outputs": [],
   "source": [
    "### Trial 5"
   ]
  },
  {
   "cell_type": "code",
   "execution_count": 5,
   "metadata": {},
   "outputs": [],
   "source": [
    "# increasing n_ctx by 50%\n",
    "llm = Llama(model_path=\"../localGPT/models/models--TheBloke--Llama-2-70B-Chat-GGUF/snapshots/6657b410331f892e2ea27eb435ef53aeefeedfd6/llama-2-70b-chat.Q4_K_M.gguf\",\n",
    "            n_ctx=3072,\n",
    "            n_gpu_layers=400, \n",
    "            main_gpu=1)"
   ]
  },
  {
   "cell_type": "code",
   "execution_count": 7,
   "metadata": {},
   "outputs": [],
   "source": [
    "in_cr = \"Has surgically resected and histologically or pathologically confirmed diagnosis of Stage IIB and IIC (pathological or clinical), III, or IV cutaneous melanoma per the American Joint Committee on Cancer (AJCC) eighth edition guidelines -Has not received any prior systemic therapy for melanoma beyond surgical resection - Has had no more than 12 weeks between final surgical resection and randomization - Human immunodeficiency virus (HIV)-infected participants must have well controlled HIV on anti-retroviral therapy (ART) - Participants who are hepatitis B surface antigen (HBsAg) positive are eligible if they have received hepatitis B virus (HBV) antiviral therapy for at least 4 weeks and have undetectable HBV viral load before randomization - Participants with history of hepatitis C virus (HCV) infection are eligible if HCV viral load is undetectable at screening.\"\n",
    "ex_cr = \"Has ocular, mucosal, or conjunctival melanoma - Has a diagnosis of immunodeficiency or is receiving chronic systemic steroid therapy (in dosing exceeding 10 mg daily of prednisone equivalent) or any other form of immunosuppressive therapy within 7 days prior the first dose of study medication - Has not adequately recovered from major surgical procedure or has ongoing surgical complications - Has received prior radiotherapy within 2 weeks of start of study intervention or has had a history of radiation pneumonitis - Received a live or live attenuated vaccine within 30 days before the first dose of study intervention. Administration of killed vaccines is allowed - Has received an investigational agent or has used an investigational device within 4 weeks before study intervention administration - Has a history of (noninfectious) pneumonitis/interstitial lung disease that required steroids or has current pneumonitis/interstitial lung disease - Has a known additional malignancy that is progressing or has required active treatment within the past 3 years - Has known active central nervous system (CNS) metastases and/or carcinomatous meningitis - Has an active autoimmune disease that has required systemic treatment in past 2 years - Has an active infection requiring systemic therapy - Has had an allogenic tissue/solid organ transplant\"\n",
    "request = \"Provide 2 question and answer pairs based on the text above. The question must begin with \\\"In context of ...\\\" The answer should borrow verbatim from the text above. In providing each question, consider that the reader does not see or have access to any of the other questions for context. Vary the style and format of questions. Respond in plain text on a new line for each question and answer. Do not include question numbers. Here is an example of two question and answer pairs: \"\n",
    "\n",
    "example_response = \"In the context of description and eligibility of a clinical trial, can patients with history of hepatitis C virus (HCV) infection participate?\\nYes, as per the inclusion criteria, the participants with history of hepatitis C virus (HCV) infection are eligible if HCV viral load is undetectable at screening.\\n\\nIn the context of description and eligibility of a clinical trial, can patients with ocular, mucosal, or conjunctival melanoma participate?\\nNo, as per the xclusion criteria if the patient has ocular, mucosal, or conjunctival melanoma, then they would not be eligible.\""
   ]
  },
  {
   "cell_type": "code",
   "execution_count": 10,
   "metadata": {},
   "outputs": [],
   "source": [
    "def prompt_generation(in_cr, ex_cr, example_response):\n",
    "    return f\"\"\"\n",
    "    **Task Prompt:**\n",
    "    You are a virtual assistant designed to generate specific question and answers based on eligibility criteria for clinical trials provided below. Given a set of inclusion and exclusion criteria for a clinical trial, generate 3 pairs of specific question-and-answer about eligibility.\n",
    "\n",
    "    **Example Input:**\n",
    "    Inclusion Criteria:\n",
    "    - {in_cr}\n",
    "    Exclusion Criteria:\n",
    "    - {ex_cr}\n",
    "\n",
    "    **Example Questions:**\n",
    "    {example_response}\n",
    "\n",
    "    **Additional Instructions:**\n",
    "    - Provide specific and clear questions-answer pairs.\n",
    "    - Include verbatim text in the answers as much as possible.\n",
    "    \"\"\""
   ]
  },
  {
   "cell_type": "code",
   "execution_count": 11,
   "metadata": {},
   "outputs": [
    {
     "name": "stdout",
     "output_type": "stream",
     "text": [
      "{'id': 'cmpl-990b0cf1-6993-47cb-8f20-c559af111a24', 'object': 'text_completion', 'created': 1700956531, 'model': '../localGPT/models/models--TheBloke--Llama-2-70B-Chat-GGUF/snapshots/6657b410331f892e2ea27eb435ef53aeefeedfd6/llama-2-70b-chat.Q4_K_M.gguf', 'choices': [{'text': '\\n    **Task Prompt:**\\n    You are a virtual assistant designed to generate specific question and answers based on eligibility criteria for clinical trials provided below. Given a set of inclusion and exclusion criteria for a clinical trial, generate 3 pairs of specific question-and-answer about eligibility.\\n\\n    **Example Input:**\\n    Inclusion Criteria:\\n    - Has surgically resected and histologically or pathologically confirmed diagnosis of Stage IIB and IIC (pathological or clinical), III, or IV cutaneous melanoma per the American Joint Committee on Cancer (AJCC) eighth edition guidelines -Has not received any prior systemic therapy for melanoma beyond surgical resection - Has had no more than 12 weeks between final surgical resection and randomization - Human immunodeficiency virus (HIV)-infected participants must have well controlled HIV on anti-retroviral therapy (ART) - Participants who are hepatitis B surface antigen (HBsAg) positive are eligible if they have received hepatitis B virus (HBV) antiviral therapy for at least 4 weeks and have undetectable HBV viral load before randomization - Participants with history of hepatitis C virus (HCV) infection are eligible if HCV viral load is undetectable at screening.\\n    Exclusion Criteria:\\n    - Has ocular, mucosal, or conjunctival melanoma - Has a diagnosis of immunodeficiency or is receiving chronic systemic steroid therapy (in dosing exceeding 10 mg daily of prednisone equivalent) or any other form of immunosuppressive therapy within 7 days prior the first dose of study medication - Has not adequately recovered from major surgical procedure or has ongoing surgical complications - Has received prior radiotherapy within 2 weeks of start of study intervention or has had a history of radiation pneumonitis - Received a live or live attenuated vaccine within 30 days before the first dose of study intervention. Administration of killed vaccines is allowed - Has received an investigational agent or has used an investigational device within 4 weeks before study intervention administration - Has a history of (noninfectious) pneumonitis/interstitial lung disease that required steroids or has current pneumonitis/interstitial lung disease - Has a known additional malignancy that is progressing or has required active treatment within the past 3 years - Has known active central nervous system (CNS) metastases and/or carcinomatous meningitis - Has an active autoimmune disease that has required systemic treatment in past 2 years - Has an active infection requiring systemic therapy - Has had an allogenic tissue/solid organ transplant\\n\\n    **Example Questions:**\\n    In the context of description and eligibility of a clinical trial, can patients with history of hepatitis C virus (HCV) infection participate?\\nYes, as per the inclusion criteria, the participants with history of hepatitis C virus (HCV) infection are eligible if HCV viral load is undetectable at screening.\\n\\nIn the context of description and eligibility of a clinical trial, can patients with ocular, mucosal, or conjunctival melanoma participate?\\nNo, as per the xclusion criteria if the patient has ocular, mucosal, or conjunctival melanoma, then they would not be eligible.\\n\\n    **Additional Instructions:**\\n    - Provide specific and clear questions-answer pairs.\\n    - Include verbatim text in the answers as much as possible.\\n    ', 'index': 0, 'logprobs': None, 'finish_reason': 'stop'}], 'usage': {'prompt_tokens': 861, 'completion_tokens': 0, 'total_tokens': 861}}\n"
     ]
    },
    {
     "name": "stderr",
     "output_type": "stream",
     "text": [
      "\n",
      "llama_print_timings:        load time =  294025.19 ms\n",
      "llama_print_timings:      sample time =       0.34 ms /     1 runs   (    0.34 ms per token,  2941.18 tokens per second)\n",
      "llama_print_timings: prompt eval time =  493200.08 ms /   861 tokens (  572.82 ms per token,     1.75 tokens per second)\n",
      "llama_print_timings:        eval time =       0.00 ms /     1 runs   (    0.00 ms per token,      inf tokens per second)\n",
      "llama_print_timings:       total time =  493205.33 ms\n"
     ]
    }
   ],
   "source": [
    "# Reducing number of questions\n",
    "output = llm(prompt_generation(in_cr,ex_cr, example_response), \n",
    "             #max_tokens=2048, \n",
    "             #stop=[\"Q:\", \"\\n\"], \n",
    "             echo=True)\n",
    "print(output)"
   ]
  },
  {
   "cell_type": "code",
   "execution_count": 12,
   "metadata": {},
   "outputs": [
    {
     "name": "stdout",
     "output_type": "stream",
     "text": [
      "\n",
      "    **Task Prompt:**\n",
      "    You are a virtual assistant designed to generate specific question and answers based on eligibility criteria for clinical trials provided below. Given a set of inclusion and exclusion criteria for a clinical trial, generate 3 pairs of specific question-and-answer about eligibility.\n",
      "\n",
      "    **Example Input:**\n",
      "    Inclusion Criteria:\n",
      "    - Has surgically resected and histologically or pathologically confirmed diagnosis of Stage IIB and IIC (pathological or clinical), III, or IV cutaneous melanoma per the American Joint Committee on Cancer (AJCC) eighth edition guidelines -Has not received any prior systemic therapy for melanoma beyond surgical resection - Has had no more than 12 weeks between final surgical resection and randomization - Human immunodeficiency virus (HIV)-infected participants must have well controlled HIV on anti-retroviral therapy (ART) - Participants who are hepatitis B surface antigen (HBsAg) positive are eligible if they have received hepatitis B virus (HBV) antiviral therapy for at least 4 weeks and have undetectable HBV viral load before randomization - Participants with history of hepatitis C virus (HCV) infection are eligible if HCV viral load is undetectable at screening.\n",
      "    Exclusion Criteria:\n",
      "    - Has ocular, mucosal, or conjunctival melanoma - Has a diagnosis of immunodeficiency or is receiving chronic systemic steroid therapy (in dosing exceeding 10 mg daily of prednisone equivalent) or any other form of immunosuppressive therapy within 7 days prior the first dose of study medication - Has not adequately recovered from major surgical procedure or has ongoing surgical complications - Has received prior radiotherapy within 2 weeks of start of study intervention or has had a history of radiation pneumonitis - Received a live or live attenuated vaccine within 30 days before the first dose of study intervention. Administration of killed vaccines is allowed - Has received an investigational agent or has used an investigational device within 4 weeks before study intervention administration - Has a history of (noninfectious) pneumonitis/interstitial lung disease that required steroids or has current pneumonitis/interstitial lung disease - Has a known additional malignancy that is progressing or has required active treatment within the past 3 years - Has known active central nervous system (CNS) metastases and/or carcinomatous meningitis - Has an active autoimmune disease that has required systemic treatment in past 2 years - Has an active infection requiring systemic therapy - Has had an allogenic tissue/solid organ transplant\n",
      "\n",
      "    **Example Questions:**\n",
      "    In the context of description and eligibility of a clinical trial, can patients with history of hepatitis C virus (HCV) infection participate?\n",
      "Yes, as per the inclusion criteria, the participants with history of hepatitis C virus (HCV) infection are eligible if HCV viral load is undetectable at screening.\n",
      "\n",
      "In the context of description and eligibility of a clinical trial, can patients with ocular, mucosal, or conjunctival melanoma participate?\n",
      "No, as per the xclusion criteria if the patient has ocular, mucosal, or conjunctival melanoma, then they would not be eligible.\n",
      "\n",
      "    **Additional Instructions:**\n",
      "    - Provide specific and clear questions-answer pairs.\n",
      "    - Include verbatim text in the answers as much as possible.\n",
      "    \n"
     ]
    }
   ],
   "source": [
    "print(output['choices'][0]['text'])"
   ]
  },
  {
   "cell_type": "code",
   "execution_count": null,
   "metadata": {},
   "outputs": [],
   "source": []
  }
 ],
 "metadata": {
  "kernelspec": {
   "display_name": "Python 3",
   "language": "python",
   "name": "python3"
  },
  "language_info": {
   "codemirror_mode": {
    "name": "ipython",
    "version": 3
   },
   "file_extension": ".py",
   "mimetype": "text/x-python",
   "name": "python",
   "nbconvert_exporter": "python",
   "pygments_lexer": "ipython3",
   "version": "3.9.18"
  }
 },
 "nbformat": 4,
 "nbformat_minor": 5
}
