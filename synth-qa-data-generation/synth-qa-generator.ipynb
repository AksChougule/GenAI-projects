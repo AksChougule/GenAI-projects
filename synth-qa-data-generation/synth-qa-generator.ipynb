{
 "cells": [
  {
   "cell_type": "markdown",
   "metadata": {},
   "source": [
    "Author: Akshay Chougule\n",
    "\n",
    "Created On: Nov 26, 2023\n",
    "\n",
    "Description: Using LlaMA2 to create question-answer data based on eligibility criteria of clinical trials (inclusion and exclusion)"
   ]
  },
  {
   "cell_type": "code",
   "execution_count": 4,
   "metadata": {},
   "outputs": [],
   "source": [
    "from llama_cpp import Llama"
   ]
  },
  {
   "cell_type": "markdown",
   "metadata": {},
   "source": [
    "### Trial 1"
   ]
  },
  {
   "cell_type": "code",
   "execution_count": 1,
   "id": "83690427-4d39-4a04-8b37-b153105cc40c",
   "metadata": {},
   "outputs": [],
   "source": [
    "llm = Llama(model_path=\"../localGPT/models/models--TheBloke--Llama-2-70B-Chat-GGUF/snapshots/6657b410331f892e2ea27eb435ef53aeefeedfd6/llama-2-70b-chat.Q4_K_M.gguf\",\n",
    "            n_ctx=2048)\n"
   ]
  },
  {
   "cell_type": "markdown",
   "metadata": {},
   "source": [
    "It took 21 seconds to lead the 70B quantized model. Now let's see if we can use it for synthetic data generation."
   ]
  },
  {
   "cell_type": "code",
   "execution_count": 5,
   "metadata": {},
   "outputs": [],
   "source": [
    "input = \"Inclusion Criteria: - Has surgically resected and histologically or pathologically confirmed diagnosis of Stage IIB and IIC (pathological or clinical), III, or IV cutaneous melanoma per the American Joint Committee on Cancer (AJCC) eighth edition guidelines -Has not received any prior systemic therapy for melanoma beyond surgical resection - Has had no more than 12 weeks between final surgical resection and randomization - Human immunodeficiency virus (HIV)-infected participants must have well controlled HIV on anti-retroviral therapy (ART) - Participants who are hepatitis B surface antigen (HBsAg) positive are eligible if they have received hepatitis B virus (HBV) antiviral therapy for at least 4 weeks and have undetectable HBV viral load before randomization - Participants with history of hepatitis C virus (HCV) infection are eligible if HCV viral load is undetectable at screening. Exclusion Criteria: - Has ocular, mucosal, or conjunctival melanoma - Has a diagnosis of immunodeficiency or is receiving chronic systemic steroid therapy (in dosing exceeding 10 mg daily of prednisone equivalent) or any other form of immunosuppressive therapy within 7 days prior the first dose of study medication - Has not adequately recovered from major surgical procedure or has ongoing surgical complications - Has received prior radiotherapy within 2 weeks of start of study intervention or has had a history of radiation pneumonitis - Received a live or live attenuated vaccine within 30 days before the first dose of study intervention. Administration of killed vaccines is allowed - Has received an investigational agent or has used an investigational device within 4 weeks before study intervention administration - Has a history of (noninfectious) pneumonitis/interstitial lung disease that required steroids or has current pneumonitis/interstitial lung disease - Has a known additional malignancy that is progressing or has required active treatment within the past 3 years - Has known active central nervous system (CNS) metastases and/or carcinomatous meningitis - Has an active autoimmune disease that has required systemic treatment in past 2 years - Has an active infection requiring systemic therapy - Has had an allogenic tissue/solid organ transplant\"\n",
    "\n",
    "context = \"content: Description and eligibility criteria of a clinical trial\"\n",
    "\n",
    "request = \"Provide 2 question and answer pairs based on the text above. The question must begin with \\\"In context of ...\\\" The answer should borrow verbatim from the text above. In providing each question, consider that the reader does not see or have access to any of the other questions for context. Vary the style and format of questions. Respond in plain text on a new line for each question and answer. Do not include question numbers. Here is an example of two question and answer pairs: \"\n",
    "\n",
    "example_response = \"In the context of description and eligibility of a clinical trial, can patients with history of hepatitis C virus (HCV) infection participate?\\nYes, as per the inclusion criteria, the participants with history of hepatitis C virus (HCV) infection are eligible if HCV viral load is undetectable at screening.\\n\\nIn the context of description and eligibility of a clinical trial, can patients with ocular, mucosal, or conjunctival melanoma participate?\\nNo, as per the xclusion criteria if the patient has ocular, mucosal, or conjunctival melanoma, then they would not be eligible.\""
   ]
  },
  {
   "cell_type": "code",
   "execution_count": 10,
   "metadata": {},
   "outputs": [
    {
     "name": "stdout",
     "output_type": "stream",
     "text": [
      "Help on Llama in module llama_cpp.llama object:\n",
      "\n",
      "class Llama(builtins.object)\n",
      " |  Llama(model_path: str, *, n_gpu_layers: int = 0, main_gpu: int = 0, tensor_split: Optional[List[float]] = None, vocab_only: bool = False, use_mmap: bool = True, use_mlock: bool = False, seed: int = 4294967295, n_ctx: int = 512, n_batch: int = 512, n_threads: Optional[int] = None, n_threads_batch: Optional[int] = None, rope_scaling_type: Optional[int] = -1, rope_freq_base: float = 0.0, rope_freq_scale: float = 0.0, yarn_ext_factor: float = -1.0, yarn_attn_factor: float = 1.0, yarn_beta_fast: float = 32.0, yarn_beta_slow: float = 1.0, yarn_orig_ctx: int = 0, mul_mat_q: bool = True, f16_kv: bool = True, logits_all: bool = False, embedding: bool = False, last_n_tokens_size: int = 64, lora_base: Optional[str] = None, lora_scale: float = 1.0, lora_path: Optional[str] = None, numa: bool = False, chat_format: str = 'llama-2', chat_handler: Optional[llama_cpp.llama_chat_format.LlamaChatCompletionHandler] = None, verbose: bool = True, **kwargs)\n",
      " |  \n",
      " |  High-level Python wrapper for a llama.cpp model.\n",
      " |  \n",
      " |  Methods defined here:\n",
      " |  \n",
      " |  __call__(self, prompt: str, suffix: Optional[str] = None, max_tokens: int = 128, temperature: float = 0.8, top_p: float = 0.95, logprobs: Optional[int] = None, echo: bool = False, stop: Union[str, List[str], NoneType] = [], frequency_penalty: float = 0.0, presence_penalty: float = 0.0, repeat_penalty: float = 1.1, top_k: int = 40, stream: bool = False, seed: Optional[int] = None, tfs_z: float = 1.0, mirostat_mode: int = 0, mirostat_tau: float = 5.0, mirostat_eta: float = 0.1, model: Optional[str] = None, stopping_criteria: Optional[llama_cpp.llama.StoppingCriteriaList] = None, logits_processor: Optional[llama_cpp.llama.LogitsProcessorList] = None, grammar: Optional[llama_cpp.llama_grammar.LlamaGrammar] = None) -> Union[llama_cpp.llama_types.CreateCompletionResponse, Iterator[llama_cpp.llama_types.CreateCompletionResponse]]\n",
      " |      Generate text from a prompt.\n",
      " |      \n",
      " |      Args:\n",
      " |          prompt: The prompt to generate text from.\n",
      " |          suffix: A suffix to append to the generated text. If None, no suffix is appended.\n",
      " |          max_tokens: The maximum number of tokens to generate. If max_tokens <= 0, the maximum number of tokens to generate is unlimited and depends on n_ctx.\n",
      " |          temperature: The temperature to use for sampling.\n",
      " |          top_p: The top-p value to use for sampling.\n",
      " |          logprobs: The number of logprobs to return. If None, no logprobs are returned.\n",
      " |          echo: Whether to echo the prompt.\n",
      " |          stop: A list of strings to stop generation when encountered.\n",
      " |          repeat_penalty: The penalty to apply to repeated tokens.\n",
      " |          top_k: The top-k value to use for sampling.\n",
      " |          stream: Whether to stream the results.\n",
      " |      \n",
      " |      Raises:\n",
      " |          ValueError: If the requested tokens exceed the context window.\n",
      " |          RuntimeError: If the prompt fails to tokenize or the model fails to evaluate the prompt.\n",
      " |      \n",
      " |      Returns:\n",
      " |          Response object containing the generated text.\n",
      " |  \n",
      " |  __getstate__(self)\n",
      " |  \n",
      " |  __init__(self, model_path: str, *, n_gpu_layers: int = 0, main_gpu: int = 0, tensor_split: Optional[List[float]] = None, vocab_only: bool = False, use_mmap: bool = True, use_mlock: bool = False, seed: int = 4294967295, n_ctx: int = 512, n_batch: int = 512, n_threads: Optional[int] = None, n_threads_batch: Optional[int] = None, rope_scaling_type: Optional[int] = -1, rope_freq_base: float = 0.0, rope_freq_scale: float = 0.0, yarn_ext_factor: float = -1.0, yarn_attn_factor: float = 1.0, yarn_beta_fast: float = 32.0, yarn_beta_slow: float = 1.0, yarn_orig_ctx: int = 0, mul_mat_q: bool = True, f16_kv: bool = True, logits_all: bool = False, embedding: bool = False, last_n_tokens_size: int = 64, lora_base: Optional[str] = None, lora_scale: float = 1.0, lora_path: Optional[str] = None, numa: bool = False, chat_format: str = 'llama-2', chat_handler: Optional[llama_cpp.llama_chat_format.LlamaChatCompletionHandler] = None, verbose: bool = True, **kwargs)\n",
      " |      Load a llama.cpp model from `model_path`.\n",
      " |      \n",
      " |      Args:\n",
      " |          model_path: Path to the model.\n",
      " |          n_gpu_layers: Number of layers to offload to GPU (-ngl). If -1, all layers are offloaded.\n",
      " |          main_gpu: The GPU that is used for scratch and small tensors.\n",
      " |          tensor_split: How split tensors should be distributed across GPUs. If None, the model is not split.\n",
      " |          vocab_only: Only load the vocabulary no weights.\n",
      " |          use_mmap: Use mmap if possible.\n",
      " |          use_mlock: Force the system to keep the model in RAM.\n",
      " |          seed: Random seed. -1 for random.\n",
      " |          n_ctx: Context size.\n",
      " |          n_batch: Batch size for prompt processing (must be >= 32 to use BLAS)\n",
      " |          n_threads: Number of threads to use. If None, the number of threads is automatically determined.\n",
      " |          n_threads_batch: Number of threads to use for batch processing. If None, use n_threads.\n",
      " |          rope_scaling_type: Type of rope scaling to use.\n",
      " |          rope_freq_base: Base frequency for rope sampling.\n",
      " |          rope_freq_scale: Scale factor for rope sampling.\n",
      " |          mul_mat_q: if true, use experimental mul_mat_q kernels\n",
      " |          f16_kv: Use half-precision for key/value cache.\n",
      " |          logits_all: Return logits for all tokens, not just the last token.\n",
      " |          embedding: Embedding mode only.\n",
      " |          last_n_tokens_size: Maximum number of tokens to keep in the last_n_tokens deque.\n",
      " |          lora_base: Optional path to base model, useful if using a quantized base model and you want to apply LoRA to an f16 model.\n",
      " |          lora_path: Path to a LoRA file to apply to the model.\n",
      " |          numa: Enable NUMA support. (NOTE: The initial value of this parameter is used for the remainder of the program as this value is set in llama_backend_init)\n",
      " |          chat_format: String specifying the chat format to use when calling create_chat_completion.\n",
      " |          chat_handler: Optional chat handler to use when calling create_chat_completion.\n",
      " |          verbose: Print verbose output to stderr.\n",
      " |      \n",
      " |      Raises:\n",
      " |          ValueError: If the model path does not exist.\n",
      " |      \n",
      " |      Returns:\n",
      " |          A Llama instance.\n",
      " |  \n",
      " |  __setstate__(self, state)\n",
      " |  \n",
      " |  create_chat_completion(self, messages: List[Union[llama_cpp.llama_types.ChatCompletionRequestSystemMessage, llama_cpp.llama_types.ChatCompletionRequestUserMessage, llama_cpp.llama_types.ChatCompletionRequestAssistantMessage, llama_cpp.llama_types.ChatCompletionRequestToolMessage, llama_cpp.llama_types.ChatCompletionRequestFunctionMessage]], functions: Optional[List[llama_cpp.llama_types.ChatCompletionFunction]] = None, function_call: Union[typing_extensions.Literal['none', 'auto'], llama_cpp.llama_types.ChatCompletionRequestFunctionCallOption, NoneType] = None, tools: Optional[List[llama_cpp.llama_types.ChatCompletionTool]] = None, tool_choice: Union[typing_extensions.Literal['none', 'auto'], llama_cpp.llama_types.ChatCompletionNamedToolChoice, NoneType] = None, temperature: float = 0.2, top_p: float = 0.95, top_k: int = 40, stream: bool = False, stop: Union[str, List[str], NoneType] = [], seed: Optional[int] = None, response_format: Optional[llama_cpp.llama_types.ChatCompletionRequestResponseFormat] = None, max_tokens: Optional[int] = None, presence_penalty: float = 0.0, frequency_penalty: float = 0.0, repeat_penalty: float = 1.1, tfs_z: float = 1.0, mirostat_mode: int = 0, mirostat_tau: float = 5.0, mirostat_eta: float = 0.1, model: Optional[str] = None, logits_processor: Optional[llama_cpp.llama.LogitsProcessorList] = None, grammar: Optional[llama_cpp.llama_grammar.LlamaGrammar] = None) -> Union[llama_cpp.llama_types.CreateChatCompletionResponse, Iterator[llama_cpp.llama_types.CreateChatCompletionStreamResponse]]\n",
      " |      Generate a chat completion from a list of messages.\n",
      " |      \n",
      " |      Args:\n",
      " |          messages: A list of messages to generate a response for.\n",
      " |          temperature: The temperature to use for sampling.\n",
      " |          top_p: The top-p value to use for sampling.\n",
      " |          top_k: The top-k value to use for sampling.\n",
      " |          stream: Whether to stream the results.\n",
      " |          stop: A list of strings to stop generation when encountered.\n",
      " |          max_tokens: The maximum number of tokens to generate. If max_tokens <= 0 or None, the maximum number of tokens to generate is unlimited and depends on n_ctx.\n",
      " |          repeat_penalty: The penalty to apply to repeated tokens.\n",
      " |      \n",
      " |      Returns:\n",
      " |          Generated chat completion or a stream of chat completion chunks.\n",
      " |  \n",
      " |  create_completion(self, prompt: Union[str, List[int]], suffix: Optional[str] = None, max_tokens: Optional[int] = 16, temperature: float = 0.8, top_p: float = 0.95, logprobs: Optional[int] = None, echo: bool = False, stop: Union[str, List[str], NoneType] = [], frequency_penalty: float = 0.0, presence_penalty: float = 0.0, repeat_penalty: float = 1.1, top_k: int = 40, stream: bool = False, seed: Optional[int] = None, tfs_z: float = 1.0, mirostat_mode: int = 0, mirostat_tau: float = 5.0, mirostat_eta: float = 0.1, model: Optional[str] = None, stopping_criteria: Optional[llama_cpp.llama.StoppingCriteriaList] = None, logits_processor: Optional[llama_cpp.llama.LogitsProcessorList] = None, grammar: Optional[llama_cpp.llama_grammar.LlamaGrammar] = None) -> Union[llama_cpp.llama_types.CreateCompletionResponse, Iterator[llama_cpp.llama_types.CreateCompletionResponse]]\n",
      " |      Generate text from a prompt.\n",
      " |      \n",
      " |      Args:\n",
      " |          prompt: The prompt to generate text from.\n",
      " |          suffix: A suffix to append to the generated text. If None, no suffix is appended.\n",
      " |          max_tokens: The maximum number of tokens to generate. If max_tokens <= 0 or None, the maximum number of tokens to generate is unlimited and depends on n_ctx.\n",
      " |          temperature: The temperature to use for sampling.\n",
      " |          top_p: The top-p value to use for sampling.\n",
      " |          logprobs: The number of logprobs to return. If None, no logprobs are returned.\n",
      " |          echo: Whether to echo the prompt.\n",
      " |          stop: A list of strings to stop generation when encountered.\n",
      " |          repeat_penalty: The penalty to apply to repeated tokens.\n",
      " |          top_k: The top-k value to use for sampling.\n",
      " |          stream: Whether to stream the results.\n",
      " |      \n",
      " |      Raises:\n",
      " |          ValueError: If the requested tokens exceed the context window.\n",
      " |          RuntimeError: If the prompt fails to tokenize or the model fails to evaluate the prompt.\n",
      " |      \n",
      " |      Returns:\n",
      " |          Response object containing the generated text.\n",
      " |  \n",
      " |  create_embedding(self, input: Union[str, List[str]], model: Optional[str] = None) -> llama_cpp.llama_types.CreateEmbeddingResponse\n",
      " |      Embed a string.\n",
      " |      \n",
      " |      Args:\n",
      " |          input: The utf-8 encoded string to embed.\n",
      " |      \n",
      " |      Returns:\n",
      " |          An embedding object.\n",
      " |  \n",
      " |  detokenize(self, tokens: List[int]) -> bytes\n",
      " |      Detokenize a list of tokens.\n",
      " |      \n",
      " |      Args:\n",
      " |          tokens: The list of tokens to detokenize.\n",
      " |      \n",
      " |      Returns:\n",
      " |          The detokenized string.\n",
      " |  \n",
      " |  embed(self, input: str) -> List[float]\n",
      " |      Embed a string.\n",
      " |      \n",
      " |      Args:\n",
      " |          input: The utf-8 encoded string to embed.\n",
      " |      \n",
      " |      Returns:\n",
      " |          A list of embeddings\n",
      " |  \n",
      " |  eval(self, tokens: Sequence[int])\n",
      " |      Evaluate a list of tokens.\n",
      " |      \n",
      " |      Args:\n",
      " |          tokens: The list of tokens to evaluate.\n",
      " |  \n",
      " |  generate(self, tokens: Sequence[int], top_k: int = 40, top_p: float = 0.95, temp: float = 0.8, repeat_penalty: float = 1.1, reset: bool = True, frequency_penalty: float = 0.0, presence_penalty: float = 0.0, tfs_z: float = 1.0, mirostat_mode: int = 0, mirostat_tau: float = 5.0, mirostat_eta: float = 0.1, logits_processor: Optional[llama_cpp.llama.LogitsProcessorList] = None, stopping_criteria: Optional[llama_cpp.llama.StoppingCriteriaList] = None, grammar: Optional[llama_cpp.llama_grammar.LlamaGrammar] = None) -> Generator[int, Optional[Sequence[int]], NoneType]\n",
      " |      Create a generator of tokens from a prompt.\n",
      " |      \n",
      " |      Examples:\n",
      " |          >>> llama = Llama(\"models/ggml-7b.bin\")\n",
      " |          >>> tokens = llama.tokenize(b\"Hello, world!\")\n",
      " |          >>> for token in llama.generate(tokens, top_k=40, top_p=0.95, temp=1.0, repeat_penalty=1.1):\n",
      " |          ...     print(llama.detokenize([token]))\n",
      " |      \n",
      " |      Args:\n",
      " |          tokens: The prompt tokens.\n",
      " |          top_k: The top-k sampling parameter.\n",
      " |          top_p: The top-p sampling parameter.\n",
      " |          temp: The temperature parameter.\n",
      " |          repeat_penalty: The repeat penalty parameter.\n",
      " |          reset: Whether to reset the model state.\n",
      " |      \n",
      " |      Yields:\n",
      " |          The generated tokens.\n",
      " |  \n",
      " |  load_state(self, state: llama_cpp.llama.LlamaState) -> None\n",
      " |  \n",
      " |  n_ctx(self) -> int\n",
      " |      Return the context window size.\n",
      " |  \n",
      " |  n_embd(self) -> int\n",
      " |      Return the embedding size.\n",
      " |  \n",
      " |  n_vocab(self) -> int\n",
      " |      Return the vocabulary size.\n",
      " |  \n",
      " |  reset(self)\n",
      " |      Reset the model state.\n",
      " |  \n",
      " |  sample(self, top_k: int = 40, top_p: float = 0.95, temp: float = 0.8, repeat_penalty: float = 1.1, frequency_penalty: float = 0.0, presence_penalty: float = 0.0, tfs_z: float = 1.0, mirostat_mode: int = 0, mirostat_eta: float = 0.1, mirostat_tau: float = 5.0, penalize_nl: bool = True, logits_processor: Optional[llama_cpp.llama.LogitsProcessorList] = None, grammar: Optional[llama_cpp.llama_grammar.LlamaGrammar] = None)\n",
      " |      Sample a token from the model.\n",
      " |      \n",
      " |      Args:\n",
      " |          top_k: The top-k sampling parameter.\n",
      " |          top_p: The top-p sampling parameter.\n",
      " |          temp: The temperature parameter.\n",
      " |          repeat_penalty: The repeat penalty parameter.\n",
      " |      \n",
      " |      Returns:\n",
      " |          The sampled token.\n",
      " |  \n",
      " |  save_state(self) -> llama_cpp.llama.LlamaState\n",
      " |  \n",
      " |  set_cache(self, cache: Optional[llama_cpp.llama.BaseLlamaCache])\n",
      " |      Set the cache.\n",
      " |      \n",
      " |      Args:\n",
      " |          cache: The cache to set.\n",
      " |  \n",
      " |  set_seed(self, seed: int)\n",
      " |      Set the random seed.\n",
      " |      \n",
      " |      Args:\n",
      " |          seed: The random seed.\n",
      " |  \n",
      " |  token_bos(self) -> int\n",
      " |      Return the beginning-of-sequence token.\n",
      " |  \n",
      " |  token_eos(self) -> int\n",
      " |      Return the end-of-sequence token.\n",
      " |  \n",
      " |  token_nl(self) -> int\n",
      " |      Return the newline token.\n",
      " |  \n",
      " |  tokenize(self, text: bytes, add_bos: bool = True, special: bool = False) -> List[int]\n",
      " |      Tokenize a string.\n",
      " |      \n",
      " |      Args:\n",
      " |          text: The utf-8 encoded string to tokenize.\n",
      " |      \n",
      " |      Raises:\n",
      " |          RuntimeError: If the tokenization failed.\n",
      " |      \n",
      " |      Returns:\n",
      " |          A list of tokens.\n",
      " |  \n",
      " |  tokenizer(self) -> 'LlamaTokenizer'\n",
      " |      Return the tokenizer for this model.\n",
      " |  \n",
      " |  ----------------------------------------------------------------------\n",
      " |  Static methods defined here:\n",
      " |  \n",
      " |  logits_to_logprobs(logits: List[float]) -> List[float]\n",
      " |  \n",
      " |  longest_token_prefix(a: Sequence[int], b: Sequence[int])\n",
      " |  \n",
      " |  ----------------------------------------------------------------------\n",
      " |  Readonly properties defined here:\n",
      " |  \n",
      " |  ctx\n",
      " |  \n",
      " |  eval_logits\n",
      " |  \n",
      " |  eval_tokens\n",
      " |  \n",
      " |  model\n",
      " |  \n",
      " |  ----------------------------------------------------------------------\n",
      " |  Data descriptors defined here:\n",
      " |  \n",
      " |  __dict__\n",
      " |      dictionary for instance variables (if defined)\n",
      " |  \n",
      " |  __weakref__\n",
      " |      list of weak references to the object (if defined)\n",
      "\n"
     ]
    }
   ],
   "source": [
    "help(llm)"
   ]
  },
  {
   "cell_type": "code",
   "execution_count": 13,
   "metadata": {},
   "outputs": [
    {
     "name": "stdout",
     "output_type": "stream",
     "text": [
      "{'id': 'cmpl-5b356bfa-7680-475a-84d8-18ab76460d96', 'object': 'text_completion', 'created': 1700939183, 'model': '../localGPT/models/models--TheBloke--Llama-2-70B-Chat-GGUF/snapshots/6657b410331f892e2ea27eb435ef53aeefeedfd6/llama-2-70b-chat.Q4_K_M.gguf', 'choices': [{'text': 'Inclusion Criteria: - Has surgically resected and histologically or pathologically confirmed diagnosis of Stage IIB and IIC (pathological or clinical), III, or IV cutaneous melanoma per the American Joint Committee on Cancer (AJCC) eighth edition guidelines -Has not received any prior systemic therapy for melanoma beyond surgical resection - Has had no more than 12 weeks between final surgical resection and randomization - Human immunodeficiency virus (HIV)-infected participants must have well controlled HIV on anti-retroviral therapy (ART) - Participants who are hepatitis B surface antigen (HBsAg) positive are eligible if they have received hepatitis B virus (HBV) antiviral therapy for at least 4 weeks and have undetectable HBV viral load before randomization - Participants with history of hepatitis C virus (HCV) infection are eligible if HCV viral load is undetectable at screening. Exclusion Criteria: - Has ocular, mucosal, or conjunctival melanoma - Has a diagnosis of immunodeficiency or is receiving chronic systemic steroid therapy (in dosing exceeding 10 mg daily of prednisone equivalent) or any other form of immunosuppressive therapy within 7 days prior the first dose of study medication - Has not adequately recovered from major surgical procedure or has ongoing surgical complications - Has received prior radiotherapy within 2 weeks of start of study intervention or has had a history of radiation pneumonitis - Received a live or live attenuated vaccine within 30 days before the first dose of study intervention. Administration of killed vaccines is allowed - Has received an investigational agent or has used an investigational device within 4 weeks before study intervention administration - Has a history of (noninfectious) pneumonitis/interstitial lung disease that required steroids or has current pneumonitis/interstitial lung disease - Has a known additional malignancy that is progressing or has required active treatment within the past 3 years - Has known active central nervous system (CNS) metastases and/or carcinomatous meningitis - Has an active autoimmune disease that has required systemic treatment in past 2 years - Has an active infection requiring systemic therapy - Has had an allogenic tissue/solid organ transplant\\n\\ncontent: Description and eligibility criteria of a clinical trial\\n\\nProvide 2 question and answer pairs based on the text above. The question must begin with \"In context of ...\" The answer should borrow verbatim from the text above. In providing each question, consider that the reader does not see or have access to any of the other questions for context. Vary the style and format of questions. Respond in plain text on a new line for each question and answer. Do not include question numbers. Here is an example of two question and answer pairs: \\nIn the context of description and eligibility of a clinical trial, can patients with history of hepatitis C virus (HCV) infection participate?\\nYes, as per the inclusion criteria, the participants with history of hepatitis C virus (HCV) infection are eligible if HCV viral load is undetectable at screening.\\n\\nIn the context of description and eligibility of a clinical trial, can patients with ocular, mucosal, or conjunctival melanoma participate?\\nNo, as per the xclusion criteria if the patient has ocular, mucosal, or conjunctival melanoma, then they would not be eligible.', 'index': 0, 'logprobs': None, 'finish_reason': 'stop'}], 'usage': {'prompt_tokens': 846, 'completion_tokens': 0, 'total_tokens': 846}}\n"
     ]
    },
    {
     "name": "stderr",
     "output_type": "stream",
     "text": [
      "\n",
      "llama_print_timings:        load time =  322786.68 ms\n",
      "llama_print_timings:      sample time =       0.31 ms /     1 runs   (    0.31 ms per token,  3225.81 tokens per second)\n",
      "llama_print_timings: prompt eval time =  531203.07 ms /   846 tokens (  627.90 ms per token,     1.59 tokens per second)\n",
      "llama_print_timings:        eval time =       0.00 ms /     1 runs   (    0.00 ms per token,      inf tokens per second)\n",
      "llama_print_timings:       total time =  531208.40 ms\n"
     ]
    }
   ],
   "source": [
    "# if you get max token exceeded error then change it in llm object creation code, with n_ctx=higher number \n",
    "output = llm(f\"{input}\\n\\n{context}\\n\\n{request}\\n{example_response}\", \n",
    "             max_tokens=2048, \n",
    "             #stop=[\"Q:\", \"\\n\"], \n",
    "             echo=True)\n",
    "print(output)"
   ]
  },
  {
   "cell_type": "code",
   "execution_count": 14,
   "metadata": {},
   "outputs": [
    {
     "name": "stdout",
     "output_type": "stream",
     "text": [
      "Inclusion Criteria: - Has surgically resected and histologically or pathologically confirmed diagnosis of Stage IIB and IIC (pathological or clinical), III, or IV cutaneous melanoma per the American Joint Committee on Cancer (AJCC) eighth edition guidelines -Has not received any prior systemic therapy for melanoma beyond surgical resection - Has had no more than 12 weeks between final surgical resection and randomization - Human immunodeficiency virus (HIV)-infected participants must have well controlled HIV on anti-retroviral therapy (ART) - Participants who are hepatitis B surface antigen (HBsAg) positive are eligible if they have received hepatitis B virus (HBV) antiviral therapy for at least 4 weeks and have undetectable HBV viral load before randomization - Participants with history of hepatitis C virus (HCV) infection are eligible if HCV viral load is undetectable at screening. Exclusion Criteria: - Has ocular, mucosal, or conjunctival melanoma - Has a diagnosis of immunodeficiency or is receiving chronic systemic steroid therapy (in dosing exceeding 10 mg daily of prednisone equivalent) or any other form of immunosuppressive therapy within 7 days prior the first dose of study medication - Has not adequately recovered from major surgical procedure or has ongoing surgical complications - Has received prior radiotherapy within 2 weeks of start of study intervention or has had a history of radiation pneumonitis - Received a live or live attenuated vaccine within 30 days before the first dose of study intervention. Administration of killed vaccines is allowed - Has received an investigational agent or has used an investigational device within 4 weeks before study intervention administration - Has a history of (noninfectious) pneumonitis/interstitial lung disease that required steroids or has current pneumonitis/interstitial lung disease - Has a known additional malignancy that is progressing or has required active treatment within the past 3 years - Has known active central nervous system (CNS) metastases and/or carcinomatous meningitis - Has an active autoimmune disease that has required systemic treatment in past 2 years - Has an active infection requiring systemic therapy - Has had an allogenic tissue/solid organ transplant\n",
      "\n",
      "content: Description and eligibility criteria of a clinical trial\n",
      "\n",
      "Provide 2 question and answer pairs based on the text above. The question must begin with \"In context of ...\" The answer should borrow verbatim from the text above. In providing each question, consider that the reader does not see or have access to any of the other questions for context. Vary the style and format of questions. Respond in plain text on a new line for each question and answer. Do not include question numbers. Here is an example of two question and answer pairs: \n",
      "In the context of description and eligibility of a clinical trial, can patients with history of hepatitis C virus (HCV) infection participate?\n",
      "Yes, as per the inclusion criteria, the participants with history of hepatitis C virus (HCV) infection are eligible if HCV viral load is undetectable at screening.\n",
      "\n",
      "In the context of description and eligibility of a clinical trial, can patients with ocular, mucosal, or conjunctival melanoma participate?\n",
      "No, as per the xclusion criteria if the patient has ocular, mucosal, or conjunctival melanoma, then they would not be eligible.\n"
     ]
    }
   ],
   "source": [
    "print(output['choices'][0]['text'])"
   ]
  },
  {
   "cell_type": "markdown",
   "metadata": {},
   "source": [
    "### Trial 2"
   ]
  },
  {
   "cell_type": "markdown",
   "metadata": {},
   "source": [
    "We did not recieve any response here, I guess we have to play a little with the prompt here.\n",
    "\n",
    "Also, it took 8 min 52 sec. Let's see if we can use gpu layers to speed up things."
   ]
  },
  {
   "cell_type": "code",
   "execution_count": 2,
   "metadata": {},
   "outputs": [],
   "source": [
    "llm = Llama(model_path=\"../localGPT/models/models--TheBloke--Llama-2-70B-Chat-GGUF/snapshots/6657b410331f892e2ea27eb435ef53aeefeedfd6/llama-2-70b-chat.Q4_K_M.gguf\",\n",
    "            n_ctx=2048,\n",
    "            n_gpu_layers=100, \n",
    "            main_gpu=1)"
   ]
  },
  {
   "cell_type": "code",
   "execution_count": null,
   "metadata": {},
   "outputs": [],
   "source": [
    "input = \"Inclusion Criteria: - Has surgically resected and histologically or pathologically confirmed diagnosis of Stage IIB and IIC (pathological or clinical), III, or IV cutaneous melanoma per the American Joint Committee on Cancer (AJCC) eighth edition guidelines -Has not received any prior systemic therapy for melanoma beyond surgical resection - Has had no more than 12 weeks between final surgical resection and randomization - Human immunodeficiency virus (HIV)-infected participants must have well controlled HIV on anti-retroviral therapy (ART) - Participants who are hepatitis B surface antigen (HBsAg) positive are eligible if they have received hepatitis B virus (HBV) antiviral therapy for at least 4 weeks and have undetectable HBV viral load before randomization - Participants with history of hepatitis C virus (HCV) infection are eligible if HCV viral load is undetectable at screening. Exclusion Criteria: - Has ocular, mucosal, or conjunctival melanoma - Has a diagnosis of immunodeficiency or is receiving chronic systemic steroid therapy (in dosing exceeding 10 mg daily of prednisone equivalent) or any other form of immunosuppressive therapy within 7 days prior the first dose of study medication - Has not adequately recovered from major surgical procedure or has ongoing surgical complications - Has received prior radiotherapy within 2 weeks of start of study intervention or has had a history of radiation pneumonitis - Received a live or live attenuated vaccine within 30 days before the first dose of study intervention. Administration of killed vaccines is allowed - Has received an investigational agent or has used an investigational device within 4 weeks before study intervention administration - Has a history of (noninfectious) pneumonitis/interstitial lung disease that required steroids or has current pneumonitis/interstitial lung disease - Has a known additional malignancy that is progressing or has required active treatment within the past 3 years - Has known active central nervous system (CNS) metastases and/or carcinomatous meningitis - Has an active autoimmune disease that has required systemic treatment in past 2 years - Has an active infection requiring systemic therapy - Has had an allogenic tissue/solid organ transplant\"\n",
    "\n",
    "context = \"content: Description and eligibility criteria of a clinical trial\"\n",
    "\n",
    "request = \"Provide 2 question and answer pairs based on the text above. The question must begin with \\\"In context of ...\\\" The answer should borrow verbatim from the text above. In providing each question, consider that the reader does not see or have access to any of the other questions for context. Vary the style and format of questions. Respond in plain text on a new line for each question and answer. Do not include question numbers. Here is an example of two question and answer pairs: \"\n",
    "\n",
    "example_response = \"In the context of description and eligibility of a clinical trial, can patients with history of hepatitis C virus (HCV) infection participate?\\nYes, as per the inclusion criteria, the participants with history of hepatitis C virus (HCV) infection are eligible if HCV viral load is undetectable at screening.\\n\\nIn the context of description and eligibility of a clinical trial, can patients with ocular, mucosal, or conjunctival melanoma participate?\\nNo, as per the xclusion criteria if the patient has ocular, mucosal, or conjunctival melanoma, then they would not be eligible.\""
   ]
  },
  {
   "cell_type": "code",
   "execution_count": 19,
   "metadata": {},
   "outputs": [
    {
     "name": "stdout",
     "output_type": "stream",
     "text": [
      "{'id': 'cmpl-1fbd42d3-f4a9-4620-beab-b1c15163006a', 'object': 'text_completion', 'created': 1700943732, 'model': '../localGPT/models/models--TheBloke--Llama-2-70B-Chat-GGUF/snapshots/6657b410331f892e2ea27eb435ef53aeefeedfd6/llama-2-70b-chat.Q4_K_M.gguf', 'choices': [{'text': \"Generate 2 question and answer pairs based on the following context: ('content: Description and eligibility criteria of a clinical trial', 'Inclusion Criteria: - Has surgically resected and histologically or pathologically confirmed diagnosis of Stage IIB and IIC (pathological or clinical), III, or IV cutaneous melanoma per the American Joint Committee on Cancer (AJCC) eighth edition guidelines -Has not received any prior systemic therapy for melanoma beyond surgical resection - Has had no more than 12 weeks between final surgical resection and randomization - Human immunodeficiency virus (HIV)-infected participants must have well controlled HIV on anti-retroviral therapy (ART) - Participants who are hepatitis B surface antigen (HBsAg) positive are eligible if they have received hepatitis B virus (HBV) antiviral therapy for at least 4 weeks and have undetectable HBV viral load before randomization - Participants with history of hepatitis C virus (HCV) infection are eligible if HCV viral load is undetectable at screening. Exclusion Criteria: - Has ocular, mucosal, or conjunctival melanoma - Has a diagnosis of immunodeficiency or is receiving chronic systemic steroid therapy (in dosing exceeding 10 mg daily of prednisone equivalent) or any other form of immunosuppressive therapy within 7 days prior the first dose of study medication - Has not adequately recovered from major surgical procedure or has ongoing surgical complications - Has received prior radiotherapy within 2 weeks of start of study intervention or has had a history of radiation pneumonitis - Received a live or live attenuated vaccine within 30 days before the first dose of study intervention. Administration of killed vaccines is allowed - Has received an investigational agent or has used an investigational device within 4 weeks before study intervention administration - Has a history of (noninfectious) pneumonitis/interstitial lung disease that required steroids or has current pneumonitis/interstitial lung disease - Has a known additional malignancy that is progressing or has required active treatment within the past 3 years - Has known active central nervous system (CNS) metastases and/or carcinomatous meningitis - Has an active autoimmune disease that has required systemic treatment in past 2 years - Has an active infection requiring systemic therapy - Has had an allogenic tissue/solid organ transplant'). \\n\\nRespond in plain text on a new line for each question and answer. Do not include question numbers. Here is an example of two question and answer pairs:\\nIn the context of description and eligibility of a clinical trial, can patients with history of hepatitis C virus (HCV) infection participate?\\nYes, as per the inclusion criteria, the participants with history of hepatitis C virus (HCV) infection are eligible if HCV viral load is undetectable at screening.\\n\\nIn the context of description and eligibility of a clinical trial, can patients with ocular, mucosal, or conjunctival melanoma participate?\\nNo, as per the xclusion criteria if the patient has ocular, mucosal, or conjunctival melanoma, then they would not be eligible.\", 'index': 0, 'logprobs': None, 'finish_reason': 'stop'}], 'usage': {'prompt_tokens': 791, 'completion_tokens': 0, 'total_tokens': 791}}\n"
     ]
    },
    {
     "name": "stderr",
     "output_type": "stream",
     "text": [
      "\n",
      "llama_print_timings:        load time =  313927.70 ms\n",
      "llama_print_timings:      sample time =       0.30 ms /     1 runs   (    0.30 ms per token,  3311.26 tokens per second)\n",
      "llama_print_timings: prompt eval time =  498523.51 ms /   791 tokens (  630.24 ms per token,     1.59 tokens per second)\n",
      "llama_print_timings:        eval time =       0.00 ms /     1 runs   (    0.00 ms per token,      inf tokens per second)\n",
      "llama_print_timings:       total time =  498529.80 ms\n"
     ]
    }
   ],
   "source": [
    "output = llm(f\"Generate 2 question and answer pairs based on the following context: {context, input}. \\n\\nRespond in plain text on a new line for each question and answer. Do not include question numbers. Here is an example of two question and answer pairs:\\n{example_response}\", \n",
    "             #max_tokens=2048, \n",
    "             #stop=[\"Q:\", \"\\n\"], \n",
    "             echo=True)\n",
    "print(output)"
   ]
  },
  {
   "cell_type": "code",
   "execution_count": 20,
   "metadata": {},
   "outputs": [
    {
     "name": "stdout",
     "output_type": "stream",
     "text": [
      "Generate 2 question and answer pairs based on the following context: ('content: Description and eligibility criteria of a clinical trial', 'Inclusion Criteria: - Has surgically resected and histologically or pathologically confirmed diagnosis of Stage IIB and IIC (pathological or clinical), III, or IV cutaneous melanoma per the American Joint Committee on Cancer (AJCC) eighth edition guidelines -Has not received any prior systemic therapy for melanoma beyond surgical resection - Has had no more than 12 weeks between final surgical resection and randomization - Human immunodeficiency virus (HIV)-infected participants must have well controlled HIV on anti-retroviral therapy (ART) - Participants who are hepatitis B surface antigen (HBsAg) positive are eligible if they have received hepatitis B virus (HBV) antiviral therapy for at least 4 weeks and have undetectable HBV viral load before randomization - Participants with history of hepatitis C virus (HCV) infection are eligible if HCV viral load is undetectable at screening. Exclusion Criteria: - Has ocular, mucosal, or conjunctival melanoma - Has a diagnosis of immunodeficiency or is receiving chronic systemic steroid therapy (in dosing exceeding 10 mg daily of prednisone equivalent) or any other form of immunosuppressive therapy within 7 days prior the first dose of study medication - Has not adequately recovered from major surgical procedure or has ongoing surgical complications - Has received prior radiotherapy within 2 weeks of start of study intervention or has had a history of radiation pneumonitis - Received a live or live attenuated vaccine within 30 days before the first dose of study intervention. Administration of killed vaccines is allowed - Has received an investigational agent or has used an investigational device within 4 weeks before study intervention administration - Has a history of (noninfectious) pneumonitis/interstitial lung disease that required steroids or has current pneumonitis/interstitial lung disease - Has a known additional malignancy that is progressing or has required active treatment within the past 3 years - Has known active central nervous system (CNS) metastases and/or carcinomatous meningitis - Has an active autoimmune disease that has required systemic treatment in past 2 years - Has an active infection requiring systemic therapy - Has had an allogenic tissue/solid organ transplant'). \n",
      "\n",
      "Respond in plain text on a new line for each question and answer. Do not include question numbers. Here is an example of two question and answer pairs:\n",
      "In the context of description and eligibility of a clinical trial, can patients with history of hepatitis C virus (HCV) infection participate?\n",
      "Yes, as per the inclusion criteria, the participants with history of hepatitis C virus (HCV) infection are eligible if HCV viral load is undetectable at screening.\n",
      "\n",
      "In the context of description and eligibility of a clinical trial, can patients with ocular, mucosal, or conjunctival melanoma participate?\n",
      "No, as per the xclusion criteria if the patient has ocular, mucosal, or conjunctival melanoma, then they would not be eligible.\n"
     ]
    }
   ],
   "source": [
    "print(outputch['oices'][0]['text'])"
   ]
  },
  {
   "cell_type": "markdown",
   "metadata": {},
   "source": [
    "### Trial 3"
   ]
  },
  {
   "cell_type": "code",
   "execution_count": 3,
   "metadata": {},
   "outputs": [],
   "source": [
    "llm = Llama(model_path=\"../localGPT/models/models--TheBloke--Llama-2-70B-Chat-GGUF/snapshots/6657b410331f892e2ea27eb435ef53aeefeedfd6/llama-2-70b-chat.Q4_K_M.gguf\",\n",
    "            n_ctx=2048,\n",
    "            n_gpu_layers=400, \n",
    "            main_gpu=1)"
   ]
  },
  {
   "cell_type": "code",
   "execution_count": 22,
   "metadata": {},
   "outputs": [
    {
     "name": "stdout",
     "output_type": "stream",
     "text": [
      "{'id': 'cmpl-45f67e78-efcd-4389-876d-16695cdb858a', 'object': 'text_completion', 'created': 1700944470, 'model': '../localGPT/models/models--TheBloke--Llama-2-70B-Chat-GGUF/snapshots/6657b410331f892e2ea27eb435ef53aeefeedfd6/llama-2-70b-chat.Q4_K_M.gguf', 'choices': [{'text': 'Generate 2 question and answer pairs based on the following context: Inclusion Criteria: - Has surgically resected and histologically or pathologically confirmed diagnosis of Stage IIB and IIC (pathological or clinical), III, or IV cutaneous melanoma per the American Joint Committee on Cancer (AJCC) eighth edition guidelines -Has not received any prior systemic therapy for melanoma beyond surgical resection - Has had no more than 12 weeks between final surgical resection and randomization - Human immunodeficiency virus (HIV)-infected participants must have well controlled HIV on anti-retroviral therapy (ART) - Participants who are hepatitis B surface antigen (HBsAg) positive are eligible if they have received hepatitis B virus (HBV) antiviral therapy for at least 4 weeks and have undetectable HBV viral load before randomization - Participants with history of hepatitis C virus (HCV) infection are eligible if HCV viral load is undetectable at screening. Exclusion Criteria: - Has ocular, mucosal, or conjunctival melanoma - Has a diagnosis of immunodeficiency or is receiving chronic systemic steroid therapy (in dosing exceeding 10 mg daily of prednisone equivalent) or any other form of immunosuppressive therapy within 7 days prior the first dose of study medication - Has not adequately recovered from major surgical procedure or has ongoing surgical complications - Has received prior radiotherapy within 2 weeks of start of study intervention or has had a history of radiation pneumonitis - Received a live or live attenuated vaccine within 30 days before the first dose of study intervention. Administration of killed vaccines is allowed - Has received an investigational agent or has used an investigational device within 4 weeks before study intervention administration - Has a history of (noninfectious) pneumonitis/interstitial lung disease that required steroids or has current pneumonitis/interstitial lung disease - Has a known additional malignancy that is progressing or has required active treatment within the past 3 years - Has known active central nervous system (CNS) metastases and/or carcinomatous meningitis - Has an active autoimmune disease that has required systemic treatment in past 2 years - Has an active infection requiring systemic therapy - Has had an allogenic tissue/solid organ transplant. \\n\\nRespond in plain text on a new line for each question and answer. Do not include question numbers. Keep it simple, do not use abbreviations or acronyms unless spelled out in full first. No extra spaces between lines.\\n\\nQ: Can someone with HIV be included in the clinical trial?\\nA: Yes, if they have well controlled HIV on anti-retroviral therapy (ART).\\n\\nQ: Is someone with a history of hepatitis C virus (HCV) infection eligible for the clinical trial?\\nA: Yes, if HCV viral load is undetectable at screening.', 'index': 0, 'logprobs': None, 'finish_reason': 'stop'}], 'usage': {'prompt_tokens': 609, 'completion_tokens': 120, 'total_tokens': 729}}\n"
     ]
    },
    {
     "name": "stderr",
     "output_type": "stream",
     "text": [
      "\n",
      "llama_print_timings:        load time =  319793.41 ms\n",
      "llama_print_timings:      sample time =      41.01 ms /   121 runs   (    0.34 ms per token,  2950.72 tokens per second)\n",
      "llama_print_timings: prompt eval time =  381327.37 ms /   609 tokens (  626.15 ms per token,     1.60 tokens per second)\n",
      "llama_print_timings:        eval time =  152054.74 ms /   120 runs   ( 1267.12 ms per token,     0.79 tokens per second)\n",
      "llama_print_timings:       total time =  533676.08 ms\n"
     ]
    }
   ],
   "source": [
    "output = llm(f\"Generate 2 question and answer pairs based on the following context: {input}. \\n\\nRespond in plain text on a new line for each question and answer. Do not include question numbers.\", \n",
    "             #max_tokens=2048, \n",
    "             #stop=[\"Q:\", \"\\n\"], \n",
    "             echo=True)\n",
    "print(output)"
   ]
  },
  {
   "cell_type": "code",
   "execution_count": 23,
   "metadata": {},
   "outputs": [
    {
     "name": "stdout",
     "output_type": "stream",
     "text": [
      "Generate 2 question and answer pairs based on the following context: Inclusion Criteria: - Has surgically resected and histologically or pathologically confirmed diagnosis of Stage IIB and IIC (pathological or clinical), III, or IV cutaneous melanoma per the American Joint Committee on Cancer (AJCC) eighth edition guidelines -Has not received any prior systemic therapy for melanoma beyond surgical resection - Has had no more than 12 weeks between final surgical resection and randomization - Human immunodeficiency virus (HIV)-infected participants must have well controlled HIV on anti-retroviral therapy (ART) - Participants who are hepatitis B surface antigen (HBsAg) positive are eligible if they have received hepatitis B virus (HBV) antiviral therapy for at least 4 weeks and have undetectable HBV viral load before randomization - Participants with history of hepatitis C virus (HCV) infection are eligible if HCV viral load is undetectable at screening. Exclusion Criteria: - Has ocular, mucosal, or conjunctival melanoma - Has a diagnosis of immunodeficiency or is receiving chronic systemic steroid therapy (in dosing exceeding 10 mg daily of prednisone equivalent) or any other form of immunosuppressive therapy within 7 days prior the first dose of study medication - Has not adequately recovered from major surgical procedure or has ongoing surgical complications - Has received prior radiotherapy within 2 weeks of start of study intervention or has had a history of radiation pneumonitis - Received a live or live attenuated vaccine within 30 days before the first dose of study intervention. Administration of killed vaccines is allowed - Has received an investigational agent or has used an investigational device within 4 weeks before study intervention administration - Has a history of (noninfectious) pneumonitis/interstitial lung disease that required steroids or has current pneumonitis/interstitial lung disease - Has a known additional malignancy that is progressing or has required active treatment within the past 3 years - Has known active central nervous system (CNS) metastases and/or carcinomatous meningitis - Has an active autoimmune disease that has required systemic treatment in past 2 years - Has an active infection requiring systemic therapy - Has had an allogenic tissue/solid organ transplant. \n",
      "\n",
      "Respond in plain text on a new line for each question and answer. Do not include question numbers. Keep it simple, do not use abbreviations or acronyms unless spelled out in full first. No extra spaces between lines.\n",
      "\n",
      "Q: Can someone with HIV be included in the clinical trial?\n",
      "A: Yes, if they have well controlled HIV on anti-retroviral therapy (ART).\n",
      "\n",
      "Q: Is someone with a history of hepatitis C virus (HCV) infection eligible for the clinical trial?\n",
      "A: Yes, if HCV viral load is undetectable at screening.\n"
     ]
    }
   ],
   "source": [
    "print(output['choices'][0]['text'])"
   ]
  },
  {
   "cell_type": "markdown",
   "metadata": {},
   "source": [
    "Although it still took almost 9 minutes, it was able to generate questions.\n",
    "\n",
    "That's a good sign. Let's try to scale it for more questions "
   ]
  },
  {
   "cell_type": "code",
   "execution_count": 24,
   "metadata": {},
   "outputs": [
    {
     "name": "stderr",
     "output_type": "stream",
     "text": [
      "Llama.generate: prefix-match hit\n"
     ]
    },
    {
     "name": "stdout",
     "output_type": "stream",
     "text": [
      "{'id': 'cmpl-3a84fc79-747e-415b-9fe3-4c567b9098ce', 'object': 'text_completion', 'created': 1700945228, 'model': '../localGPT/models/models--TheBloke--Llama-2-70B-Chat-GGUF/snapshots/6657b410331f892e2ea27eb435ef53aeefeedfd6/llama-2-70b-chat.Q4_K_M.gguf', 'choices': [{'text': 'Generate 5 question and answer pairs based on the following context: Inclusion Criteria: - Has surgically resected and histologically or pathologically confirmed diagnosis of Stage IIB and IIC (pathological or clinical), III, or IV cutaneous melanoma per the American Joint Committee on Cancer (AJCC) eighth edition guidelines -Has not received any prior systemic therapy for melanoma beyond surgical resection - Has had no more than 12 weeks between final surgical resection and randomization - Human immunodeficiency virus (HIV)-infected participants must have well controlled HIV on anti-retroviral therapy (ART) - Participants who are hepatitis B surface antigen (HBsAg) positive are eligible if they have received hepatitis B virus (HBV) antiviral therapy for at least 4 weeks and have undetectable HBV viral load before randomization - Participants with history of hepatitis C virus (HCV) infection are eligible if HCV viral load is undetectable at screening. Exclusion Criteria: - Has ocular, mucosal, or conjunctival melanoma - Has a diagnosis of immunodeficiency or is receiving chronic systemic steroid therapy (in dosing exceeding 10 mg daily of prednisone equivalent) or any other form of immunosuppressive therapy within 7 days prior the first dose of study medication - Has not adequately recovered from major surgical procedure or has ongoing surgical complications - Has received prior radiotherapy within 2 weeks of start of study intervention or has had a history of radiation pneumonitis - Received a live or live attenuated vaccine within 30 days before the first dose of study intervention. Administration of killed vaccines is allowed - Has received an investigational agent or has used an investigational device within 4 weeks before study intervention administration - Has a history of (noninfectious) pneumonitis/interstitial lung disease that required steroids or has current pneumonitis/interstitial lung disease - Has a known additional malignancy that is progressing or has required active treatment within the past 3 years - Has known active central nervous system (CNS) metastases and/or carcinomatous meningitis - Has an active autoimmune disease that has required systemic treatment in past 2 years - Has an active infection requiring systemic therapy - Has had an allogenic tissue/solid organ transplant. \\n\\nRespond in plain text on a new line for each question and answer. Do not include question numbers. Use only words to indicate the answers, do not use abbreviations or acronyms unless spelled out fully. \\n\\nIs someone with a history of hepatitis C virus (HCV) infection eligible to participate? \\n\\nYes, if HCV viral load is undetectable at screening and the participant has received HCV antiviral therapy for at least 4 weeks. \\n\\nCan someone who has received a live or live attenuated vaccine within 30 days before the first dose of study intervention participate? ', 'index': 0, 'logprobs': None, 'finish_reason': 'length'}], 'usage': {'prompt_tokens': 609, 'completion_tokens': 128, 'total_tokens': 737}}\n"
     ]
    },
    {
     "name": "stderr",
     "output_type": "stream",
     "text": [
      "\n",
      "llama_print_timings:        load time =  319793.41 ms\n",
      "llama_print_timings:      sample time =      47.34 ms /   128 runs   (    0.37 ms per token,  2704.13 tokens per second)\n",
      "llama_print_timings: prompt eval time =  361790.36 ms /   605 tokens (  598.00 ms per token,     1.67 tokens per second)\n",
      "llama_print_timings:        eval time =  169861.51 ms /   127 runs   ( 1337.49 ms per token,     0.75 tokens per second)\n",
      "llama_print_timings:       total time =  531988.34 ms\n"
     ]
    }
   ],
   "source": [
    "output = llm(f\"Generate 5 question and answer pairs based on the following context: {input}. \\n\\nRespond in plain text on a new line for each question and answer. Do not include question numbers.\", \n",
    "             #max_tokens=2048, \n",
    "             #stop=[\"Q:\", \"\\n\"], \n",
    "             echo=True)\n",
    "print(output)"
   ]
  },
  {
   "cell_type": "markdown",
   "metadata": {},
   "source": [
    "output = llm(f\"Generate 5 question and answer pairs based on the following context: {input}. \\n\\nRespond in plain text on a new line for each question and answer. Do not include question numbers.\", \n",
    "             #max_tokens=2048, \n",
    "             #stop=[\"Q:\", \"\\n\"], \n",
    "             echo=True)\n",
    "print(output)"
   ]
  },
  {
   "cell_type": "code",
   "execution_count": 25,
   "metadata": {},
   "outputs": [
    {
     "name": "stdout",
     "output_type": "stream",
     "text": [
      "Generate 5 question and answer pairs based on the following context: Inclusion Criteria: - Has surgically resected and histologically or pathologically confirmed diagnosis of Stage IIB and IIC (pathological or clinical), III, or IV cutaneous melanoma per the American Joint Committee on Cancer (AJCC) eighth edition guidelines -Has not received any prior systemic therapy for melanoma beyond surgical resection - Has had no more than 12 weeks between final surgical resection and randomization - Human immunodeficiency virus (HIV)-infected participants must have well controlled HIV on anti-retroviral therapy (ART) - Participants who are hepatitis B surface antigen (HBsAg) positive are eligible if they have received hepatitis B virus (HBV) antiviral therapy for at least 4 weeks and have undetectable HBV viral load before randomization - Participants with history of hepatitis C virus (HCV) infection are eligible if HCV viral load is undetectable at screening. Exclusion Criteria: - Has ocular, mucosal, or conjunctival melanoma - Has a diagnosis of immunodeficiency or is receiving chronic systemic steroid therapy (in dosing exceeding 10 mg daily of prednisone equivalent) or any other form of immunosuppressive therapy within 7 days prior the first dose of study medication - Has not adequately recovered from major surgical procedure or has ongoing surgical complications - Has received prior radiotherapy within 2 weeks of start of study intervention or has had a history of radiation pneumonitis - Received a live or live attenuated vaccine within 30 days before the first dose of study intervention. Administration of killed vaccines is allowed - Has received an investigational agent or has used an investigational device within 4 weeks before study intervention administration - Has a history of (noninfectious) pneumonitis/interstitial lung disease that required steroids or has current pneumonitis/interstitial lung disease - Has a known additional malignancy that is progressing or has required active treatment within the past 3 years - Has known active central nervous system (CNS) metastases and/or carcinomatous meningitis - Has an active autoimmune disease that has required systemic treatment in past 2 years - Has an active infection requiring systemic therapy - Has had an allogenic tissue/solid organ transplant. \n",
      "\n",
      "Respond in plain text on a new line for each question and answer. Do not include question numbers. Use only words to indicate the answers, do not use abbreviations or acronyms unless spelled out fully. \n",
      "\n",
      "Is someone with a history of hepatitis C virus (HCV) infection eligible to participate? \n",
      "\n",
      "Yes, if HCV viral load is undetectable at screening and the participant has received HCV antiviral therapy for at least 4 weeks. \n",
      "\n",
      "Can someone who has received a live or live attenuated vaccine within 30 days before the first dose of study intervention participate? \n"
     ]
    }
   ],
   "source": [
    "print(output['choices'][0]['text'])"
   ]
  },
  {
   "cell_type": "markdown",
   "metadata": {},
   "source": [
    "Perhaps the context length is leading to truncation of the output. Let's try with increased context length."
   ]
  },
  {
   "cell_type": "markdown",
   "metadata": {},
   "source": [
    "### Trial 4"
   ]
  },
  {
   "cell_type": "code",
   "execution_count": 4,
   "metadata": {},
   "outputs": [],
   "source": [
    "# increasing n_ctx by 50%\n",
    "llm = Llama(model_path=\"../localGPT/models/models--TheBloke--Llama-2-70B-Chat-GGUF/snapshots/6657b410331f892e2ea27eb435ef53aeefeedfd6/llama-2-70b-chat.Q4_K_M.gguf\",\n",
    "            n_ctx=3072,\n",
    "            n_gpu_layers=400, \n",
    "            main_gpu=1)"
   ]
  },
  {
   "cell_type": "code",
   "execution_count": 27,
   "metadata": {},
   "outputs": [
    {
     "name": "stdout",
     "output_type": "stream",
     "text": [
      "{'id': 'cmpl-ecbd9b19-cc28-48a7-98fa-79c588a4d62b', 'object': 'text_completion', 'created': 1700946668, 'model': '../localGPT/models/models--TheBloke--Llama-2-70B-Chat-GGUF/snapshots/6657b410331f892e2ea27eb435ef53aeefeedfd6/llama-2-70b-chat.Q4_K_M.gguf', 'choices': [{'text': 'Generate 5 question and answer pairs based on the following context: Inclusion Criteria: - Has surgically resected and histologically or pathologically confirmed diagnosis of Stage IIB and IIC (pathological or clinical), III, or IV cutaneous melanoma per the American Joint Committee on Cancer (AJCC) eighth edition guidelines -Has not received any prior systemic therapy for melanoma beyond surgical resection - Has had no more than 12 weeks between final surgical resection and randomization - Human immunodeficiency virus (HIV)-infected participants must have well controlled HIV on anti-retroviral therapy (ART) - Participants who are hepatitis B surface antigen (HBsAg) positive are eligible if they have received hepatitis B virus (HBV) antiviral therapy for at least 4 weeks and have undetectable HBV viral load before randomization - Participants with history of hepatitis C virus (HCV) infection are eligible if HCV viral load is undetectable at screening. Exclusion Criteria: - Has ocular, mucosal, or conjunctival melanoma - Has a diagnosis of immunodeficiency or is receiving chronic systemic steroid therapy (in dosing exceeding 10 mg daily of prednisone equivalent) or any other form of immunosuppressive therapy within 7 days prior the first dose of study medication - Has not adequately recovered from major surgical procedure or has ongoing surgical complications - Has received prior radiotherapy within 2 weeks of start of study intervention or has had a history of radiation pneumonitis - Received a live or live attenuated vaccine within 30 days before the first dose of study intervention. Administration of killed vaccines is allowed - Has received an investigational agent or has used an investigational device within 4 weeks before study intervention administration - Has a history of (noninfectious) pneumonitis/interstitial lung disease that required steroids or has current pneumonitis/interstitial lung disease - Has a known additional malignancy that is progressing or has required active treatment within the past 3 years - Has known active central nervous system (CNS) metastases and/or carcinomatous meningitis - Has an active autoimmune disease that has required systemic treatment in past 2 years - Has an active infection requiring systemic therapy - Has had an allogenic tissue/solid organ transplant. \\n\\nRespond in plain text on a new line for each question and answer. Do not include question numbers. Keep answers brief. The auto-grader will check your answers against the context of the clinical trial inclusion and exclusion criteria provided.\\n1. Can someone with stage III melanoma be included in this trial? \\n2. What is the allowed time frame between surgical resection and randomization for participants? \\n3. Are participants with a history of hepatitis C virus (HCV) infection eligible for this clinical trial? \\n4. Is someone who has received an investigational device within 4 weeks before study intervention administration eligible to participate? \\n5', 'index': 0, 'logprobs': None, 'finish_reason': 'length'}], 'usage': {'prompt_tokens': 609, 'completion_tokens': 128, 'total_tokens': 737}}\n"
     ]
    },
    {
     "name": "stderr",
     "output_type": "stream",
     "text": [
      "\n",
      "llama_print_timings:        load time =  327321.64 ms\n",
      "llama_print_timings:      sample time =      43.14 ms /   128 runs   (    0.34 ms per token,  2966.88 tokens per second)\n",
      "llama_print_timings: prompt eval time =  385141.55 ms /   609 tokens (  632.42 ms per token,     1.58 tokens per second)\n",
      "llama_print_timings:        eval time =  157661.82 ms /   127 runs   ( 1241.43 ms per token,     0.81 tokens per second)\n",
      "llama_print_timings:       total time =  543115.81 ms\n"
     ]
    }
   ],
   "source": [
    "output = llm(f\"Generate 5 question and answer pairs based on the following context: {input}. \\n\\nRespond in plain text on a new line for each question and answer. Do not include question numbers.\", \n",
    "             #max_tokens=2048, \n",
    "             #stop=[\"Q:\", \"\\n\"], \n",
    "             echo=True)\n",
    "print(output)"
   ]
  },
  {
   "cell_type": "code",
   "execution_count": 28,
   "metadata": {},
   "outputs": [
    {
     "name": "stdout",
     "output_type": "stream",
     "text": [
      "Generate 5 question and answer pairs based on the following context: Inclusion Criteria: - Has surgically resected and histologically or pathologically confirmed diagnosis of Stage IIB and IIC (pathological or clinical), III, or IV cutaneous melanoma per the American Joint Committee on Cancer (AJCC) eighth edition guidelines -Has not received any prior systemic therapy for melanoma beyond surgical resection - Has had no more than 12 weeks between final surgical resection and randomization - Human immunodeficiency virus (HIV)-infected participants must have well controlled HIV on anti-retroviral therapy (ART) - Participants who are hepatitis B surface antigen (HBsAg) positive are eligible if they have received hepatitis B virus (HBV) antiviral therapy for at least 4 weeks and have undetectable HBV viral load before randomization - Participants with history of hepatitis C virus (HCV) infection are eligible if HCV viral load is undetectable at screening. Exclusion Criteria: - Has ocular, mucosal, or conjunctival melanoma - Has a diagnosis of immunodeficiency or is receiving chronic systemic steroid therapy (in dosing exceeding 10 mg daily of prednisone equivalent) or any other form of immunosuppressive therapy within 7 days prior the first dose of study medication - Has not adequately recovered from major surgical procedure or has ongoing surgical complications - Has received prior radiotherapy within 2 weeks of start of study intervention or has had a history of radiation pneumonitis - Received a live or live attenuated vaccine within 30 days before the first dose of study intervention. Administration of killed vaccines is allowed - Has received an investigational agent or has used an investigational device within 4 weeks before study intervention administration - Has a history of (noninfectious) pneumonitis/interstitial lung disease that required steroids or has current pneumonitis/interstitial lung disease - Has a known additional malignancy that is progressing or has required active treatment within the past 3 years - Has known active central nervous system (CNS) metastases and/or carcinomatous meningitis - Has an active autoimmune disease that has required systemic treatment in past 2 years - Has an active infection requiring systemic therapy - Has had an allogenic tissue/solid organ transplant. \n",
      "\n",
      "Respond in plain text on a new line for each question and answer. Do not include question numbers. Keep answers brief. The auto-grader will check your answers against the context of the clinical trial inclusion and exclusion criteria provided.\n",
      "1. Can someone with stage III melanoma be included in this trial? \n",
      "2. What is the allowed time frame between surgical resection and randomization for participants? \n",
      "3. Are participants with a history of hepatitis C virus (HCV) infection eligible for this clinical trial? \n",
      "4. Is someone who has received an investigational device within 4 weeks before study intervention administration eligible to participate? \n",
      "5\n"
     ]
    }
   ],
   "source": [
    "print(output['choices'][0]['text'])"
   ]
  },
  {
   "cell_type": "code",
   "execution_count": 29,
   "metadata": {},
   "outputs": [
    {
     "name": "stderr",
     "output_type": "stream",
     "text": [
      "Llama.generate: prefix-match hit\n"
     ]
    },
    {
     "name": "stdout",
     "output_type": "stream",
     "text": [
      "{'id': 'cmpl-ac1e1b2b-8617-4ddd-be30-05ba35abfbc0', 'object': 'text_completion', 'created': 1700947811, 'model': '../localGPT/models/models--TheBloke--Llama-2-70B-Chat-GGUF/snapshots/6657b410331f892e2ea27eb435ef53aeefeedfd6/llama-2-70b-chat.Q4_K_M.gguf', 'choices': [{'text': 'Generate 3 pairs of question and answer based on the following context: Inclusion Criteria: - Has surgically resected and histologically or pathologically confirmed diagnosis of Stage IIB and IIC (pathological or clinical), III, or IV cutaneous melanoma per the American Joint Committee on Cancer (AJCC) eighth edition guidelines -Has not received any prior systemic therapy for melanoma beyond surgical resection - Has had no more than 12 weeks between final surgical resection and randomization - Human immunodeficiency virus (HIV)-infected participants must have well controlled HIV on anti-retroviral therapy (ART) - Participants who are hepatitis B surface antigen (HBsAg) positive are eligible if they have received hepatitis B virus (HBV) antiviral therapy for at least 4 weeks and have undetectable HBV viral load before randomization - Participants with history of hepatitis C virus (HCV) infection are eligible if HCV viral load is undetectable at screening. Exclusion Criteria: - Has ocular, mucosal, or conjunctival melanoma - Has a diagnosis of immunodeficiency or is receiving chronic systemic steroid therapy (in dosing exceeding 10 mg daily of prednisone equivalent) or any other form of immunosuppressive therapy within 7 days prior the first dose of study medication - Has not adequately recovered from major surgical procedure or has ongoing surgical complications - Has received prior radiotherapy within 2 weeks of start of study intervention or has had a history of radiation pneumonitis - Received a live or live attenuated vaccine within 30 days before the first dose of study intervention. Administration of killed vaccines is allowed - Has received an investigational agent or has used an investigational device within 4 weeks before study intervention administration - Has a history of (noninfectious) pneumonitis/interstitial lung disease that required steroids or has current pneumonitis/interstitial lung disease - Has a known additional malignancy that is progressing or has required active treatment within the past 3 years - Has known active central nervous system (CNS) metastases and/or carcinomatous meningitis - Has an active autoimmune disease that has required systemic treatment in past 2 years - Has an active infection requiring systemic therapy - Has had an allogenic tissue/solid organ transplant. \\n\\nRespond in plain text on a new line for each question and answer. Do not include question numbers.\\n\\nWhat is the primary inclusion criteria for this clinical trial?\\nA participant must have a surgically resected and histologically or pathologically confirmed diagnosis of Stage IIB and IIC (pathological or clinical), III, or IV cutaneous melanoma per the American Joint Committee on Cancer (AJCC) eighth edition guidelines.\\n\\nWhat is an exclusion criteria for this clinical trial?\\nA participant is excluded if they have a history of (noninfectious) pneumonitis/interstitial lung disease that required steroid', 'index': 0, 'logprobs': None, 'finish_reason': 'length'}], 'usage': {'prompt_tokens': 610, 'completion_tokens': 128, 'total_tokens': 738}}\n"
     ]
    },
    {
     "name": "stderr",
     "output_type": "stream",
     "text": [
      "\n",
      "llama_print_timings:        load time =  327321.64 ms\n",
      "llama_print_timings:      sample time =      46.57 ms /   128 runs   (    0.36 ms per token,  2748.37 tokens per second)\n",
      "llama_print_timings: prompt eval time =  398642.91 ms /   606 tokens (  657.83 ms per token,     1.52 tokens per second)\n",
      "llama_print_timings:        eval time =  168266.68 ms /   127 runs   ( 1324.93 ms per token,     0.75 tokens per second)\n",
      "llama_print_timings:       total time =  567250.23 ms\n"
     ]
    }
   ],
   "source": [
    "# Reducing number of questions\n",
    "output = llm(f\"Generate 3 pairs of question and answer based on the following context: {input}. \\n\\nRespond in plain text on a new line for each question and answer. Do not include question numbers.\", \n",
    "             #max_tokens=2048, \n",
    "             #stop=[\"Q:\", \"\\n\"], \n",
    "             echo=True)\n",
    "print(output)"
   ]
  },
  {
   "cell_type": "code",
   "execution_count": 30,
   "metadata": {},
   "outputs": [
    {
     "name": "stdout",
     "output_type": "stream",
     "text": [
      "Generate 3 pairs of question and answer based on the following context: Inclusion Criteria: - Has surgically resected and histologically or pathologically confirmed diagnosis of Stage IIB and IIC (pathological or clinical), III, or IV cutaneous melanoma per the American Joint Committee on Cancer (AJCC) eighth edition guidelines -Has not received any prior systemic therapy for melanoma beyond surgical resection - Has had no more than 12 weeks between final surgical resection and randomization - Human immunodeficiency virus (HIV)-infected participants must have well controlled HIV on anti-retroviral therapy (ART) - Participants who are hepatitis B surface antigen (HBsAg) positive are eligible if they have received hepatitis B virus (HBV) antiviral therapy for at least 4 weeks and have undetectable HBV viral load before randomization - Participants with history of hepatitis C virus (HCV) infection are eligible if HCV viral load is undetectable at screening. Exclusion Criteria: - Has ocular, mucosal, or conjunctival melanoma - Has a diagnosis of immunodeficiency or is receiving chronic systemic steroid therapy (in dosing exceeding 10 mg daily of prednisone equivalent) or any other form of immunosuppressive therapy within 7 days prior the first dose of study medication - Has not adequately recovered from major surgical procedure or has ongoing surgical complications - Has received prior radiotherapy within 2 weeks of start of study intervention or has had a history of radiation pneumonitis - Received a live or live attenuated vaccine within 30 days before the first dose of study intervention. Administration of killed vaccines is allowed - Has received an investigational agent or has used an investigational device within 4 weeks before study intervention administration - Has a history of (noninfectious) pneumonitis/interstitial lung disease that required steroids or has current pneumonitis/interstitial lung disease - Has a known additional malignancy that is progressing or has required active treatment within the past 3 years - Has known active central nervous system (CNS) metastases and/or carcinomatous meningitis - Has an active autoimmune disease that has required systemic treatment in past 2 years - Has an active infection requiring systemic therapy - Has had an allogenic tissue/solid organ transplant. \n",
      "\n",
      "Respond in plain text on a new line for each question and answer. Do not include question numbers.\n",
      "\n",
      "What is the primary inclusion criteria for this clinical trial?\n",
      "A participant must have a surgically resected and histologically or pathologically confirmed diagnosis of Stage IIB and IIC (pathological or clinical), III, or IV cutaneous melanoma per the American Joint Committee on Cancer (AJCC) eighth edition guidelines.\n",
      "\n",
      "What is an exclusion criteria for this clinical trial?\n",
      "A participant is excluded if they have a history of (noninfectious) pneumonitis/interstitial lung disease that required steroid\n"
     ]
    }
   ],
   "source": [
    "print(output['choices'][0]['text'])"
   ]
  },
  {
   "cell_type": "code",
   "execution_count": 1,
   "metadata": {},
   "outputs": [],
   "source": [
    "### Trial 5"
   ]
  },
  {
   "cell_type": "code",
   "execution_count": 5,
   "metadata": {},
   "outputs": [],
   "source": [
    "# increasing n_ctx by 50%\n",
    "llm = Llama(model_path=\"../localGPT/models/models--TheBloke--Llama-2-70B-Chat-GGUF/snapshots/6657b410331f892e2ea27eb435ef53aeefeedfd6/llama-2-70b-chat.Q4_K_M.gguf\",\n",
    "            n_ctx=3072,\n",
    "            n_gpu_layers=400, \n",
    "            main_gpu=1)"
   ]
  },
  {
   "cell_type": "code",
   "execution_count": 7,
   "metadata": {},
   "outputs": [],
   "source": [
    "in_cr = \"Has surgically resected and histologically or pathologically confirmed diagnosis of Stage IIB and IIC (pathological or clinical), III, or IV cutaneous melanoma per the American Joint Committee on Cancer (AJCC) eighth edition guidelines -Has not received any prior systemic therapy for melanoma beyond surgical resection - Has had no more than 12 weeks between final surgical resection and randomization - Human immunodeficiency virus (HIV)-infected participants must have well controlled HIV on anti-retroviral therapy (ART) - Participants who are hepatitis B surface antigen (HBsAg) positive are eligible if they have received hepatitis B virus (HBV) antiviral therapy for at least 4 weeks and have undetectable HBV viral load before randomization - Participants with history of hepatitis C virus (HCV) infection are eligible if HCV viral load is undetectable at screening.\"\n",
    "ex_cr = \"Has ocular, mucosal, or conjunctival melanoma - Has a diagnosis of immunodeficiency or is receiving chronic systemic steroid therapy (in dosing exceeding 10 mg daily of prednisone equivalent) or any other form of immunosuppressive therapy within 7 days prior the first dose of study medication - Has not adequately recovered from major surgical procedure or has ongoing surgical complications - Has received prior radiotherapy within 2 weeks of start of study intervention or has had a history of radiation pneumonitis - Received a live or live attenuated vaccine within 30 days before the first dose of study intervention. Administration of killed vaccines is allowed - Has received an investigational agent or has used an investigational device within 4 weeks before study intervention administration - Has a history of (noninfectious) pneumonitis/interstitial lung disease that required steroids or has current pneumonitis/interstitial lung disease - Has a known additional malignancy that is progressing or has required active treatment within the past 3 years - Has known active central nervous system (CNS) metastases and/or carcinomatous meningitis - Has an active autoimmune disease that has required systemic treatment in past 2 years - Has an active infection requiring systemic therapy - Has had an allogenic tissue/solid organ transplant\"\n",
    "request = \"Provide 2 question and answer pairs based on the text above. The question must begin with \\\"In context of ...\\\" The answer should borrow verbatim from the text above. In providing each question, consider that the reader does not see or have access to any of the other questions for context. Vary the style and format of questions. Respond in plain text on a new line for each question and answer. Do not include question numbers. Here is an example of two question and answer pairs: \"\n",
    "\n",
    "example_response = \"In the context of description and eligibility of a clinical trial, can patients with history of hepatitis C virus (HCV) infection participate?\\nYes, as per the inclusion criteria, the participants with history of hepatitis C virus (HCV) infection are eligible if HCV viral load is undetectable at screening.\\n\\nIn the context of description and eligibility of a clinical trial, can patients with ocular, mucosal, or conjunctival melanoma participate?\\nNo, as per the xclusion criteria if the patient has ocular, mucosal, or conjunctival melanoma, then they would not be eligible.\""
   ]
  },
  {
   "cell_type": "code",
   "execution_count": 10,
   "metadata": {},
   "outputs": [],
   "source": [
    "def prompt_generation(in_cr, ex_cr, example_response):\n",
    "    return f\"\"\"\n",
    "    **Task Prompt:**\n",
    "    You are a virtual assistant designed to generate specific question and answers based on eligibility criteria for clinical trials provided below. Given a set of inclusion and exclusion criteria for a clinical trial, generate 3 pairs of specific question-and-answer about eligibility.\n",
    "\n",
    "    **Example Input:**\n",
    "    Inclusion Criteria:\n",
    "    - {in_cr}\n",
    "    Exclusion Criteria:\n",
    "    - {ex_cr}\n",
    "\n",
    "    **Example Questions:**\n",
    "    {example_response}\n",
    "\n",
    "    **Additional Instructions:**\n",
    "    - Provide specific and clear questions-answer pairs.\n",
    "    - Include verbatim text in the answers as much as possible.\n",
    "    \"\"\""
   ]
  },
  {
   "cell_type": "code",
   "execution_count": 11,
   "metadata": {},
   "outputs": [
    {
     "name": "stdout",
     "output_type": "stream",
     "text": [
      "{'id': 'cmpl-990b0cf1-6993-47cb-8f20-c559af111a24', 'object': 'text_completion', 'created': 1700956531, 'model': '../localGPT/models/models--TheBloke--Llama-2-70B-Chat-GGUF/snapshots/6657b410331f892e2ea27eb435ef53aeefeedfd6/llama-2-70b-chat.Q4_K_M.gguf', 'choices': [{'text': '\\n    **Task Prompt:**\\n    You are a virtual assistant designed to generate specific question and answers based on eligibility criteria for clinical trials provided below. Given a set of inclusion and exclusion criteria for a clinical trial, generate 3 pairs of specific question-and-answer about eligibility.\\n\\n    **Example Input:**\\n    Inclusion Criteria:\\n    - Has surgically resected and histologically or pathologically confirmed diagnosis of Stage IIB and IIC (pathological or clinical), III, or IV cutaneous melanoma per the American Joint Committee on Cancer (AJCC) eighth edition guidelines -Has not received any prior systemic therapy for melanoma beyond surgical resection - Has had no more than 12 weeks between final surgical resection and randomization - Human immunodeficiency virus (HIV)-infected participants must have well controlled HIV on anti-retroviral therapy (ART) - Participants who are hepatitis B surface antigen (HBsAg) positive are eligible if they have received hepatitis B virus (HBV) antiviral therapy for at least 4 weeks and have undetectable HBV viral load before randomization - Participants with history of hepatitis C virus (HCV) infection are eligible if HCV viral load is undetectable at screening.\\n    Exclusion Criteria:\\n    - Has ocular, mucosal, or conjunctival melanoma - Has a diagnosis of immunodeficiency or is receiving chronic systemic steroid therapy (in dosing exceeding 10 mg daily of prednisone equivalent) or any other form of immunosuppressive therapy within 7 days prior the first dose of study medication - Has not adequately recovered from major surgical procedure or has ongoing surgical complications - Has received prior radiotherapy within 2 weeks of start of study intervention or has had a history of radiation pneumonitis - Received a live or live attenuated vaccine within 30 days before the first dose of study intervention. Administration of killed vaccines is allowed - Has received an investigational agent or has used an investigational device within 4 weeks before study intervention administration - Has a history of (noninfectious) pneumonitis/interstitial lung disease that required steroids or has current pneumonitis/interstitial lung disease - Has a known additional malignancy that is progressing or has required active treatment within the past 3 years - Has known active central nervous system (CNS) metastases and/or carcinomatous meningitis - Has an active autoimmune disease that has required systemic treatment in past 2 years - Has an active infection requiring systemic therapy - Has had an allogenic tissue/solid organ transplant\\n\\n    **Example Questions:**\\n    In the context of description and eligibility of a clinical trial, can patients with history of hepatitis C virus (HCV) infection participate?\\nYes, as per the inclusion criteria, the participants with history of hepatitis C virus (HCV) infection are eligible if HCV viral load is undetectable at screening.\\n\\nIn the context of description and eligibility of a clinical trial, can patients with ocular, mucosal, or conjunctival melanoma participate?\\nNo, as per the xclusion criteria if the patient has ocular, mucosal, or conjunctival melanoma, then they would not be eligible.\\n\\n    **Additional Instructions:**\\n    - Provide specific and clear questions-answer pairs.\\n    - Include verbatim text in the answers as much as possible.\\n    ', 'index': 0, 'logprobs': None, 'finish_reason': 'stop'}], 'usage': {'prompt_tokens': 861, 'completion_tokens': 0, 'total_tokens': 861}}\n"
     ]
    },
    {
     "name": "stderr",
     "output_type": "stream",
     "text": [
      "\n",
      "llama_print_timings:        load time =  294025.19 ms\n",
      "llama_print_timings:      sample time =       0.34 ms /     1 runs   (    0.34 ms per token,  2941.18 tokens per second)\n",
      "llama_print_timings: prompt eval time =  493200.08 ms /   861 tokens (  572.82 ms per token,     1.75 tokens per second)\n",
      "llama_print_timings:        eval time =       0.00 ms /     1 runs   (    0.00 ms per token,      inf tokens per second)\n",
      "llama_print_timings:       total time =  493205.33 ms\n"
     ]
    }
   ],
   "source": [
    "# Reducing number of questions\n",
    "output = llm(prompt_generation(in_cr,ex_cr, example_response), \n",
    "             #max_tokens=2048, \n",
    "             #stop=[\"Q:\", \"\\n\"], \n",
    "             echo=True)\n",
    "print(output)"
   ]
  },
  {
   "cell_type": "code",
   "execution_count": 12,
   "metadata": {},
   "outputs": [
    {
     "name": "stdout",
     "output_type": "stream",
     "text": [
      "\n",
      "    **Task Prompt:**\n",
      "    You are a virtual assistant designed to generate specific question and answers based on eligibility criteria for clinical trials provided below. Given a set of inclusion and exclusion criteria for a clinical trial, generate 3 pairs of specific question-and-answer about eligibility.\n",
      "\n",
      "    **Example Input:**\n",
      "    Inclusion Criteria:\n",
      "    - Has surgically resected and histologically or pathologically confirmed diagnosis of Stage IIB and IIC (pathological or clinical), III, or IV cutaneous melanoma per the American Joint Committee on Cancer (AJCC) eighth edition guidelines -Has not received any prior systemic therapy for melanoma beyond surgical resection - Has had no more than 12 weeks between final surgical resection and randomization - Human immunodeficiency virus (HIV)-infected participants must have well controlled HIV on anti-retroviral therapy (ART) - Participants who are hepatitis B surface antigen (HBsAg) positive are eligible if they have received hepatitis B virus (HBV) antiviral therapy for at least 4 weeks and have undetectable HBV viral load before randomization - Participants with history of hepatitis C virus (HCV) infection are eligible if HCV viral load is undetectable at screening.\n",
      "    Exclusion Criteria:\n",
      "    - Has ocular, mucosal, or conjunctival melanoma - Has a diagnosis of immunodeficiency or is receiving chronic systemic steroid therapy (in dosing exceeding 10 mg daily of prednisone equivalent) or any other form of immunosuppressive therapy within 7 days prior the first dose of study medication - Has not adequately recovered from major surgical procedure or has ongoing surgical complications - Has received prior radiotherapy within 2 weeks of start of study intervention or has had a history of radiation pneumonitis - Received a live or live attenuated vaccine within 30 days before the first dose of study intervention. Administration of killed vaccines is allowed - Has received an investigational agent or has used an investigational device within 4 weeks before study intervention administration - Has a history of (noninfectious) pneumonitis/interstitial lung disease that required steroids or has current pneumonitis/interstitial lung disease - Has a known additional malignancy that is progressing or has required active treatment within the past 3 years - Has known active central nervous system (CNS) metastases and/or carcinomatous meningitis - Has an active autoimmune disease that has required systemic treatment in past 2 years - Has an active infection requiring systemic therapy - Has had an allogenic tissue/solid organ transplant\n",
      "\n",
      "    **Example Questions:**\n",
      "    In the context of description and eligibility of a clinical trial, can patients with history of hepatitis C virus (HCV) infection participate?\n",
      "Yes, as per the inclusion criteria, the participants with history of hepatitis C virus (HCV) infection are eligible if HCV viral load is undetectable at screening.\n",
      "\n",
      "In the context of description and eligibility of a clinical trial, can patients with ocular, mucosal, or conjunctival melanoma participate?\n",
      "No, as per the xclusion criteria if the patient has ocular, mucosal, or conjunctival melanoma, then they would not be eligible.\n",
      "\n",
      "    **Additional Instructions:**\n",
      "    - Provide specific and clear questions-answer pairs.\n",
      "    - Include verbatim text in the answers as much as possible.\n",
      "    \n"
     ]
    }
   ],
   "source": [
    "print(output['choices'][0]['text'])"
   ]
  },
  {
   "cell_type": "code",
   "execution_count": null,
   "metadata": {},
   "outputs": [],
   "source": []
  }
 ],
 "metadata": {
  "kernelspec": {
   "display_name": "Python 3",
   "language": "python",
   "name": "python3"
  },
  "language_info": {
   "codemirror_mode": {
    "name": "ipython",
    "version": 3
   },
   "file_extension": ".py",
   "mimetype": "text/x-python",
   "name": "python",
   "nbconvert_exporter": "python",
   "pygments_lexer": "ipython3",
   "version": "3.9.18"
  }
 },
 "nbformat": 4,
 "nbformat_minor": 5
}
