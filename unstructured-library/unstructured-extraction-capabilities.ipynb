{
 "cells": [
  {
   "cell_type": "code",
   "execution_count": 2,
   "id": "c06bea21",
   "metadata": {},
   "outputs": [],
   "source": [
    "# using py39 env\n",
    "#!pip install unstructured"
   ]
  },
  {
   "cell_type": "code",
   "execution_count": 3,
   "id": "f13cf97d",
   "metadata": {},
   "outputs": [],
   "source": [
    "import os\n",
    "from unstructured.partition.pdf import partition_pdf\n",
    "from unstructured.staging.base import elements_to_json\n",
    "import IPython"
   ]
  },
  {
   "cell_type": "code",
   "execution_count": 5,
   "id": "d725d6a4",
   "metadata": {},
   "outputs": [],
   "source": [
    "root = \"/home/ubuntu/codebase/my_github/generative-ai-experiments/unstructured-library/\"\n",
    "output_dir = f\"{root}/Output\""
   ]
  },
  {
   "cell_type": "markdown",
   "id": "744c990c",
   "metadata": {},
   "source": [
    "### Trial 1"
   ]
  },
  {
   "cell_type": "code",
   "execution_count": null,
   "id": "fad42aa4",
   "metadata": {},
   "outputs": [],
   "source": [
    "filename = f\"{root}/study_protocols/Prot_SAP_002.pdf\""
   ]
  },
  {
   "cell_type": "code",
   "execution_count": 6,
   "id": "1dc2a341",
   "metadata": {},
   "outputs": [
    {
     "name": "stderr",
     "output_type": "stream",
     "text": [
      "Some weights of the model checkpoint at microsoft/table-transformer-structure-recognition were not used when initializing TableTransformerForObjectDetection: ['model.backbone.conv_encoder.model.layer4.0.downsample.1.num_batches_tracked', 'model.backbone.conv_encoder.model.layer3.0.downsample.1.num_batches_tracked', 'model.backbone.conv_encoder.model.layer2.0.downsample.1.num_batches_tracked']\n",
      "- This IS expected if you are initializing TableTransformerForObjectDetection from the checkpoint of a model trained on another task or with another architecture (e.g. initializing a BertForSequenceClassification model from a BertForPreTraining model).\n",
      "- This IS NOT expected if you are initializing TableTransformerForObjectDetection from the checkpoint of a model that you expect to be exactly identical (initializing a BertForSequenceClassification model from a BertForSequenceClassification model).\n"
     ]
    }
   ],
   "source": [
    "# Define parameters for Unstructured's library\n",
    "strategy = \"hi_res\" # Strategy for analyzing PDFs and extracting table structure\n",
    "model_name = \"yolox\" # Best model for table extraction. Other options are detectron2_onnx and chipper depending on file layout\n",
    "\n",
    "# Extracts the elements from the PDF\n",
    "elements = partition_pdf(\n",
    "filename=filename, \n",
    "strategy=strategy, \n",
    "infer_table_structure=True, \n",
    "model_name=model_name\n",
    ")"
   ]
  },
  {
   "cell_type": "code",
   "execution_count": 7,
   "id": "7ea7d3a6",
   "metadata": {},
   "outputs": [
    {
     "data": {
      "text/plain": [
       "1032"
      ]
     },
     "execution_count": 7,
     "metadata": {},
     "output_type": "execute_result"
    }
   ],
   "source": [
    "len(elements)"
   ]
  },
  {
   "cell_type": "code",
   "execution_count": 16,
   "id": "9ec629a3",
   "metadata": {},
   "outputs": [
    {
     "data": {
      "text/plain": [
       "[<unstructured.documents.elements.Header at 0x7f82c2156e80>,\n",
       " <unstructured.documents.elements.NarrativeText at 0x7f82c21c0e80>,\n",
       " <unstructured.documents.elements.NarrativeText at 0x7f82c21abaf0>,\n",
       " <unstructured.documents.elements.NarrativeText at 0x7f82c21abdf0>,\n",
       " <unstructured.documents.elements.NarrativeText at 0x7f82c21ab370>,\n",
       " <unstructured.documents.elements.Text at 0x7f82c0164610>,\n",
       " <unstructured.documents.elements.Title at 0x7f82c0164670>,\n",
       " <unstructured.documents.elements.Title at 0x7f82c0164b50>,\n",
       " <unstructured.documents.elements.Title at 0x7f82c01648e0>,\n",
       " <unstructured.documents.elements.Title at 0x7f82c01d4f40>,\n",
       " <unstructured.documents.elements.Title at 0x7f82c1eb5550>,\n",
       " <unstructured.documents.elements.NarrativeText at 0x7f82c01d8ac0>,\n",
       " <unstructured.documents.elements.Image at 0x7f82c1eb52b0>,\n",
       " <unstructured.documents.elements.NarrativeText at 0x7f82c01d87f0>,\n",
       " <unstructured.documents.elements.Text at 0x7f82c01d89d0>]"
      ]
     },
     "execution_count": 16,
     "metadata": {},
     "output_type": "execute_result"
    }
   ],
   "source": [
    "elements[0:15]"
   ]
  },
  {
   "cell_type": "code",
   "execution_count": 20,
   "id": "dbb15746",
   "metadata": {},
   "outputs": [
    {
     "data": {
      "text/plain": [
       "[<unstructured.documents.elements.NarrativeText at 0x7f82c01ded60>,\n",
       " <unstructured.documents.elements.NarrativeText at 0x7f82c01deeb0>,\n",
       " <unstructured.documents.elements.Footer at 0x7f82c01e0040>,\n",
       " <unstructured.documents.elements.Header at 0x7f82c01e00d0>,\n",
       " <unstructured.documents.elements.NarrativeText at 0x7f82c01e02e0>,\n",
       " <unstructured.documents.elements.NarrativeText at 0x7f82c01e0430>,\n",
       " <unstructured.documents.elements.ListItem at 0x7f82c01e0580>,\n",
       " <unstructured.documents.elements.NarrativeText at 0x7f82c01e06d0>,\n",
       " <unstructured.documents.elements.Title at 0x7f82c01e0820>,\n",
       " <unstructured.documents.elements.Table at 0x7f82c01e0970>,\n",
       " <unstructured.documents.elements.Title at 0x7f82c01e0ac0>,\n",
       " <unstructured.documents.elements.NarrativeText at 0x7f82c020b6d0>,\n",
       " <unstructured.documents.elements.NarrativeText at 0x7f82c01bef40>,\n",
       " <unstructured.documents.elements.Title at 0x7f82c01bed30>,\n",
       " <unstructured.documents.elements.NarrativeText at 0x7f82c01e3430>,\n",
       " <unstructured.documents.elements.NarrativeText at 0x7f82c01a40a0>,\n",
       " <unstructured.documents.elements.Footer at 0x7f82c01e36d0>,\n",
       " <unstructured.documents.elements.Header at 0x7f82c01e38b0>,\n",
       " <unstructured.documents.elements.Table at 0x7f82c01e3ac0>,\n",
       " <unstructured.documents.elements.ListItem at 0x7f82c01e3c10>]"
      ]
     },
     "execution_count": 20,
     "metadata": {},
     "output_type": "execute_result"
    }
   ],
   "source": [
    "elements[210:230]"
   ]
  },
  {
   "cell_type": "code",
   "execution_count": 26,
   "id": "8e0ad2b7",
   "metadata": {},
   "outputs": [
    {
     "data": {
      "text/plain": [
       "<unstructured.documents.elements.Table at 0x7f82c01e3ac0>"
      ]
     },
     "execution_count": 26,
     "metadata": {},
     "output_type": "execute_result"
    }
   ],
   "source": [
    "elements[228]"
   ]
  },
  {
   "cell_type": "code",
   "execution_count": 32,
   "id": "06f6faa0",
   "metadata": {},
   "outputs": [
    {
     "data": {
      "text/plain": [
       "(unstructured.documents.elements.Table,\n",
       " ['text',\n",
       "  'embeddings',\n",
       "  'id',\n",
       "  'metadata',\n",
       "  '__module__',\n",
       "  '__doc__',\n",
       "  'category',\n",
       "  '__abstractmethods__',\n",
       "  '_abc_impl',\n",
       "  '__init__',\n",
       "  '__str__',\n",
       "  '__eq__',\n",
       "  'to_dict',\n",
       "  'apply',\n",
       "  '__hash__',\n",
       "  'id_to_uuid',\n",
       "  'convert_coordinates_to_new_system',\n",
       "  '__dict__',\n",
       "  '__weakref__',\n",
       "  '__slots__',\n",
       "  '__repr__',\n",
       "  '__getattribute__',\n",
       "  '__setattr__',\n",
       "  '__delattr__',\n",
       "  '__lt__',\n",
       "  '__le__',\n",
       "  '__ne__',\n",
       "  '__gt__',\n",
       "  '__ge__',\n",
       "  '__new__',\n",
       "  '__reduce_ex__',\n",
       "  '__reduce__',\n",
       "  '__subclasshook__',\n",
       "  '__init_subclass__',\n",
       "  '__format__',\n",
       "  '__sizeof__',\n",
       "  '__dir__',\n",
       "  '__class__'])"
      ]
     },
     "execution_count": 32,
     "metadata": {},
     "output_type": "execute_result"
    }
   ],
   "source": [
    "type(elements[228]), elements[228].__dir__()"
   ]
  },
  {
   "cell_type": "code",
   "execution_count": 33,
   "id": "f39f94ad",
   "metadata": {},
   "outputs": [
    {
     "data": {
      "text/plain": [
       "('34f06c429e0ad15d7124b22b55b7a60d',\n",
       " ElementMetadata(coordinates=CoordinatesMetadata(points=((344.7955322265625, 197.3468475341797), (344.7955322265625, 470.82499999999953), (1514.935791015625, 470.82499999999953), (1514.935791015625, 197.3468475341797)), system=<unstructured.documents.coordinates.PixelSpace object at 0x7f82c01e3970>), data_source=None, filename='Prot_SAP_002.pdf', file_directory='/home/ubuntu/codebase/my_github/generative-ai-experiments/unstructured-library//study_protocols', last_modified='2023-11-27T19:39:04', filetype='application/pdf', attached_to_filename=None, parent_id='81760e97e9c1b5114829f35fa89cab88', category_depth=None, image_path=None, languages=None, page_number=18, page_name=None, url=None, link_urls=None, link_texts=None, links=None, sent_from=None, sent_to=None, subject=None, section=None, header_footer_type=None, emphasized_text_contents=None, emphasized_text_tags=None, text_as_html='<table><thead><th>Dose Level</th><th>Loperamide Dose</th><th>Tablets/Capsules per day</th></thead><tr><td>0</td><td>4 mg TID</td><td>6 tablets/capsules a day</td></tr><tr><td>-1</td><td>4 mg BID</td><td>4 tablets/capsules a day</td></tr><tr><td>-2</td><td>2 mg TID</td><td>3 tablets/capsules a day</td></tr><tr><td>-3</td><td>2 mg BID</td><td>2 tablets/capsules a day</td></tr><tr><td>-4</td><td>2 mg once a day</td><td>1 tablet/capsule a day</td></tr></table>', regex_metadata=None, max_characters=None, is_continuation=None, detection_class_prob=0.9141538739204407),\n",
       " 'T a bl ets/ C a ps ul es p er d a y D os e L e v el 6 t a bl ets/ c a ps ul es a d a y 0 4 t a bl ets/ c a ps ul es a d a y - 1 3 t a bl ets/ c a ps ul es a d a y - 2 2 t a bl ets/ c a ps ul es a d a y - 3 - 4 1 t a bl et/ c a ps ul e a d a y A b br e vi ati o ns: BI D = t wi c e d ail y; m g = milli gr a ms; TI D = t hr e e ti m es d ail y.')"
      ]
     },
     "execution_count": 33,
     "metadata": {},
     "output_type": "execute_result"
    }
   ],
   "source": [
    "elements[228].id, elements[228].metadata, elements[228].text"
   ]
  },
  {
   "cell_type": "code",
   "execution_count": 36,
   "id": "5b4d5218",
   "metadata": {},
   "outputs": [
    {
     "data": {
      "text/plain": [
       "ElementMetadata(coordinates=CoordinatesMetadata(points=((344.7955322265625, 197.3468475341797), (344.7955322265625, 470.82499999999953), (1514.935791015625, 470.82499999999953), (1514.935791015625, 197.3468475341797)), system=<unstructured.documents.coordinates.PixelSpace object at 0x7f82c01e3970>), data_source=None, filename='Prot_SAP_002.pdf', file_directory='/home/ubuntu/codebase/my_github/generative-ai-experiments/unstructured-library//study_protocols', last_modified='2023-11-27T19:39:04', filetype='application/pdf', attached_to_filename=None, parent_id='81760e97e9c1b5114829f35fa89cab88', category_depth=None, image_path=None, languages=None, page_number=18, page_name=None, url=None, link_urls=None, link_texts=None, links=None, sent_from=None, sent_to=None, subject=None, section=None, header_footer_type=None, emphasized_text_contents=None, emphasized_text_tags=None, text_as_html='<table><thead><th>Dose Level</th><th>Loperamide Dose</th><th>Tablets/Capsules per day</th></thead><tr><td>0</td><td>4 mg TID</td><td>6 tablets/capsules a day</td></tr><tr><td>-1</td><td>4 mg BID</td><td>4 tablets/capsules a day</td></tr><tr><td>-2</td><td>2 mg TID</td><td>3 tablets/capsules a day</td></tr><tr><td>-3</td><td>2 mg BID</td><td>2 tablets/capsules a day</td></tr><tr><td>-4</td><td>2 mg once a day</td><td>1 tablet/capsule a day</td></tr></table>', regex_metadata=None, max_characters=None, is_continuation=None, detection_class_prob=0.9141538739204407)"
      ]
     },
     "execution_count": 36,
     "metadata": {},
     "output_type": "execute_result"
    }
   ],
   "source": [
    "elements[228].metadata"
   ]
  },
  {
   "cell_type": "code",
   "execution_count": 38,
   "id": "c4a535d7",
   "metadata": {},
   "outputs": [
    {
     "name": "stdout",
     "output_type": "stream",
     "text": [
      "<table><thead><th>Dose Level</th><th>Loperamide Dose</th><th>Tablets/Capsules per day</th></thead><tr><td>0</td><td>4 mg TID</td><td>6 tablets/capsules a day</td></tr><tr><td>-1</td><td>4 mg BID</td><td>4 tablets/capsules a day</td></tr><tr><td>-2</td><td>2 mg TID</td><td>3 tablets/capsules a day</td></tr><tr><td>-3</td><td>2 mg BID</td><td>2 tablets/capsules a day</td></tr><tr><td>-4</td><td>2 mg once a day</td><td>1 tablet/capsule a day</td></tr></table>\n"
     ]
    }
   ],
   "source": [
    "print(elements[228].metadata.text_as_html)"
   ]
  },
  {
   "cell_type": "code",
   "execution_count": 39,
   "id": "bbbb6ad4",
   "metadata": {},
   "outputs": [
    {
     "data": {
      "text/html": [
       "<table><thead><th>Dose Level</th><th>Loperamide Dose</th><th>Tablets/Capsules per day</th></thead><tr><td>0</td><td>4 mg TID</td><td>6 tablets/capsules a day</td></tr><tr><td>-1</td><td>4 mg BID</td><td>4 tablets/capsules a day</td></tr><tr><td>-2</td><td>2 mg TID</td><td>3 tablets/capsules a day</td></tr><tr><td>-3</td><td>2 mg BID</td><td>2 tablets/capsules a day</td></tr><tr><td>-4</td><td>2 mg once a day</td><td>1 tablet/capsule a day</td></tr></table>"
      ],
      "text/plain": [
       "<IPython.core.display.HTML object>"
      ]
     },
     "execution_count": 39,
     "metadata": {},
     "output_type": "execute_result"
    }
   ],
   "source": [
    "# Page 18\n",
    "IPython.display.HTML(elements[228].metadata.text_as_html)"
   ]
  },
  {
   "cell_type": "code",
   "execution_count": 60,
   "id": "f5ab82fb",
   "metadata": {},
   "outputs": [
    {
     "data": {
      "text/html": [
       "<table><thead><th>System Organ Class</th><th>Causality Frequency</th><th>Preferred Term</th><th>%</th><th>%</th><th>%</th></thead><tr><td rowspan=\"3\">Titi ninei Metabolism and nutrition disorders</td><td>Gin</td><td>Unmyeatnktin</td><td>Ss</td><td>of</td><td>i»</td></tr><tr><td></td><td>Very common</td><td>Decreased appetite</td><td>12</td><td>0.2</td><td>0</td></tr><tr><td></td><td>Common</td><td>Dehydration</td><td>3.6</td><td>09</td><td>0.1</td></tr><tr><td>Respiratory. thoracic and mediastinal disorders</td><td>Common</td><td>Epistaxis</td><td>5</td><td>0</td><td>0</td></tr><tr><td rowspan=\"9\">Gastrointestinal disorders</td><td rowspan=\"7\">Very common</td><td>Diarrhoea</td><td>95.4</td><td>39.8</td><td>0.1</td></tr><tr><td></td><td></td><td>‘Nausea</td><td>B</td><td>18</td><td>0</td></tr><tr><td></td><td></td><td>Vomiting</td><td>26.2</td><td>a5</td><td>0</td></tr><tr><td></td><td></td><td>Abdominal pain</td><td>24</td><td>a7;</td><td>0</td></tr><tr><td></td><td></td><td>Abdominal pain upper</td><td>15.1</td><td>08</td><td>0</td></tr><tr><td></td><td></td><td>Stomatitis*</td><td>10.8</td><td>0.6</td><td>0</td></tr><tr><td></td><td rowspan=\"3\">Common</td><td></td><td>Dyspepsia</td><td>98</td><td>04</td><td>0</td></tr><tr><td></td><td></td><td>Abdominal distension</td><td>5.2</td><td>03</td><td>0</td></tr><tr><td rowspan=\"4\">Hepatobiliary disorders</td><td></td><td></td><td></td><td>Dry mouth</td><td>Ba</td><td>0.1</td><td>0</td></tr><tr><td></td><td rowspan=\"2\">Common</td><td>Alanine aminotransferase increased</td><td>8.5</td><td>11</td><td>02</td></tr><tr><td></td><td></td><td>Aspartate aminotransferase increased</td><td>74</td><td>0.5</td><td>0.2</td></tr><tr><td>Uncommon</td><td>Blood bilirubin increased</td><td>03</td><td>0</td><td>0</td></tr><tr><td rowspan=\"4\">Skin and subcutaneous tissue disorders</td><td>Very common</td><td>Rash”</td><td>15.8</td><td>04</td><td>0</td></tr><tr><td></td><td rowspan=\"3\">Common</td><td>Nail disorder®</td><td>8</td><td>03</td><td>0</td></tr><tr><td></td><td></td><td>Dry skin</td><td>6</td><td>0</td><td>0</td></tr><tr><td></td><td></td><td>Skin fissures</td><td>2</td><td>01</td><td>0</td></tr><tr><td>Musculoskeletal and connective tissue disorders</td><td>Verycommon</td><td>Muscle spasms</td><td>11.2</td><td>01</td><td>0</td></tr><tr><td rowspan=\"2\">Renal and urinary disorders</td><td>Common</td><td>Blood creatinine increased</td><td>1</td><td>01</td><td>0.1</td></tr><tr><td></td><td>Uncommon</td><td>Renal failure</td><td>03</td><td>0.2</td><td>0</td></tr><tr><td>General disorders and administration site conditions</td><td>Very common</td><td>Fatigue</td><td>27.1</td><td>1.6</td><td>0</td></tr><tr><td>Investigations</td><td>Common</td><td>Weight decreased</td><td>48</td><td>01</td><td>0</td></tr></table>"
      ],
      "text/plain": [
       "<IPython.core.display.HTML object>"
      ]
     },
     "execution_count": 60,
     "metadata": {},
     "output_type": "execute_result"
    }
   ],
   "source": [
    "# page 29\n",
    "IPython.display.HTML(elements[371].metadata.text_as_html)"
   ]
  },
  {
   "cell_type": "code",
   "execution_count": 52,
   "id": "f5fe7a62",
   "metadata": {},
   "outputs": [
    {
     "data": {
      "text/html": [
       "<table><thead><th></th><th rowspan=\"2\">Baseline &lt;4 Weeks prior to registration</th><th colspan=\"3\">Cycle 1</th><th colspan=\"3\">Subsequent Cycles</th><th rowspan=\"2\">End of | therapy or | Progression |</th><th rowspan=\"2\">Follow up (every 6 months)</th></thead><thead><th></th><th></th><th>Day 1</th><th>Day 2, 3,4 in person or by phone)</th><th>D15</th><th>Day 1</th><th>Every2 | cycles</th><th>Every3 cycles</th><th></th><th></th></thead><tr><td>Informed consent</td><td>~</td><td></td><td></td><td></td><td></td><td></td><td></td><td></td><td></td></tr><tr><td>Patient Education for Diarrhea</td><td></td><td></td><td></td><td></td><td></td><td></td><td></td><td></td><td></td></tr><tr><td>Demographics</td><td>|</td><td></td><td></td><td></td><td></td><td></td><td></td><td></td><td></td></tr><tr><td>Medical/surgical history</td><td>[Pd</td><td></td><td></td><td></td><td></td><td></td><td></td><td></td><td></td></tr><tr><td>Concomitant medications (See Section 5.4)</td><td></td><td></td><td></td><td></td><td></td><td></td><td></td><td></td><td></td></tr><tr><td>Height</td><td>[et</td><td></td><td></td><td></td><td></td><td></td><td></td><td></td><td></td></tr><tr><td>Vital Signs (Weight, Blood Pressure)</td><td></td><td></td><td></td><td></td><td></td><td></td><td></td><td></td><td></td></tr><tr><td>Physical examination, ECOG PS</td><td>[ed |</td><td>~</td><td></td><td></td><td>m</td><td></td><td></td><td>~</td><td></td></tr><tr><td>12-lead EKG</td><td></td><td></td><td></td><td></td><td></td><td></td><td></td><td></td><td></td></tr><tr><td>MUGA or echocardiogram“</td><td>TIPS</td><td></td><td></td><td></td><td></td><td></td><td></td><td></td><td></td></tr><tr><td>Urine Pregnancy test</td><td></td><td></td><td></td><td></td><td></td><td></td><td></td><td></td><td></td></tr><tr><td>Urinalysis</td><td>[Ph |</td><td></td><td></td><td></td><td></td><td></td><td></td><td></td><td></td></tr><tr><td>CBC, including differential and platelets®</td><td></td><td></td><td></td><td></td><td></td><td></td><td></td><td></td><td></td></tr><tr><td>Serum chemistries ®</td><td>P|</td><td>ms</td><td></td><td></td><td>tad</td><td></td><td></td><td></td><td></td></tr><tr><td>Research Collection: Blood or Tissue ©</td><td>~ a</td><td>A</td><td></td><td>~</td><td>~</td><td></td><td></td><td>~</td><td></td></tr><tr><td>Tumor Evaluation (MRI or CT and clinical assessment of visible of palpable lesions)?</td><td>~</td><td></td><td></td><td></td><td></td><td>m</td><td></td><td></td><td></td></tr><tr><td>Bone scan™</td><td>x</td><td></td><td></td><td></td><td></td><td>x</td><td></td><td></td><td></td></tr><tr><td>Adverse event evaluation</td><td></td><td>x</td><td>x</td><td></td><td>x</td><td></td><td></td><td>x</td><td></td></tr><tr><td>Phone call to assess for diarrhea (See Sections 5.3.3.)</td><td></td><td></td><td>x</td><td></td><td></td><td></td><td></td><td></td><td></td></tr></table>"
      ],
      "text/plain": [
       "<IPython.core.display.HTML object>"
      ]
     },
     "execution_count": 52,
     "metadata": {},
     "output_type": "execute_result"
    }
   ],
   "source": [
    "# page 46\n",
    "IPython.display.HTML(elements[601].metadata.text_as_html)"
   ]
  },
  {
   "cell_type": "code",
   "execution_count": null,
   "id": "0a784855",
   "metadata": {},
   "outputs": [],
   "source": []
  },
  {
   "cell_type": "code",
   "execution_count": null,
   "id": "7133732d",
   "metadata": {},
   "outputs": [],
   "source": [
    "# Store results in json\n",
    "elements_to_json(elements, filename=f\"{filename}.json\") # Takes a while for file to show up on the Google Colab"
   ]
  }
 ],
 "metadata": {
  "hide_input": false,
  "kernelspec": {
   "display_name": "Python 3 (ipykernel)",
   "language": "python",
   "name": "python3"
  },
  "language_info": {
   "codemirror_mode": {
    "name": "ipython",
    "version": 3
   },
   "file_extension": ".py",
   "mimetype": "text/x-python",
   "name": "python",
   "nbconvert_exporter": "python",
   "pygments_lexer": "ipython3",
   "version": "3.9.18"
  },
  "toc": {
   "base_numbering": 1,
   "nav_menu": {},
   "number_sections": true,
   "sideBar": true,
   "skip_h1_title": false,
   "title_cell": "Table of Contents",
   "title_sidebar": "Contents",
   "toc_cell": false,
   "toc_position": {},
   "toc_section_display": true,
   "toc_window_display": false
  }
 },
 "nbformat": 4,
 "nbformat_minor": 5
}
